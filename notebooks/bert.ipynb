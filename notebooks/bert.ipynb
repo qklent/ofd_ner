{
  "cells": [
    {
      "cell_type": "code",
      "execution_count": null,
      "metadata": {
        "id": "PdDhNQNpvdu7",
        "colab": {
          "base_uri": "https://localhost:8080/"
        },
        "outputId": "4b9061c9-d59b-44e4-bbc3-47a0f9a39cef"
      },
      "outputs": [
        {
          "output_type": "stream",
          "name": "stdout",
          "text": [
            "Collecting razdel\n",
            "  Downloading razdel-0.5.0-py3-none-any.whl (21 kB)\n",
            "Collecting transformers\n",
            "  Downloading transformers-4.30.2-py3-none-any.whl (7.2 MB)\n",
            "\u001b[2K     \u001b[90m━━━━━━━━━━━━━━━━━━━━━━━━━━━━━━━━━━━━━━━━\u001b[0m \u001b[32m7.2/7.2 MB\u001b[0m \u001b[31m69.3 MB/s\u001b[0m eta \u001b[36m0:00:00\u001b[0m\n",
            "\u001b[?25hCollecting datasets\n",
            "  Downloading datasets-2.13.1-py3-none-any.whl (486 kB)\n",
            "\u001b[2K     \u001b[90m━━━━━━━━━━━━━━━━━━━━━━━━━━━━━━━━━━━━━━\u001b[0m \u001b[32m486.2/486.2 kB\u001b[0m \u001b[31m48.7 MB/s\u001b[0m eta \u001b[36m0:00:00\u001b[0m\n",
            "\u001b[?25hCollecting accelerate\n",
            "  Downloading accelerate-0.20.3-py3-none-any.whl (227 kB)\n",
            "\u001b[2K     \u001b[90m━━━━━━━━━━━━━━━━━━━━━━━━━━━━━━━━━━━━━━\u001b[0m \u001b[32m227.6/227.6 kB\u001b[0m \u001b[31m31.2 MB/s\u001b[0m eta \u001b[36m0:00:00\u001b[0m\n",
            "\u001b[?25hCollecting seqeval\n",
            "  Downloading seqeval-1.2.2.tar.gz (43 kB)\n",
            "\u001b[2K     \u001b[90m━━━━━━━━━━━━━━━━━━━━━━━━━━━━━━━━━━━━━━━━\u001b[0m \u001b[32m43.6/43.6 kB\u001b[0m \u001b[31m5.9 MB/s\u001b[0m eta \u001b[36m0:00:00\u001b[0m\n",
            "\u001b[?25h  Preparing metadata (setup.py) ... \u001b[?25l\u001b[?25hdone\n",
            "Collecting evaluate\n",
            "  Downloading evaluate-0.4.0-py3-none-any.whl (81 kB)\n",
            "\u001b[2K     \u001b[90m━━━━━━━━━━━━━━━━━━━━━━━━━━━━━━━━━━━━━━━━\u001b[0m \u001b[32m81.4/81.4 kB\u001b[0m \u001b[31m11.4 MB/s\u001b[0m eta \u001b[36m0:00:00\u001b[0m\n",
            "\u001b[?25hRequirement already satisfied: filelock in /usr/local/lib/python3.10/dist-packages (from transformers) (3.12.2)\n",
            "Collecting huggingface-hub<1.0,>=0.14.1 (from transformers)\n",
            "  Downloading huggingface_hub-0.15.1-py3-none-any.whl (236 kB)\n",
            "\u001b[2K     \u001b[90m━━━━━━━━━━━━━━━━━━━━━━━━━━━━━━━━━━━━━━\u001b[0m \u001b[32m236.8/236.8 kB\u001b[0m \u001b[31m26.3 MB/s\u001b[0m eta \u001b[36m0:00:00\u001b[0m\n",
            "\u001b[?25hRequirement already satisfied: numpy>=1.17 in /usr/local/lib/python3.10/dist-packages (from transformers) (1.22.4)\n",
            "Requirement already satisfied: packaging>=20.0 in /usr/local/lib/python3.10/dist-packages (from transformers) (23.1)\n",
            "Requirement already satisfied: pyyaml>=5.1 in /usr/local/lib/python3.10/dist-packages (from transformers) (6.0)\n",
            "Requirement already satisfied: regex!=2019.12.17 in /usr/local/lib/python3.10/dist-packages (from transformers) (2022.10.31)\n",
            "Requirement already satisfied: requests in /usr/local/lib/python3.10/dist-packages (from transformers) (2.27.1)\n",
            "Collecting tokenizers!=0.11.3,<0.14,>=0.11.1 (from transformers)\n",
            "  Downloading tokenizers-0.13.3-cp310-cp310-manylinux_2_17_x86_64.manylinux2014_x86_64.whl (7.8 MB)\n",
            "\u001b[2K     \u001b[90m━━━━━━━━━━━━━━━━━━━━━━━━━━━━━━━━━━━━━━━━\u001b[0m \u001b[32m7.8/7.8 MB\u001b[0m \u001b[31m96.6 MB/s\u001b[0m eta \u001b[36m0:00:00\u001b[0m\n",
            "\u001b[?25hCollecting safetensors>=0.3.1 (from transformers)\n",
            "  Downloading safetensors-0.3.1-cp310-cp310-manylinux_2_17_x86_64.manylinux2014_x86_64.whl (1.3 MB)\n",
            "\u001b[2K     \u001b[90m━━━━━━━━━━━━━━━━━━━━━━━━━━━━━━━━━━━━━━━━\u001b[0m \u001b[32m1.3/1.3 MB\u001b[0m \u001b[31m54.1 MB/s\u001b[0m eta \u001b[36m0:00:00\u001b[0m\n",
            "\u001b[?25hRequirement already satisfied: tqdm>=4.27 in /usr/local/lib/python3.10/dist-packages (from transformers) (4.65.0)\n",
            "Requirement already satisfied: pyarrow>=8.0.0 in /usr/local/lib/python3.10/dist-packages (from datasets) (9.0.0)\n",
            "Collecting dill<0.3.7,>=0.3.0 (from datasets)\n",
            "  Downloading dill-0.3.6-py3-none-any.whl (110 kB)\n",
            "\u001b[2K     \u001b[90m━━━━━━━━━━━━━━━━━━━━━━━━━━━━━━━━━━━━━━\u001b[0m \u001b[32m110.5/110.5 kB\u001b[0m \u001b[31m15.3 MB/s\u001b[0m eta \u001b[36m0:00:00\u001b[0m\n",
            "\u001b[?25hRequirement already satisfied: pandas in /usr/local/lib/python3.10/dist-packages (from datasets) (1.5.3)\n",
            "Collecting xxhash (from datasets)\n",
            "  Downloading xxhash-3.2.0-cp310-cp310-manylinux_2_17_x86_64.manylinux2014_x86_64.whl (212 kB)\n",
            "\u001b[2K     \u001b[90m━━━━━━━━━━━━━━━━━━━━━━━━━━━━━━━━━━━━━━\u001b[0m \u001b[32m212.5/212.5 kB\u001b[0m \u001b[31m27.0 MB/s\u001b[0m eta \u001b[36m0:00:00\u001b[0m\n",
            "\u001b[?25hCollecting multiprocess (from datasets)\n",
            "  Downloading multiprocess-0.70.14-py310-none-any.whl (134 kB)\n",
            "\u001b[2K     \u001b[90m━━━━━━━━━━━━━━━━━━━━━━━━━━━━━━━━━━━━━━\u001b[0m \u001b[32m134.3/134.3 kB\u001b[0m \u001b[31m18.2 MB/s\u001b[0m eta \u001b[36m0:00:00\u001b[0m\n",
            "\u001b[?25hRequirement already satisfied: fsspec[http]>=2021.11.1 in /usr/local/lib/python3.10/dist-packages (from datasets) (2023.6.0)\n",
            "Requirement already satisfied: aiohttp in /usr/local/lib/python3.10/dist-packages (from datasets) (3.8.4)\n",
            "Requirement already satisfied: psutil in /usr/local/lib/python3.10/dist-packages (from accelerate) (5.9.5)\n",
            "Requirement already satisfied: torch>=1.6.0 in /usr/local/lib/python3.10/dist-packages (from accelerate) (2.0.1+cu118)\n",
            "Requirement already satisfied: scikit-learn>=0.21.3 in /usr/local/lib/python3.10/dist-packages (from seqeval) (1.2.2)\n",
            "Collecting responses<0.19 (from evaluate)\n",
            "  Downloading responses-0.18.0-py3-none-any.whl (38 kB)\n",
            "Requirement already satisfied: attrs>=17.3.0 in /usr/local/lib/python3.10/dist-packages (from aiohttp->datasets) (23.1.0)\n",
            "Requirement already satisfied: charset-normalizer<4.0,>=2.0 in /usr/local/lib/python3.10/dist-packages (from aiohttp->datasets) (2.0.12)\n",
            "Requirement already satisfied: multidict<7.0,>=4.5 in /usr/local/lib/python3.10/dist-packages (from aiohttp->datasets) (6.0.4)\n",
            "Requirement already satisfied: async-timeout<5.0,>=4.0.0a3 in /usr/local/lib/python3.10/dist-packages (from aiohttp->datasets) (4.0.2)\n",
            "Requirement already satisfied: yarl<2.0,>=1.0 in /usr/local/lib/python3.10/dist-packages (from aiohttp->datasets) (1.9.2)\n",
            "Requirement already satisfied: frozenlist>=1.1.1 in /usr/local/lib/python3.10/dist-packages (from aiohttp->datasets) (1.3.3)\n",
            "Requirement already satisfied: aiosignal>=1.1.2 in /usr/local/lib/python3.10/dist-packages (from aiohttp->datasets) (1.3.1)\n",
            "Requirement already satisfied: typing-extensions>=3.7.4.3 in /usr/local/lib/python3.10/dist-packages (from huggingface-hub<1.0,>=0.14.1->transformers) (4.6.3)\n",
            "Requirement already satisfied: urllib3<1.27,>=1.21.1 in /usr/local/lib/python3.10/dist-packages (from requests->transformers) (1.26.16)\n",
            "Requirement already satisfied: certifi>=2017.4.17 in /usr/local/lib/python3.10/dist-packages (from requests->transformers) (2023.5.7)\n",
            "Requirement already satisfied: idna<4,>=2.5 in /usr/local/lib/python3.10/dist-packages (from requests->transformers) (3.4)\n",
            "Requirement already satisfied: scipy>=1.3.2 in /usr/local/lib/python3.10/dist-packages (from scikit-learn>=0.21.3->seqeval) (1.10.1)\n",
            "Requirement already satisfied: joblib>=1.1.1 in /usr/local/lib/python3.10/dist-packages (from scikit-learn>=0.21.3->seqeval) (1.2.0)\n",
            "Requirement already satisfied: threadpoolctl>=2.0.0 in /usr/local/lib/python3.10/dist-packages (from scikit-learn>=0.21.3->seqeval) (3.1.0)\n",
            "Requirement already satisfied: sympy in /usr/local/lib/python3.10/dist-packages (from torch>=1.6.0->accelerate) (1.11.1)\n",
            "Requirement already satisfied: networkx in /usr/local/lib/python3.10/dist-packages (from torch>=1.6.0->accelerate) (3.1)\n",
            "Requirement already satisfied: jinja2 in /usr/local/lib/python3.10/dist-packages (from torch>=1.6.0->accelerate) (3.1.2)\n",
            "Requirement already satisfied: triton==2.0.0 in /usr/local/lib/python3.10/dist-packages (from torch>=1.6.0->accelerate) (2.0.0)\n",
            "Requirement already satisfied: cmake in /usr/local/lib/python3.10/dist-packages (from triton==2.0.0->torch>=1.6.0->accelerate) (3.25.2)\n",
            "Requirement already satisfied: lit in /usr/local/lib/python3.10/dist-packages (from triton==2.0.0->torch>=1.6.0->accelerate) (16.0.6)\n",
            "Requirement already satisfied: python-dateutil>=2.8.1 in /usr/local/lib/python3.10/dist-packages (from pandas->datasets) (2.8.2)\n",
            "Requirement already satisfied: pytz>=2020.1 in /usr/local/lib/python3.10/dist-packages (from pandas->datasets) (2022.7.1)\n",
            "Requirement already satisfied: six>=1.5 in /usr/local/lib/python3.10/dist-packages (from python-dateutil>=2.8.1->pandas->datasets) (1.16.0)\n",
            "Requirement already satisfied: MarkupSafe>=2.0 in /usr/local/lib/python3.10/dist-packages (from jinja2->torch>=1.6.0->accelerate) (2.1.3)\n",
            "Requirement already satisfied: mpmath>=0.19 in /usr/local/lib/python3.10/dist-packages (from sympy->torch>=1.6.0->accelerate) (1.3.0)\n",
            "Building wheels for collected packages: seqeval\n",
            "  Building wheel for seqeval (setup.py) ... \u001b[?25l\u001b[?25hdone\n",
            "  Created wheel for seqeval: filename=seqeval-1.2.2-py3-none-any.whl size=16165 sha256=2e73883feecd8c2dbaf66a0648e15df96982956c5a62dce5aabbc014b850e682\n",
            "  Stored in directory: /root/.cache/pip/wheels/1a/67/4a/ad4082dd7dfc30f2abfe4d80a2ed5926a506eb8a972b4767fa\n",
            "Successfully built seqeval\n",
            "Installing collected packages: tokenizers, safetensors, razdel, xxhash, dill, responses, multiprocess, huggingface-hub, transformers, seqeval, datasets, evaluate, accelerate\n",
            "Successfully installed accelerate-0.20.3 datasets-2.13.1 dill-0.3.6 evaluate-0.4.0 huggingface-hub-0.15.1 multiprocess-0.70.14 razdel-0.5.0 responses-0.18.0 safetensors-0.3.1 seqeval-1.2.2 tokenizers-0.13.3 transformers-4.30.2 xxhash-3.2.0\n"
          ]
        }
      ],
      "source": [
        "    !pip install razdel transformers datasets accelerate seqeval evaluate"
      ],
      "id": "PdDhNQNpvdu7"
    },
    {
      "cell_type": "code",
      "source": [
        "from google.colab import drive\n",
        "drive.mount('/content/drive')"
      ],
      "metadata": {
        "colab": {
          "base_uri": "https://localhost:8080/"
        },
        "id": "KXaly45uPl4w",
        "outputId": "02f1aa09-5cc0-42d7-8d48-e19a2706ac09"
      },
      "id": "KXaly45uPl4w",
      "execution_count": null,
      "outputs": [
        {
          "output_type": "stream",
          "name": "stdout",
          "text": [
            "Mounted at /content/drive\n"
          ]
        }
      ]
    },
    {
      "cell_type": "code",
      "execution_count": null,
      "metadata": {
        "id": "e6f2699b-d0d9-4235-8d8f-d3bac8dc0c4d"
      },
      "outputs": [],
      "source": [
        "import pandas as pd\n",
        "import razdel\n",
        "from razdel import tokenize\n",
        "import string\n",
        "import re\n",
        "from transformers import AutoTokenizer, BertForTokenClassification, pipeline\n",
        "import numpy as np\n",
        "from datasets import load_dataset\n",
        "import transformers\n",
        "from accelerate import Accelerator\n",
        "import torch\n",
        "from torch import nn"
      ],
      "id": "e6f2699b-d0d9-4235-8d8f-d3bac8dc0c4d"
    },
    {
      "cell_type": "code",
      "execution_count": null,
      "metadata": {
        "id": "AA5PT2GmxxGp"
      },
      "outputs": [],
      "source": [
        "seed = 1488\n",
        "transformers.set_seed(seed)\n",
        "torch.manual_seed(seed)\n",
        "torch.cuda.manual_seed_all(seed)"
      ],
      "id": "AA5PT2GmxxGp"
    },
    {
      "cell_type": "code",
      "execution_count": null,
      "metadata": {
        "id": "ab522e4e-d537-4d4b-82ad-aa7cd88e6f59"
      },
      "outputs": [],
      "source": [
        "path_to_train_raw_data = \"/content/drive/MyDrive/data/train_supervised_dataset.csv\""
      ],
      "id": "ab522e4e-d537-4d4b-82ad-aa7cd88e6f59"
    },
    {
      "cell_type": "code",
      "execution_count": null,
      "metadata": {
        "colab": {
          "base_uri": "https://localhost:8080/",
          "height": 206
        },
        "id": "6e3f5bef-057a-4452-8482-ab10cd835091",
        "outputId": "a35f9d45-b562-4591-c693-4f0985b67106"
      },
      "outputs": [
        {
          "output_type": "execute_result",
          "data": {
            "text/plain": [
              "   id                                            name      good          brand\n",
              "0   0         Petmax Бантик леопард с красн розой 2шт    бантик         petmax\n",
              "1   1                87191 Бусы для елки шарики_87191      бусы            NaN\n",
              "2   2              Футболка Piazza Italia WR011446881  футболка  piazza italia\n",
              "3   3  7) YI572-03X-ONE ЗАКОЛКА ДЛЯ ВОЛОС ДЛЯ ДЕВОЧКИ   заколка            NaN\n",
              "4   4                               Одежда (вес) 1500    одежда            NaN"
            ],
            "text/html": [
              "\n",
              "  <div id=\"df-e523f8a0-ffc4-465f-8909-217e763e7ced\">\n",
              "    <div class=\"colab-df-container\">\n",
              "      <div>\n",
              "<style scoped>\n",
              "    .dataframe tbody tr th:only-of-type {\n",
              "        vertical-align: middle;\n",
              "    }\n",
              "\n",
              "    .dataframe tbody tr th {\n",
              "        vertical-align: top;\n",
              "    }\n",
              "\n",
              "    .dataframe thead th {\n",
              "        text-align: right;\n",
              "    }\n",
              "</style>\n",
              "<table border=\"1\" class=\"dataframe\">\n",
              "  <thead>\n",
              "    <tr style=\"text-align: right;\">\n",
              "      <th></th>\n",
              "      <th>id</th>\n",
              "      <th>name</th>\n",
              "      <th>good</th>\n",
              "      <th>brand</th>\n",
              "    </tr>\n",
              "  </thead>\n",
              "  <tbody>\n",
              "    <tr>\n",
              "      <th>0</th>\n",
              "      <td>0</td>\n",
              "      <td>Petmax Бантик леопард с красн розой 2шт</td>\n",
              "      <td>бантик</td>\n",
              "      <td>petmax</td>\n",
              "    </tr>\n",
              "    <tr>\n",
              "      <th>1</th>\n",
              "      <td>1</td>\n",
              "      <td>87191 Бусы для елки шарики_87191</td>\n",
              "      <td>бусы</td>\n",
              "      <td>NaN</td>\n",
              "    </tr>\n",
              "    <tr>\n",
              "      <th>2</th>\n",
              "      <td>2</td>\n",
              "      <td>Футболка Piazza Italia WR011446881</td>\n",
              "      <td>футболка</td>\n",
              "      <td>piazza italia</td>\n",
              "    </tr>\n",
              "    <tr>\n",
              "      <th>3</th>\n",
              "      <td>3</td>\n",
              "      <td>7) YI572-03X-ONE ЗАКОЛКА ДЛЯ ВОЛОС ДЛЯ ДЕВОЧКИ</td>\n",
              "      <td>заколка</td>\n",
              "      <td>NaN</td>\n",
              "    </tr>\n",
              "    <tr>\n",
              "      <th>4</th>\n",
              "      <td>4</td>\n",
              "      <td>Одежда (вес) 1500</td>\n",
              "      <td>одежда</td>\n",
              "      <td>NaN</td>\n",
              "    </tr>\n",
              "  </tbody>\n",
              "</table>\n",
              "</div>\n",
              "      <button class=\"colab-df-convert\" onclick=\"convertToInteractive('df-e523f8a0-ffc4-465f-8909-217e763e7ced')\"\n",
              "              title=\"Convert this dataframe to an interactive table.\"\n",
              "              style=\"display:none;\">\n",
              "        \n",
              "  <svg xmlns=\"http://www.w3.org/2000/svg\" height=\"24px\"viewBox=\"0 0 24 24\"\n",
              "       width=\"24px\">\n",
              "    <path d=\"M0 0h24v24H0V0z\" fill=\"none\"/>\n",
              "    <path d=\"M18.56 5.44l.94 2.06.94-2.06 2.06-.94-2.06-.94-.94-2.06-.94 2.06-2.06.94zm-11 1L8.5 8.5l.94-2.06 2.06-.94-2.06-.94L8.5 2.5l-.94 2.06-2.06.94zm10 10l.94 2.06.94-2.06 2.06-.94-2.06-.94-.94-2.06-.94 2.06-2.06.94z\"/><path d=\"M17.41 7.96l-1.37-1.37c-.4-.4-.92-.59-1.43-.59-.52 0-1.04.2-1.43.59L10.3 9.45l-7.72 7.72c-.78.78-.78 2.05 0 2.83L4 21.41c.39.39.9.59 1.41.59.51 0 1.02-.2 1.41-.59l7.78-7.78 2.81-2.81c.8-.78.8-2.07 0-2.86zM5.41 20L4 18.59l7.72-7.72 1.47 1.35L5.41 20z\"/>\n",
              "  </svg>\n",
              "      </button>\n",
              "      \n",
              "  <style>\n",
              "    .colab-df-container {\n",
              "      display:flex;\n",
              "      flex-wrap:wrap;\n",
              "      gap: 12px;\n",
              "    }\n",
              "\n",
              "    .colab-df-convert {\n",
              "      background-color: #E8F0FE;\n",
              "      border: none;\n",
              "      border-radius: 50%;\n",
              "      cursor: pointer;\n",
              "      display: none;\n",
              "      fill: #1967D2;\n",
              "      height: 32px;\n",
              "      padding: 0 0 0 0;\n",
              "      width: 32px;\n",
              "    }\n",
              "\n",
              "    .colab-df-convert:hover {\n",
              "      background-color: #E2EBFA;\n",
              "      box-shadow: 0px 1px 2px rgba(60, 64, 67, 0.3), 0px 1px 3px 1px rgba(60, 64, 67, 0.15);\n",
              "      fill: #174EA6;\n",
              "    }\n",
              "\n",
              "    [theme=dark] .colab-df-convert {\n",
              "      background-color: #3B4455;\n",
              "      fill: #D2E3FC;\n",
              "    }\n",
              "\n",
              "    [theme=dark] .colab-df-convert:hover {\n",
              "      background-color: #434B5C;\n",
              "      box-shadow: 0px 1px 3px 1px rgba(0, 0, 0, 0.15);\n",
              "      filter: drop-shadow(0px 1px 2px rgba(0, 0, 0, 0.3));\n",
              "      fill: #FFFFFF;\n",
              "    }\n",
              "  </style>\n",
              "\n",
              "      <script>\n",
              "        const buttonEl =\n",
              "          document.querySelector('#df-e523f8a0-ffc4-465f-8909-217e763e7ced button.colab-df-convert');\n",
              "        buttonEl.style.display =\n",
              "          google.colab.kernel.accessAllowed ? 'block' : 'none';\n",
              "\n",
              "        async function convertToInteractive(key) {\n",
              "          const element = document.querySelector('#df-e523f8a0-ffc4-465f-8909-217e763e7ced');\n",
              "          const dataTable =\n",
              "            await google.colab.kernel.invokeFunction('convertToInteractive',\n",
              "                                                     [key], {});\n",
              "          if (!dataTable) return;\n",
              "\n",
              "          const docLinkHtml = 'Like what you see? Visit the ' +\n",
              "            '<a target=\"_blank\" href=https://colab.research.google.com/notebooks/data_table.ipynb>data table notebook</a>'\n",
              "            + ' to learn more about interactive tables.';\n",
              "          element.innerHTML = '';\n",
              "          dataTable['output_type'] = 'display_data';\n",
              "          await google.colab.output.renderOutput(dataTable, element);\n",
              "          const docLink = document.createElement('div');\n",
              "          docLink.innerHTML = docLinkHtml;\n",
              "          element.appendChild(docLink);\n",
              "        }\n",
              "      </script>\n",
              "    </div>\n",
              "  </div>\n",
              "  "
            ]
          },
          "metadata": {},
          "execution_count": 6
        }
      ],
      "source": [
        "df = pd.read_csv(path_to_train_raw_data)\n",
        "df.head()"
      ],
      "id": "6e3f5bef-057a-4452-8482-ab10cd835091"
    },
    {
      "cell_type": "code",
      "execution_count": null,
      "metadata": {
        "id": "d08ea51a-f94d-4745-a068-b91243766ba2"
      },
      "outputs": [],
      "source": [
        "df = df.fillna(\"\")"
      ],
      "id": "d08ea51a-f94d-4745-a068-b91243766ba2"
    },
    {
      "cell_type": "code",
      "execution_count": null,
      "metadata": {
        "id": "5ccc7a26-da2c-405f-89cf-93cb585f5c82"
      },
      "outputs": [],
      "source": [
        "#тут можно еще сделать ru_to_eng(дада и такие странные примеры есть)\n",
        "def eng_to_ru(word: str) -> str:\n",
        "    if len(word) <= 1:\n",
        "        return word\n",
        "    a = ord('а')\n",
        "    ru_alphabet = ''.join([chr(i) for i in range(a,a+33)])\n",
        "    eng_alphabet = string.ascii_lowercase[:26]\n",
        "    change = {\n",
        "        \"a\": \"а\",\n",
        "        \"e\": \"е\",\n",
        "        \"o\": \"о\",\n",
        "        \"k\": \"к\",\n",
        "        \"3\": \"з\",\n",
        "        \"p\": \"р\",\n",
        "        \"c\": \"с\",\n",
        "        \"m\": \"м\",\n",
        "        \"x\": \"х\",\n",
        "        \"t\": \"т\",\n",
        "        \"y\": \"у\",\n",
        "        \"z\": \"з\",\n",
        "    }\n",
        "\n",
        "    new_word = \"\"\n",
        "    for i in range(len(word)):\n",
        "        curr = word[i]\n",
        "        if curr in eng_alphabet:\n",
        "            if i - 1 < 0:\n",
        "                prev_letter = \"j\"\n",
        "            else:\n",
        "                prev_letter = word[i - 1]\n",
        "\n",
        "            if i + 1 >= len(word):\n",
        "                next_letter = \"j\"\n",
        "            else:\n",
        "                next_letter = word[i + 1]\n",
        "\n",
        "            if next_letter in ru_alphabet or prev_letter in ru_alphabet:\n",
        "                curr = change.get(curr, curr)\n",
        "        new_word += curr\n",
        "\n",
        "    return new_word\n",
        "# to add: seperate by string.punctuations (add space between words)\n",
        "#(probably i can just use some tokenizer and then make string of tokenizer output)\n"
      ],
      "id": "5ccc7a26-da2c-405f-89cf-93cb585f5c82"
    },
    {
      "cell_type": "code",
      "execution_count": null,
      "metadata": {
        "id": "e60c7ded-2082-4b40-b2e9-2a40cbbec043"
      },
      "outputs": [],
      "source": [
        "def only_ones(word: str) -> str:\n",
        "    if word.isdigit() or re.match(r'^-?\\d+(?:\\.\\d+)$', word):\n",
        "        return \"1\"\n",
        "    else:\n",
        "        new_word = \"\"\n",
        "        i = 0\n",
        "        while i < len(word):\n",
        "            curr = word[i]\n",
        "            while i < len(word) and word[i].isdigit():\n",
        "                curr = \"1\"\n",
        "                i += 1\n",
        "            new_word += curr\n",
        "            if curr != \"1\":\n",
        "                i += 1\n",
        "\n",
        "    return new_word\n"
      ],
      "id": "e60c7ded-2082-4b40-b2e9-2a40cbbec043"
    },
    {
      "cell_type": "code",
      "execution_count": null,
      "metadata": {
        "id": "c11a2db1-4181-43ea-b6de-eb460477184e"
      },
      "outputs": [],
      "source": [
        "def remove_punct(word: str) -> str:\n",
        "    word = re.sub(r'[^\\w\\s]+', ' ', word)\n",
        "    word = re.sub(r'\\s+', ' ', word)\n",
        "    return word.strip()\n",
        "\n",
        "\n",
        "def preprocess_string(word: str) -> str:\n",
        "    new_word = \"\"\n",
        "\n",
        "\n",
        "    word = remove_punct(word)\n",
        "\n",
        "    if word != \"товара нет\":\n",
        "        new_word = eng_to_ru(only_ones(word).lower())\n",
        "\n",
        "    return new_word"
      ],
      "id": "c11a2db1-4181-43ea-b6de-eb460477184e"
    },
    {
      "cell_type": "code",
      "execution_count": null,
      "metadata": {
        "colab": {
          "base_uri": "https://localhost:8080/"
        },
        "id": "ff8f6ed1-8404-47c5-9b45-bbed46fc4b3d",
        "outputId": "4abe174c-8860-4388-877e-5788de006271"
      },
      "outputs": [
        {
          "output_type": "stream",
          "name": "stdout",
          "text": [
            "\n",
            "Substring(0, 6, 'Petmax')\n",
            "Substring(7, 13, 'Бантик')\n",
            "Substring(14, 21, 'леопард')\n",
            "Substring(22, 23, 'с')\n",
            "Substring(24, 29, 'красн')\n",
            "Substring(30, 35, 'розой')\n",
            "Substring(36, 37, '2')\n",
            "Substring(37, 39, 'шт')\n"
          ]
        }
      ],
      "source": [
        "for i in range(1):\n",
        "    print()\n",
        "    q = tokenize(df.name[i])\n",
        "    for x in q:\n",
        "        print(x)\n"
      ],
      "id": "ff8f6ed1-8404-47c5-9b45-bbed46fc4b3d"
    },
    {
      "cell_type": "code",
      "execution_count": null,
      "metadata": {
        "colab": {
          "base_uri": "https://localhost:8080/"
        },
        "id": "818ad6d5-b88e-4499-b4e4-b10c6eb9c11f",
        "outputId": "d2d9e7c4-34d8-45fe-f9dd-9b4717fe3f71",
        "scrolled": true
      },
      "outputs": [
        {
          "output_type": "execute_result",
          "data": {
            "text/plain": [
              "0                  petmax бантик леопард с красн розой 1шт\n",
              "1                                 1 бусы для елки шарики_1\n",
              "2                               футболка piazza italia wr1\n",
              "3               1 yi1 1x one заколка для волос для девочки\n",
              "4                                             одежда вес 1\n",
              "                               ...                        \n",
              "24995                                  вода саирме с г 1мл\n",
              "24996                             моя семя 1 1л и ассортим\n",
              "24997             рулет бисквитн яшкино клубничный со слив\n",
              "24998    1 почвогрунт цветочное счастье фаско декоратив...\n",
              "24999           семечки жар 1г крутой окер с солью гринвич\n",
              "Name: name, Length: 25000, dtype: object"
            ]
          },
          "metadata": {},
          "execution_count": 12
        }
      ],
      "source": [
        "names = df.name.apply(preprocess_string)\n",
        "names"
      ],
      "id": "818ad6d5-b88e-4499-b4e4-b10c6eb9c11f"
    },
    {
      "cell_type": "code",
      "execution_count": null,
      "metadata": {
        "colab": {
          "base_uri": "https://localhost:8080/"
        },
        "id": "62f336da-bed3-4a78-8149-3a360e01b574",
        "outputId": "387e05ff-b6e2-4a0b-81de-f0e95d3d6911"
      },
      "outputs": [
        {
          "output_type": "execute_result",
          "data": {
            "text/plain": [
              "[['petmax', 'бантик', 'леопард', 'красн', 'розой', 'шт'],\n",
              " ['бусы', 'для', 'елки', 'шарики_1']]"
            ]
          },
          "metadata": {},
          "execution_count": 13
        }
      ],
      "source": [
        "def tokenize_names(names: pd.Series) -> pd.Series:\n",
        "    return [list(map(lambda x: x.text, tokenize(x))) for x in names]\n",
        "\n",
        "names = tokenize_names(names)\n",
        "#delete solo symbols\n",
        "for i in range(len(names)):\n",
        "    new_name = []\n",
        "    for j in range(len(names[i])):\n",
        "        if len(names[i][j]) > 1:\n",
        "            new_name.append(names[i][j])\n",
        "    names[i] = new_name\n",
        "names[:2]"
      ],
      "id": "62f336da-bed3-4a78-8149-3a360e01b574"
    },
    {
      "cell_type": "code",
      "execution_count": null,
      "metadata": {
        "id": "d031032d-7eac-4f95-a739-930cf85e2967"
      },
      "outputs": [],
      "source": [
        "brands = df.brand.apply(preprocess_string)\n",
        "goods = df.good.apply(preprocess_string)"
      ],
      "id": "d031032d-7eac-4f95-a739-930cf85e2967"
    },
    {
      "cell_type": "code",
      "execution_count": null,
      "metadata": {
        "colab": {
          "base_uri": "https://localhost:8080/"
        },
        "id": "b50d2105-aee0-4519-bc9c-f161bf54bbac",
        "outputId": "5ef2b156-9d9b-4591-c67c-c855ba719eab",
        "scrolled": true
      },
      "outputs": [
        {
          "output_type": "execute_result",
          "data": {
            "text/plain": [
              "(0           petmax\n",
              " 1                 \n",
              " 2    piazza italia\n",
              " 3                 \n",
              " 4                 \n",
              " 5        русалочка\n",
              " 6                 \n",
              " 7       очаковский\n",
              " 8             cosy\n",
              " 9              ekf\n",
              " Name: brand, dtype: object,\n",
              " 0        бантик\n",
              " 1          бусы\n",
              " 2      футболка\n",
              " 3       заколка\n",
              " 4        одежда\n",
              " 5         губка\n",
              " 6          обои\n",
              " 7          квас\n",
              " 8         маска\n",
              " 9    наконечник\n",
              " Name: good, dtype: object)"
            ]
          },
          "metadata": {},
          "execution_count": 15
        }
      ],
      "source": [
        "brands[:10], goods[:10]"
      ],
      "id": "b50d2105-aee0-4519-bc9c-f161bf54bbac"
    },
    {
      "cell_type": "code",
      "execution_count": null,
      "metadata": {
        "colab": {
          "base_uri": "https://localhost:8080/"
        },
        "id": "b956f58d-e16c-4b2b-961b-6048d2589df9",
        "outputId": "2ad4691b-8480-4cab-d1a4-63b29c953e1f"
      },
      "outputs": [
        {
          "output_type": "execute_result",
          "data": {
            "text/plain": [
              "[Substring(0, 6, 'piazza'), Substring(7, 13, 'italia')]"
            ]
          },
          "metadata": {},
          "execution_count": 16
        }
      ],
      "source": [
        "list(tokenize(brands[2]))"
      ],
      "id": "b956f58d-e16c-4b2b-961b-6048d2589df9"
    },
    {
      "cell_type": "code",
      "execution_count": null,
      "metadata": {
        "id": "af0fcd3c-0550-4575-ba7e-f966b7432252"
      },
      "outputs": [],
      "source": [
        "#tagging every tokken if it has label or nah\n",
        "# нужно текенизировать brand and goods\n",
        "label_names = [\"O\", \"B-BRAND\", \"I-BRAND\", \"B-GOOD\", \"I-GOOD\"] # \"O\" stand for out of context or smth like this\n",
        "skipped = 0\n",
        "def label_name(name: list, brand: str, good: str) -> list:\n",
        "    \"\"\"\n",
        "    gives label to every word in 1 receipt\n",
        "    \"\"\"\n",
        "    labels = [\"O\" for _ in range(len(name))]\n",
        "    brand = [x.text for x in tokenize(brand)]\n",
        "    good = [x.text for x in tokenize(good)]\n",
        "    numeric_labels = [0 for _ in range(len(name))]\n",
        "    global skipped\n",
        "\n",
        "    if brand:\n",
        "        try:\n",
        "            idx = name.index(brand[0])\n",
        "            labels[idx] = label_names[1]\n",
        "            numeric_labels[idx] = 1\n",
        "\n",
        "            for x in brand[1:]:\n",
        "                idx = name.index(x)\n",
        "                labels[idx] = label_names[2]\n",
        "                numeric_labels[idx] = 2\n",
        "        except ValueError:\n",
        "            skipped += 1\n",
        "            return None\n",
        "\n",
        "    if good:\n",
        "        try:\n",
        "            idx = name.index(good[0])\n",
        "            labels[idx] = label_names[3]\n",
        "            numeric_labels[idx] = 3\n",
        "\n",
        "            for x in good[1:]:\n",
        "                idx = name.index(x)\n",
        "                labels[idx] = label_names[4]\n",
        "                numeric_labels[idx] = 4\n",
        "        except ValueError:\n",
        "            skipped += 1\n",
        "            return None\n",
        "    return name, labels, numeric_labels\n",
        "\n"
      ],
      "id": "af0fcd3c-0550-4575-ba7e-f966b7432252"
    },
    {
      "cell_type": "code",
      "execution_count": null,
      "metadata": {
        "colab": {
          "base_uri": "https://localhost:8080/"
        },
        "id": "af117f2f-48d6-49af-b3b3-c831a8a9de1e",
        "outputId": "f361359a-2760-461e-df57-17ecdd639382"
      },
      "outputs": [
        {
          "output_type": "execute_result",
          "data": {
            "text/plain": [
              "['petmax', 'бантик', 'леопард', 'красн', 'розой', 'шт']"
            ]
          },
          "metadata": {},
          "execution_count": 18
        }
      ],
      "source": [
        "i = 0\n",
        "names[i]"
      ],
      "id": "af117f2f-48d6-49af-b3b3-c831a8a9de1e"
    },
    {
      "cell_type": "code",
      "execution_count": null,
      "metadata": {
        "colab": {
          "base_uri": "https://localhost:8080/"
        },
        "id": "43522694-8717-4f51-bfd5-5f1a6080fb0d",
        "outputId": "a98dfa23-9f49-491a-b391-048d33e6c160",
        "scrolled": true
      },
      "outputs": [
        {
          "output_type": "execute_result",
          "data": {
            "text/plain": [
              "(['petmax', 'бантик', 'леопард', 'красн', 'розой', 'шт'],\n",
              " ['B-BRAND', 'B-GOOD', 'O', 'O', 'O', 'O'],\n",
              " [1, 3, 0, 0, 0, 0])"
            ]
          },
          "metadata": {},
          "execution_count": 19
        }
      ],
      "source": [
        "label_name(names[i], brands[i], goods[i])"
      ],
      "id": "43522694-8717-4f51-bfd5-5f1a6080fb0d"
    },
    {
      "cell_type": "code",
      "execution_count": null,
      "metadata": {
        "id": "5ea0e684-e53a-45e1-a200-506fbd428edc"
      },
      "outputs": [],
      "source": [
        "name_and_labels = []\n",
        "skipped = 0\n",
        "real_brands = []\n",
        "real_goods = []\n",
        "for n, b, g in zip(names, brands, goods):\n",
        "    #print (n, b)\n",
        "    curr = label_name(n, b, g)\n",
        "    if curr is not None:\n",
        "        real_brands.append(b)\n",
        "        real_goods.append(g)\n",
        "        name_and_labels.append(curr)"
      ],
      "id": "5ea0e684-e53a-45e1-a200-506fbd428edc"
    },
    {
      "cell_type": "code",
      "execution_count": null,
      "metadata": {
        "colab": {
          "base_uri": "https://localhost:8080/"
        },
        "id": "3c519c43-d97c-42f0-a7b0-1fdd8107f137",
        "outputId": "1ae9f7ef-dde2-423b-cc56-e5be2efd9594"
      },
      "outputs": [
        {
          "output_type": "stream",
          "name": "stdout",
          "text": [
            "3734 of 25000 examples were skipped\n"
          ]
        }
      ],
      "source": [
        "print(f\"{skipped} of {len(df)} examples were skipped\")"
      ],
      "id": "3c519c43-d97c-42f0-a7b0-1fdd8107f137"
    },
    {
      "cell_type": "code",
      "execution_count": null,
      "metadata": {
        "colab": {
          "base_uri": "https://localhost:8080/"
        },
        "id": "dc4586e6-5e51-490a-b22b-fe9e296aa5d9",
        "outputId": "1aa87f54-c78c-43a6-8367-726eca2def77"
      },
      "outputs": [
        {
          "output_type": "execute_result",
          "data": {
            "text/plain": [
              "[(['petmax', 'бантик', 'леопард', 'красн', 'розой', 'шт'],\n",
              "  ['B-BRAND', 'B-GOOD', 'O', 'O', 'O', 'O'],\n",
              "  [1, 3, 0, 0, 0, 0]),\n",
              " (['бусы', 'для', 'елки', 'шарики_1'],\n",
              "  ['B-GOOD', 'O', 'O', 'O'],\n",
              "  [3, 0, 0, 0]),\n",
              " (['футболка', 'piazza', 'italia', 'wr'],\n",
              "  ['B-GOOD', 'B-BRAND', 'I-BRAND', 'O'],\n",
              "  [3, 1, 2, 0])]"
            ]
          },
          "metadata": {},
          "execution_count": 22
        }
      ],
      "source": [
        "name_and_labels[:3]"
      ],
      "id": "dc4586e6-5e51-490a-b22b-fe9e296aa5d9"
    },
    {
      "cell_type": "code",
      "execution_count": null,
      "metadata": {
        "id": "f6f5a064-5e59-4a1d-9b46-72c8c983f39c"
      },
      "outputs": [],
      "source": [
        "from datasets import Dataset, Features, Sequence, Value, DatasetDict"
      ],
      "id": "f6f5a064-5e59-4a1d-9b46-72c8c983f39c"
    },
    {
      "cell_type": "code",
      "execution_count": null,
      "metadata": {
        "id": "a102f5ab-9b3f-488f-943d-87548226b61e"
      },
      "outputs": [],
      "source": [
        "id2label = {i: label for i, label in enumerate(label_names)}\n",
        "label2id = {v: k for k, v in id2label.items()}"
      ],
      "id": "a102f5ab-9b3f-488f-943d-87548226b61e"
    },
    {
      "cell_type": "code",
      "execution_count": null,
      "metadata": {
        "id": "4a6609e5-bbe2-4490-a779-2d71c88a41f4",
        "colab": {
          "base_uri": "https://localhost:8080/",
          "height": 424,
          "referenced_widgets": [
            "49e97e4255c44d678252cbdf7e0b3bfc",
            "cb6fa4a54acc4ad8ad2261bf1a5c98db",
            "bce8cfafd606497aa73774063d1d6959",
            "f7f062b6b339476094977ef153e1536e",
            "e98795c14de7412a84ce8a2581bb90ed",
            "70784bb9b54d440fa9172188b151b770",
            "e63fdcf0ad964b67b6935ac2913f353f",
            "897ea522cfe54d83bd6fc7a0dcaf138e",
            "ae5d9e0fad464e6283dfe9da1d8f1db2",
            "7ca30223faac4d83a2590eab26e5aa6b",
            "3be001a26cee44a69c428293044c8327",
            "15c090f08f2543a1988f113ff2631198",
            "82e2abafe4a345dc8ac1c7cb4b38b841",
            "ba5fdc8c3337498e9e67d87cae964dd8",
            "8367ea1848134dd89364d19cbecb2a80",
            "3946a789b1ac4a08a7691f62cf9d11b6",
            "071caeb49a244ba690dbd68294bd529e",
            "ba1e855d04924f5185e402846e79dce4",
            "924574e5fa744044a6b76148d6e681c1",
            "2a45624a58ac4b64a3ffb078f885e35c",
            "a6177e1bba2142c6b08ab23e00666791",
            "a1215991c4f2428883edb5c26d348361",
            "7218dd01771d439594cb328790083815",
            "91d53413972247499dd2e443093ceeca",
            "4d887bb840a24677a0d89f50777aa5c6",
            "e7bcd9093bdf4e93b06d9a02f1d8a2dc",
            "cb158d152cab4c748b9714c1704fe164",
            "090e8ec588074b90a0263faa79d491eb",
            "bb27e9ed8d3c4b5985f8a137bfc39da9",
            "9ad398885f8c4ffd93f22f1aafb3546b",
            "745c6903197442f288731f74f0055473",
            "b7e0b7dbfa43423cbbafa6e7c246f911",
            "bc02a940b430427290e6c4375301103b",
            "82fb7e64580e43ecabacc799fcab141b",
            "f9d5060ccb58405cbecb7667698bfd24",
            "e8f65454484b4366a61a0544be238d68",
            "438bfd797c3045269b37b8685a850736",
            "6ff1f2c583b04c249aef084ec51bcb22",
            "a9d418d23d3946e9b3ff84a9c29623b1",
            "830fed2dc47e4fc6857774e08d73c610",
            "f40008ec1900478a998d5f4adda7a049",
            "730d950531664249ad0f2a360ce7a2be",
            "2568ba44633c4e9a9a2352c8865ab1a0",
            "da0615657d784faea5329a0a96e4099d",
            "e9dbf035ad3643fa9b2538b0b147ab78",
            "c82015b2adbd413d8f5fb2b2fc3a2c8f",
            "85d2f5defca144f6975148b2f458a5d5",
            "b70edc4873544acea70c7315e9f3eaaf",
            "6fe3e6d4baf044f1921cec15887749ed",
            "7e35227ea4254612b6a4f1a0269c3710",
            "371077631d84400185bf91838d1c241f",
            "fbc7d4c6cba3458db0a5cbf0e4ea370f",
            "c92930e4e24441a98fec39b8006facfc",
            "02b43b847f8d4f7797f5b36c85f1e56e",
            "7d2ddaff8a7240bea9f9037d9874e287"
          ]
        },
        "outputId": "9b6efcbc-7d00-4463-cbd2-3ccd67c947b2"
      },
      "outputs": [
        {
          "output_type": "display_data",
          "data": {
            "text/plain": [
              "Downloading (…)okenizer_config.json:   0%|          | 0.00/24.0 [00:00<?, ?B/s]"
            ],
            "application/vnd.jupyter.widget-view+json": {
              "version_major": 2,
              "version_minor": 0,
              "model_id": "49e97e4255c44d678252cbdf7e0b3bfc"
            }
          },
          "metadata": {}
        },
        {
          "output_type": "display_data",
          "data": {
            "text/plain": [
              "Downloading (…)lve/main/config.json:   0%|          | 0.00/642 [00:00<?, ?B/s]"
            ],
            "application/vnd.jupyter.widget-view+json": {
              "version_major": 2,
              "version_minor": 0,
              "model_id": "15c090f08f2543a1988f113ff2631198"
            }
          },
          "metadata": {}
        },
        {
          "output_type": "display_data",
          "data": {
            "text/plain": [
              "Downloading (…)solve/main/vocab.txt:   0%|          | 0.00/1.65M [00:00<?, ?B/s]"
            ],
            "application/vnd.jupyter.widget-view+json": {
              "version_major": 2,
              "version_minor": 0,
              "model_id": "7218dd01771d439594cb328790083815"
            }
          },
          "metadata": {}
        },
        {
          "output_type": "display_data",
          "data": {
            "text/plain": [
              "Downloading (…)cial_tokens_map.json:   0%|          | 0.00/112 [00:00<?, ?B/s]"
            ],
            "application/vnd.jupyter.widget-view+json": {
              "version_major": 2,
              "version_minor": 0,
              "model_id": "82fb7e64580e43ecabacc799fcab141b"
            }
          },
          "metadata": {}
        },
        {
          "output_type": "display_data",
          "data": {
            "text/plain": [
              "Downloading pytorch_model.bin:   0%|          | 0.00/714M [00:00<?, ?B/s]"
            ],
            "application/vnd.jupyter.widget-view+json": {
              "version_major": 2,
              "version_minor": 0,
              "model_id": "e9dbf035ad3643fa9b2538b0b147ab78"
            }
          },
          "metadata": {}
        },
        {
          "output_type": "stream",
          "name": "stderr",
          "text": [
            "Some weights of the model checkpoint at DeepPavlov/rubert-base-cased were not used when initializing BertForTokenClassification: ['cls.predictions.decoder.weight', 'cls.predictions.transform.LayerNorm.bias', 'cls.predictions.transform.dense.weight', 'cls.seq_relationship.weight', 'cls.seq_relationship.bias', 'cls.predictions.decoder.bias', 'cls.predictions.transform.dense.bias', 'cls.predictions.bias', 'cls.predictions.transform.LayerNorm.weight']\n",
            "- This IS expected if you are initializing BertForTokenClassification from the checkpoint of a model trained on another task or with another architecture (e.g. initializing a BertForSequenceClassification model from a BertForPreTraining model).\n",
            "- This IS NOT expected if you are initializing BertForTokenClassification from the checkpoint of a model that you expect to be exactly identical (initializing a BertForSequenceClassification model from a BertForSequenceClassification model).\n",
            "Some weights of BertForTokenClassification were not initialized from the model checkpoint at DeepPavlov/rubert-base-cased and are newly initialized: ['classifier.bias', 'classifier.weight']\n",
            "You should probably TRAIN this model on a down-stream task to be able to use it for predictions and inference.\n"
          ]
        }
      ],
      "source": [
        "from transformers import AutoModelForTokenClassification\n",
        "model_name = \"DeepPavlov/rubert-base-cased\"\n",
        "\n",
        "tokenizer = AutoTokenizer.from_pretrained(model_name)\n",
        "sep_token = tokenizer.sep_token\n",
        "sep_token_id = tokenizer.sep_token_id\n",
        "\n",
        "model = AutoModelForTokenClassification.from_pretrained(model_name, id2label=id2label, label2id=label2id, ignore_mismatched_sizes=True)"
      ],
      "id": "4a6609e5-bbe2-4490-a779-2d71c88a41f4"
    },
    {
      "cell_type": "code",
      "execution_count": null,
      "metadata": {
        "id": "xyqlr7GHuX0v"
      },
      "outputs": [],
      "source": [
        "# from transformers import BertForTokenClassification, BertTokenizer, BertForMaskedLM\n",
        "# from torch import nn\n",
        "\n",
        "# model_name = \"/content/drive/MyDrive/models/bertfortokenclassification_mask_fill/bert-base-uncased-finetuned-imdb/checkpoint-2000\"\n",
        "# # Load pre-trained BERT model for masked language modeling\n",
        "# mask_model = BertForMaskedLM.from_pretrained(model_name)\n",
        "# tokenizer = AutoTokenizer.from_pretrained(model_name)\n",
        "# sep_token = tokenizer.sep_token\n",
        "# sep_token_id = tokenizer.sep_token_id\n",
        "\n",
        "# # Add a new classification layer for NER\n",
        "# num_labels = 5 # Number of entity labels in your dataset\n",
        "# model = BertForTokenClassification.from_pretrained(\n",
        "#     \"bert-base-uncased\",\n",
        "#     num_labels=num_labels,\n",
        "#     id2label=id2label,\n",
        "#     label2id=label2id,\n",
        "#     ignore_mismatched_sizes=True\n",
        "# )"
      ],
      "id": "xyqlr7GHuX0v"
    },
    {
      "cell_type": "code",
      "source": [
        "# model.bert = mask_model.bert\n",
        "model"
      ],
      "metadata": {
        "id": "4l8StYIMnyjO",
        "colab": {
          "base_uri": "https://localhost:8080/"
        },
        "outputId": "c1a001f6-9601-4bb9-a645-0f0b22dc1585"
      },
      "id": "4l8StYIMnyjO",
      "execution_count": null,
      "outputs": [
        {
          "output_type": "execute_result",
          "data": {
            "text/plain": [
              "BertForTokenClassification(\n",
              "  (bert): BertModel(\n",
              "    (embeddings): BertEmbeddings(\n",
              "      (word_embeddings): Embedding(119547, 768, padding_idx=0)\n",
              "      (position_embeddings): Embedding(512, 768)\n",
              "      (token_type_embeddings): Embedding(2, 768)\n",
              "      (LayerNorm): LayerNorm((768,), eps=1e-12, elementwise_affine=True)\n",
              "      (dropout): Dropout(p=0.1, inplace=False)\n",
              "    )\n",
              "    (encoder): BertEncoder(\n",
              "      (layer): ModuleList(\n",
              "        (0-11): 12 x BertLayer(\n",
              "          (attention): BertAttention(\n",
              "            (self): BertSelfAttention(\n",
              "              (query): Linear(in_features=768, out_features=768, bias=True)\n",
              "              (key): Linear(in_features=768, out_features=768, bias=True)\n",
              "              (value): Linear(in_features=768, out_features=768, bias=True)\n",
              "              (dropout): Dropout(p=0.1, inplace=False)\n",
              "            )\n",
              "            (output): BertSelfOutput(\n",
              "              (dense): Linear(in_features=768, out_features=768, bias=True)\n",
              "              (LayerNorm): LayerNorm((768,), eps=1e-12, elementwise_affine=True)\n",
              "              (dropout): Dropout(p=0.1, inplace=False)\n",
              "            )\n",
              "          )\n",
              "          (intermediate): BertIntermediate(\n",
              "            (dense): Linear(in_features=768, out_features=3072, bias=True)\n",
              "            (intermediate_act_fn): GELUActivation()\n",
              "          )\n",
              "          (output): BertOutput(\n",
              "            (dense): Linear(in_features=3072, out_features=768, bias=True)\n",
              "            (LayerNorm): LayerNorm((768,), eps=1e-12, elementwise_affine=True)\n",
              "            (dropout): Dropout(p=0.1, inplace=False)\n",
              "          )\n",
              "        )\n",
              "      )\n",
              "    )\n",
              "  )\n",
              "  (dropout): Dropout(p=0.1, inplace=False)\n",
              "  (classifier): Linear(in_features=768, out_features=5, bias=True)\n",
              ")"
            ]
          },
          "metadata": {},
          "execution_count": 27
        }
      ]
    },
    {
      "cell_type": "code",
      "source": [
        "# # Replace the final layer of the pre-trained BERT model with the new classification layer\n",
        "# model.classifier = nn.Linear(768, num_labels)\n",
        "# i should've run this code if out_features != num_labels"
      ],
      "metadata": {
        "id": "c4rd0ZatnxsH"
      },
      "id": "c4rd0ZatnxsH",
      "execution_count": null,
      "outputs": []
    },
    {
      "cell_type": "code",
      "execution_count": null,
      "metadata": {
        "colab": {
          "base_uri": "https://localhost:8080/"
        },
        "id": "d31366e1-1a52-4f27-b19c-3c656e86a185",
        "outputId": "de1fbedc-ae9d-44de-820e-7d39df71118a"
      },
      "outputs": [
        {
          "output_type": "execute_result",
          "data": {
            "text/plain": [
              "['[CLS]',\n",
              " 'pet',\n",
              " '##max',\n",
              " 'бан',\n",
              " '##тик',\n",
              " 'леопард',\n",
              " 'крас',\n",
              " '##н',\n",
              " 'роз',\n",
              " '##ой',\n",
              " 'шт',\n",
              " '[SEP]']"
            ]
          },
          "metadata": {},
          "execution_count": 28
        }
      ],
      "source": [
        "inputs = tokenizer(names[0], is_split_into_words=True)\n",
        "inputs.tokens()"
      ],
      "id": "d31366e1-1a52-4f27-b19c-3c656e86a185"
    },
    {
      "cell_type": "code",
      "execution_count": null,
      "metadata": {
        "colab": {
          "base_uri": "https://localhost:8080/"
        },
        "id": "fbc6e5bb-f2a4-43d1-b963-99e943b29db6",
        "outputId": "53f45d0f-2b99-474f-867a-64307f10e3ae"
      },
      "outputs": [
        {
          "output_type": "execute_result",
          "data": {
            "text/plain": [
              "[None, 0, 0, 1, 1, 2, 3, 3, 4, 4, 5, None]"
            ]
          },
          "metadata": {},
          "execution_count": 29
        }
      ],
      "source": [
        "inputs.word_ids()"
      ],
      "id": "fbc6e5bb-f2a4-43d1-b963-99e943b29db6"
    },
    {
      "cell_type": "code",
      "execution_count": null,
      "metadata": {
        "colab": {
          "base_uri": "https://localhost:8080/"
        },
        "id": "f074523e-9e79-47d7-a026-36b8ac0cada6",
        "outputId": "9ca0fe89-3f13-4206-a115-73c4fd77d0b3"
      },
      "outputs": [
        {
          "output_type": "execute_result",
          "data": {
            "text/plain": [
              "{0: 'O', 1: 'B-BRAND', 2: 'I-BRAND', 3: 'B-GOOD', 4: 'I-GOOD'}"
            ]
          },
          "metadata": {},
          "execution_count": 30
        }
      ],
      "source": [
        "model.config.id2label"
      ],
      "id": "f074523e-9e79-47d7-a026-36b8ac0cada6"
    },
    {
      "cell_type": "code",
      "execution_count": null,
      "metadata": {
        "id": "b95aa3c5-ac4c-451d-9ea9-c0254b74d388"
      },
      "outputs": [],
      "source": [
        "preprocessed_dataset = pd.DataFrame(\n",
        "    {\n",
        "        \"tokens\": [x[0] for x in name_and_labels],\n",
        "        \"labels\": [x[1] for x in name_and_labels],\n",
        "        \"numeric_labels\": [x[2] for x in name_and_labels],\n",
        "    }\n",
        ")"
      ],
      "id": "b95aa3c5-ac4c-451d-9ea9-c0254b74d388"
    },
    {
      "cell_type": "code",
      "execution_count": null,
      "metadata": {
        "colab": {
          "base_uri": "https://localhost:8080/",
          "height": 206
        },
        "id": "f48951cf-ab1b-4331-ae98-6ca5f98e867f",
        "outputId": "f995c96a-aa9b-4431-fd2f-4c6597778d4d"
      },
      "outputs": [
        {
          "output_type": "execute_result",
          "data": {
            "text/plain": [
              "                                         tokens  \\\n",
              "0   [petmax, бантик, леопард, красн, розой, шт]   \n",
              "1                   [бусы, для, елки, шарики_1]   \n",
              "2                [футболка, piazza, italia, wr]   \n",
              "3  [yi, one, заколка, для, волос, для, девочки]   \n",
              "4                                 [одежда, вес]   \n",
              "\n",
              "                          labels         numeric_labels  \n",
              "0  [B-BRAND, B-GOOD, O, O, O, O]     [1, 3, 0, 0, 0, 0]  \n",
              "1              [B-GOOD, O, O, O]           [3, 0, 0, 0]  \n",
              "2  [B-GOOD, B-BRAND, I-BRAND, O]           [3, 1, 2, 0]  \n",
              "3     [O, O, B-GOOD, O, O, O, O]  [0, 0, 3, 0, 0, 0, 0]  \n",
              "4                    [B-GOOD, O]                 [3, 0]  "
            ],
            "text/html": [
              "\n",
              "  <div id=\"df-2ec0b4d7-9e2b-4fd1-b27f-cd34e392b14b\">\n",
              "    <div class=\"colab-df-container\">\n",
              "      <div>\n",
              "<style scoped>\n",
              "    .dataframe tbody tr th:only-of-type {\n",
              "        vertical-align: middle;\n",
              "    }\n",
              "\n",
              "    .dataframe tbody tr th {\n",
              "        vertical-align: top;\n",
              "    }\n",
              "\n",
              "    .dataframe thead th {\n",
              "        text-align: right;\n",
              "    }\n",
              "</style>\n",
              "<table border=\"1\" class=\"dataframe\">\n",
              "  <thead>\n",
              "    <tr style=\"text-align: right;\">\n",
              "      <th></th>\n",
              "      <th>tokens</th>\n",
              "      <th>labels</th>\n",
              "      <th>numeric_labels</th>\n",
              "    </tr>\n",
              "  </thead>\n",
              "  <tbody>\n",
              "    <tr>\n",
              "      <th>0</th>\n",
              "      <td>[petmax, бантик, леопард, красн, розой, шт]</td>\n",
              "      <td>[B-BRAND, B-GOOD, O, O, O, O]</td>\n",
              "      <td>[1, 3, 0, 0, 0, 0]</td>\n",
              "    </tr>\n",
              "    <tr>\n",
              "      <th>1</th>\n",
              "      <td>[бусы, для, елки, шарики_1]</td>\n",
              "      <td>[B-GOOD, O, O, O]</td>\n",
              "      <td>[3, 0, 0, 0]</td>\n",
              "    </tr>\n",
              "    <tr>\n",
              "      <th>2</th>\n",
              "      <td>[футболка, piazza, italia, wr]</td>\n",
              "      <td>[B-GOOD, B-BRAND, I-BRAND, O]</td>\n",
              "      <td>[3, 1, 2, 0]</td>\n",
              "    </tr>\n",
              "    <tr>\n",
              "      <th>3</th>\n",
              "      <td>[yi, one, заколка, для, волос, для, девочки]</td>\n",
              "      <td>[O, O, B-GOOD, O, O, O, O]</td>\n",
              "      <td>[0, 0, 3, 0, 0, 0, 0]</td>\n",
              "    </tr>\n",
              "    <tr>\n",
              "      <th>4</th>\n",
              "      <td>[одежда, вес]</td>\n",
              "      <td>[B-GOOD, O]</td>\n",
              "      <td>[3, 0]</td>\n",
              "    </tr>\n",
              "  </tbody>\n",
              "</table>\n",
              "</div>\n",
              "      <button class=\"colab-df-convert\" onclick=\"convertToInteractive('df-2ec0b4d7-9e2b-4fd1-b27f-cd34e392b14b')\"\n",
              "              title=\"Convert this dataframe to an interactive table.\"\n",
              "              style=\"display:none;\">\n",
              "        \n",
              "  <svg xmlns=\"http://www.w3.org/2000/svg\" height=\"24px\"viewBox=\"0 0 24 24\"\n",
              "       width=\"24px\">\n",
              "    <path d=\"M0 0h24v24H0V0z\" fill=\"none\"/>\n",
              "    <path d=\"M18.56 5.44l.94 2.06.94-2.06 2.06-.94-2.06-.94-.94-2.06-.94 2.06-2.06.94zm-11 1L8.5 8.5l.94-2.06 2.06-.94-2.06-.94L8.5 2.5l-.94 2.06-2.06.94zm10 10l.94 2.06.94-2.06 2.06-.94-2.06-.94-.94-2.06-.94 2.06-2.06.94z\"/><path d=\"M17.41 7.96l-1.37-1.37c-.4-.4-.92-.59-1.43-.59-.52 0-1.04.2-1.43.59L10.3 9.45l-7.72 7.72c-.78.78-.78 2.05 0 2.83L4 21.41c.39.39.9.59 1.41.59.51 0 1.02-.2 1.41-.59l7.78-7.78 2.81-2.81c.8-.78.8-2.07 0-2.86zM5.41 20L4 18.59l7.72-7.72 1.47 1.35L5.41 20z\"/>\n",
              "  </svg>\n",
              "      </button>\n",
              "      \n",
              "  <style>\n",
              "    .colab-df-container {\n",
              "      display:flex;\n",
              "      flex-wrap:wrap;\n",
              "      gap: 12px;\n",
              "    }\n",
              "\n",
              "    .colab-df-convert {\n",
              "      background-color: #E8F0FE;\n",
              "      border: none;\n",
              "      border-radius: 50%;\n",
              "      cursor: pointer;\n",
              "      display: none;\n",
              "      fill: #1967D2;\n",
              "      height: 32px;\n",
              "      padding: 0 0 0 0;\n",
              "      width: 32px;\n",
              "    }\n",
              "\n",
              "    .colab-df-convert:hover {\n",
              "      background-color: #E2EBFA;\n",
              "      box-shadow: 0px 1px 2px rgba(60, 64, 67, 0.3), 0px 1px 3px 1px rgba(60, 64, 67, 0.15);\n",
              "      fill: #174EA6;\n",
              "    }\n",
              "\n",
              "    [theme=dark] .colab-df-convert {\n",
              "      background-color: #3B4455;\n",
              "      fill: #D2E3FC;\n",
              "    }\n",
              "\n",
              "    [theme=dark] .colab-df-convert:hover {\n",
              "      background-color: #434B5C;\n",
              "      box-shadow: 0px 1px 3px 1px rgba(0, 0, 0, 0.15);\n",
              "      filter: drop-shadow(0px 1px 2px rgba(0, 0, 0, 0.3));\n",
              "      fill: #FFFFFF;\n",
              "    }\n",
              "  </style>\n",
              "\n",
              "      <script>\n",
              "        const buttonEl =\n",
              "          document.querySelector('#df-2ec0b4d7-9e2b-4fd1-b27f-cd34e392b14b button.colab-df-convert');\n",
              "        buttonEl.style.display =\n",
              "          google.colab.kernel.accessAllowed ? 'block' : 'none';\n",
              "\n",
              "        async function convertToInteractive(key) {\n",
              "          const element = document.querySelector('#df-2ec0b4d7-9e2b-4fd1-b27f-cd34e392b14b');\n",
              "          const dataTable =\n",
              "            await google.colab.kernel.invokeFunction('convertToInteractive',\n",
              "                                                     [key], {});\n",
              "          if (!dataTable) return;\n",
              "\n",
              "          const docLinkHtml = 'Like what you see? Visit the ' +\n",
              "            '<a target=\"_blank\" href=https://colab.research.google.com/notebooks/data_table.ipynb>data table notebook</a>'\n",
              "            + ' to learn more about interactive tables.';\n",
              "          element.innerHTML = '';\n",
              "          dataTable['output_type'] = 'display_data';\n",
              "          await google.colab.output.renderOutput(dataTable, element);\n",
              "          const docLink = document.createElement('div');\n",
              "          docLink.innerHTML = docLinkHtml;\n",
              "          element.appendChild(docLink);\n",
              "        }\n",
              "      </script>\n",
              "    </div>\n",
              "  </div>\n",
              "  "
            ]
          },
          "metadata": {},
          "execution_count": 32
        }
      ],
      "source": [
        "preprocessed_dataset.head()"
      ],
      "id": "f48951cf-ab1b-4331-ae98-6ca5f98e867f"
    },
    {
      "cell_type": "code",
      "execution_count": null,
      "metadata": {
        "id": "d8da93ca-5019-4036-98ce-9312027d72ff"
      },
      "outputs": [],
      "source": [
        "n = len(preprocessed_dataset)\n",
        "train = preprocessed_dataset[:int(n * 8)]\n",
        "val = preprocessed_dataset[int(n * 0.8):]\n",
        "dataset_dict = {\"train\": train, \"validation\": val}\n",
        "\n",
        "train_dataset = Dataset.from_dict(dataset_dict[\"train\"])\n",
        "validation_dataset = Dataset.from_dict(dataset_dict[\"validation\"])"
      ],
      "id": "d8da93ca-5019-4036-98ce-9312027d72ff"
    },
    {
      "cell_type": "code",
      "execution_count": null,
      "metadata": {
        "colab": {
          "base_uri": "https://localhost:8080/"
        },
        "id": "1050f3db-d544-4279-95f1-6a49a5ab8c4f",
        "outputId": "ea7cba66-e038-466f-8cc6-ffad18216c07",
        "scrolled": true
      },
      "outputs": [
        {
          "output_type": "execute_result",
          "data": {
            "text/plain": [
              "[['petmax', 'бантик', 'леопард', 'красн', 'розой', 'шт'],\n",
              " ['бусы', 'для', 'елки', 'шарики_1'],\n",
              " ['футболка', 'piazza', 'italia', 'wr']]"
            ]
          },
          "metadata": {},
          "execution_count": 35
        }
      ],
      "source": [
        "train_dataset[\"tokens\"][:3]"
      ],
      "id": "1050f3db-d544-4279-95f1-6a49a5ab8c4f"
    },
    {
      "cell_type": "code",
      "execution_count": null,
      "metadata": {
        "colab": {
          "base_uri": "https://localhost:8080/"
        },
        "id": "a2eb32de-f4b0-4070-8970-e4609e579610",
        "outputId": "39b7dd0d-4209-4452-ded8-943b737da305"
      },
      "outputs": [
        {
          "output_type": "execute_result",
          "data": {
            "text/plain": [
              "['[CLS]',\n",
              " 'pet',\n",
              " '##max',\n",
              " 'бан',\n",
              " '##тик',\n",
              " 'леопард',\n",
              " 'крас',\n",
              " '##н',\n",
              " 'роз',\n",
              " '##ой',\n",
              " 'шт',\n",
              " '[SEP]']"
            ]
          },
          "metadata": {},
          "execution_count": 36
        }
      ],
      "source": [
        "inputs = tokenizer(train_dataset[0][\"tokens\"], is_split_into_words=True)\n",
        "inputs.tokens()"
      ],
      "id": "a2eb32de-f4b0-4070-8970-e4609e579610"
    },
    {
      "cell_type": "code",
      "execution_count": null,
      "metadata": {
        "colab": {
          "base_uri": "https://localhost:8080/"
        },
        "id": "75bb1736-070d-49d0-94b5-2a66d9b3d268",
        "outputId": "a6f8e0b1-d1c5-4305-dfee-6b3223c04227"
      },
      "outputs": [
        {
          "output_type": "execute_result",
          "data": {
            "text/plain": [
              "[None, 0, 0, 1, 1, 2, 3, 3, 4, 4, 5, None]"
            ]
          },
          "metadata": {},
          "execution_count": 37
        }
      ],
      "source": [
        "inputs.word_ids()"
      ],
      "id": "75bb1736-070d-49d0-94b5-2a66d9b3d268"
    },
    {
      "cell_type": "code",
      "execution_count": null,
      "metadata": {
        "id": "9e3fd73d-0a9c-40a7-b610-88b610bcc775"
      },
      "outputs": [],
      "source": [
        "def align_labels_with_tokens(labels, word_ids):\n",
        "    new_labels = []\n",
        "    current_word = None\n",
        "    for word_id in word_ids:\n",
        "        if word_id != current_word:\n",
        "            # Start of a new word!\n",
        "            current_word = word_id\n",
        "            label = -100 if word_id is None else labels[word_id]\n",
        "            new_labels.append(label)\n",
        "        elif word_id is None:\n",
        "            # Special token\n",
        "            new_labels.append(-100)\n",
        "        else:\n",
        "            # Same word as previous token\n",
        "            label = labels[word_id]\n",
        "            if label % 2 == 1:\n",
        "                label += 1\n",
        "            # here shoud've been changing B-.. to I-... but i've already done it\n",
        "            new_labels.append(label)\n",
        "\n",
        "    return new_labels"
      ],
      "id": "9e3fd73d-0a9c-40a7-b610-88b610bcc775"
    },
    {
      "cell_type": "code",
      "execution_count": null,
      "metadata": {
        "colab": {
          "base_uri": "https://localhost:8080/"
        },
        "id": "4e189f2a-d7ad-4f71-bc96-4c7681d8c768",
        "outputId": "5c7561a0-8ee5-42f3-ffbd-c4ea109919cb"
      },
      "outputs": [
        {
          "output_type": "stream",
          "name": "stdout",
          "text": [
            "[1, 3, 0, 0, 0, 0]\n",
            "[-100, 1, 2, 3, 4, 0, 0, 0, 0, 0, 0, -100]\n"
          ]
        }
      ],
      "source": [
        "labels = train_dataset[0][\"numeric_labels\"]\n",
        "word_ids = inputs.word_ids()\n",
        "print(labels)\n",
        "print(align_labels_with_tokens(labels, word_ids))"
      ],
      "id": "4e189f2a-d7ad-4f71-bc96-4c7681d8c768"
    },
    {
      "cell_type": "code",
      "execution_count": null,
      "metadata": {
        "id": "43e689d6-44cc-4678-8bb1-43919415a750"
      },
      "outputs": [],
      "source": [
        "def tokenize_and_align_labels(examples):\n",
        "    tokenized_inputs = tokenizer(\n",
        "        examples[\"tokens\"], truncation=True, is_split_into_words=True\n",
        "    )\n",
        "    all_labels = examples[\"numeric_labels\"]\n",
        "    new_labels = []\n",
        "    for i, labels in enumerate(all_labels):\n",
        "        word_ids = tokenized_inputs.word_ids(i)\n",
        "        new_labels.append(align_labels_with_tokens(labels, word_ids))\n",
        "\n",
        "    tokenized_inputs[\"labels\"] = new_labels\n",
        "    return tokenized_inputs"
      ],
      "id": "43e689d6-44cc-4678-8bb1-43919415a750"
    },
    {
      "cell_type": "code",
      "execution_count": null,
      "metadata": {
        "colab": {
          "base_uri": "https://localhost:8080/",
          "height": 34,
          "referenced_widgets": [
            "106412f8579a4274bf87d02bcc762d38",
            "89e4ab557e13464d9dede805f2e8ade4",
            "09d773c56a754515bc97b73a3bcbd463",
            "85276996d9664dbd8af65c677bc8b158",
            "9f5ef8a575f34dfa8dfff4cab9b4832b",
            "e092183b9785475c9e6d98d490136a55",
            "9a7fc40b3e544220b3d8ac357760bdeb",
            "bb37a400cf3a42b59578e195b9815e64",
            "a8922c2d2de042c5af18ddc98d780617",
            "4c405ef493de433fa8418319957bc502",
            "1919256f824f49c0aacd3ef29526585f"
          ]
        },
        "id": "55a58852-d559-4c5a-b0f4-942df044b1ce",
        "outputId": "7c228f3b-128f-45e8-b239-fa3aae911117"
      },
      "outputs": [
        {
          "output_type": "display_data",
          "data": {
            "text/plain": [
              "Map:   0%|          | 0/21266 [00:00<?, ? examples/s]"
            ],
            "application/vnd.jupyter.widget-view+json": {
              "version_major": 2,
              "version_minor": 0,
              "model_id": "106412f8579a4274bf87d02bcc762d38"
            }
          },
          "metadata": {}
        },
        {
          "output_type": "stream",
          "name": "stderr",
          "text": [
            "Asking to truncate to max_length but no maximum length is provided and the model has no predefined maximum length. Default to no truncation.\n"
          ]
        }
      ],
      "source": [
        "tokenized_train = train_dataset.map(\n",
        "    tokenize_and_align_labels,\n",
        "    batched=True,\n",
        "    remove_columns=train_dataset.column_names,\n",
        ")"
      ],
      "id": "55a58852-d559-4c5a-b0f4-942df044b1ce"
    },
    {
      "cell_type": "code",
      "execution_count": null,
      "metadata": {
        "colab": {
          "base_uri": "https://localhost:8080/",
          "height": 17,
          "referenced_widgets": [
            "6891c771783244c79ca9b0d64c030a77",
            "3e963dd5f44e4d4cac02a2c1ba290f79",
            "7dfd9db8ac334ad79f5a075e4f1c307b",
            "afa401676935410aace92e2cbbb5410a",
            "bf830acba65a46ce82951a152b6df438",
            "348359fc20b84ebea4ba2c2121a5cc6f",
            "47a9266600e1456b88f7bc7a51f16481",
            "7c531082abd64aef9f5fbf5fd7ea7f92",
            "4cadce4c9edd46eeb63469e356946fa1",
            "d3dd8677c2f0405994aea960e7645e8e",
            "196e3507d11a4ee4beae400a38b05059"
          ]
        },
        "id": "05acf7a6-bb2d-4db9-bfb1-86ebfd1755ce",
        "outputId": "741b278c-dd7e-4e46-93f9-01cc66a7768c"
      },
      "outputs": [
        {
          "output_type": "display_data",
          "data": {
            "text/plain": [
              "Map:   0%|          | 0/4254 [00:00<?, ? examples/s]"
            ],
            "application/vnd.jupyter.widget-view+json": {
              "version_major": 2,
              "version_minor": 0,
              "model_id": "6891c771783244c79ca9b0d64c030a77"
            }
          },
          "metadata": {}
        }
      ],
      "source": [
        "tokenized_val = validation_dataset.map(\n",
        "    tokenize_and_align_labels,\n",
        "    batched=True,\n",
        "    remove_columns=train_dataset.column_names,\n",
        ")"
      ],
      "id": "05acf7a6-bb2d-4db9-bfb1-86ebfd1755ce"
    },
    {
      "cell_type": "code",
      "execution_count": null,
      "metadata": {
        "colab": {
          "base_uri": "https://localhost:8080/"
        },
        "id": "52591005-bead-40bc-b815-95ac0d4bea4d",
        "outputId": "99661604-0e5a-402c-88de-672811017167",
        "scrolled": true
      },
      "outputs": [
        {
          "output_type": "execute_result",
          "data": {
            "text/plain": [
              "{'labels': [-100, 1, 2, 3, 4, 0, 0, 0, 0, 0, 0, -100],\n",
              " 'input_ids': [101,\n",
              "  33296,\n",
              "  90269,\n",
              "  9117,\n",
              "  27976,\n",
              "  92445,\n",
              "  8170,\n",
              "  858,\n",
              "  11663,\n",
              "  1519,\n",
              "  5661,\n",
              "  102],\n",
              " 'token_type_ids': [0, 0, 0, 0, 0, 0, 0, 0, 0, 0, 0, 0],\n",
              " 'attention_mask': [1, 1, 1, 1, 1, 1, 1, 1, 1, 1, 1, 1]}"
            ]
          },
          "metadata": {},
          "execution_count": 43
        }
      ],
      "source": [
        "tokenized_train[0]"
      ],
      "id": "52591005-bead-40bc-b815-95ac0d4bea4d"
    },
    {
      "cell_type": "markdown",
      "metadata": {
        "id": "b34277b7-b4ed-45d3-9ead-3a1e9cbc012f"
      },
      "source": [
        "# Padding"
      ],
      "id": "b34277b7-b4ed-45d3-9ead-3a1e9cbc012f"
    },
    {
      "cell_type": "code",
      "execution_count": null,
      "metadata": {
        "id": "6c01193f-7a4b-4bab-b0a8-3232c6574491"
      },
      "outputs": [],
      "source": [
        "from transformers import DataCollatorForTokenClassification\n",
        "\n",
        "data_collator = DataCollatorForTokenClassification(tokenizer=tokenizer)"
      ],
      "id": "6c01193f-7a4b-4bab-b0a8-3232c6574491"
    },
    {
      "cell_type": "code",
      "execution_count": null,
      "metadata": {
        "colab": {
          "base_uri": "https://localhost:8080/"
        },
        "id": "c51dd599-e952-40fb-b29d-c94b10214adf",
        "outputId": "30c7a2d7-5255-4d64-919a-6df5ee4004ff"
      },
      "outputs": [
        {
          "output_type": "stream",
          "name": "stderr",
          "text": [
            "You're using a BertTokenizerFast tokenizer. Please note that with a fast tokenizer, using the `__call__` method is faster than using a method to encode the text followed by a call to the `pad` method to get a padded encoding.\n"
          ]
        },
        {
          "output_type": "execute_result",
          "data": {
            "text/plain": [
              "tensor([[-100,    1,    2,    3,    4,    0,    0,    0,    0,    0,    0, -100],\n",
              "        [-100,    3,    4,    0,    0,    0,    0,    0,    0, -100, -100, -100]])"
            ]
          },
          "metadata": {},
          "execution_count": 45
        }
      ],
      "source": [
        "batch = data_collator([tokenized_train[i] for i in range(2)])\n",
        "batch[\"labels\"]"
      ],
      "id": "c51dd599-e952-40fb-b29d-c94b10214adf"
    },
    {
      "cell_type": "markdown",
      "metadata": {
        "id": "926a07dd-1a32-4669-b6c3-934691e08980"
      },
      "source": [
        "# Metrics"
      ],
      "id": "926a07dd-1a32-4669-b6c3-934691e08980"
    },
    {
      "cell_type": "code",
      "execution_count": null,
      "metadata": {
        "colab": {
          "base_uri": "https://localhost:8080/",
          "height": 49,
          "referenced_widgets": [
            "090d448bbc3b4ceeb6fd5fe2921fe509",
            "d357bb0e65a445e28c60d1bd01ba8d4e",
            "2fa067394ea8442e85580d1cfd1580ea",
            "7993f464c4fa482b86aaaa2e054629c5",
            "855e6665d4b545568c707646245e4f99",
            "75c4067834ef4f17ba55ee37786267ef",
            "5ef0d0e3000b433b9e5ba285d6014619",
            "2fb24e558bae43268647a7e2e2d5314f",
            "427153e4465a4c76a7967b7f329d0e68",
            "935746a8c5c2423ba13ea8876840d46a",
            "866f7c1ceae84e5e96cf6528abc80b77"
          ]
        },
        "id": "5d7e3be6-fa2d-4360-a67a-e02d8165946a",
        "outputId": "d28fb465-6561-4f82-ac14-3b8f74c95aff"
      },
      "outputs": [
        {
          "output_type": "display_data",
          "data": {
            "text/plain": [
              "Downloading builder script:   0%|          | 0.00/6.34k [00:00<?, ?B/s]"
            ],
            "application/vnd.jupyter.widget-view+json": {
              "version_major": 2,
              "version_minor": 0,
              "model_id": "090d448bbc3b4ceeb6fd5fe2921fe509"
            }
          },
          "metadata": {}
        }
      ],
      "source": [
        "class F1Score:\n",
        "    def __init__(self):\n",
        "        self.tp = 0\n",
        "        self.fp = 0\n",
        "        self.fn = 0\n",
        "\n",
        "    def update(self, pred, target):\n",
        "        pred = frozenset(x for x in pred)\n",
        "        target = frozenset(x for x in target)\n",
        "        self.tp += len(pred & target)\n",
        "        self.fp += len(pred - target)\n",
        "        self.fn += len(target - pred)\n",
        "\n",
        "    def reset(self):\n",
        "        self.tp = 0\n",
        "        self.fp = 0\n",
        "        self.fn = 0\n",
        "\n",
        "    def get(self):\n",
        "        if self.tp == 0:\n",
        "            return 0.0\n",
        "        precision = self.tp / (self.tp + self.fp)\n",
        "        recall = self.tp / (self.tp + self.fn)\n",
        "        return 2 / (1 / precision + 1 / recall)\n",
        "\n",
        "\n",
        "import evaluate\n",
        "\n",
        "metric = evaluate.load(\"seqeval\")\n"
      ],
      "id": "5d7e3be6-fa2d-4360-a67a-e02d8165946a"
    },
    {
      "cell_type": "markdown",
      "metadata": {
        "id": "7137438d-6ad8-47b6-9d87-d5f81ee8be85"
      },
      "source": [
        "# Training"
      ],
      "id": "7137438d-6ad8-47b6-9d87-d5f81ee8be85"
    },
    {
      "cell_type": "code",
      "execution_count": null,
      "metadata": {
        "id": "b2e81d66-d02b-42aa-8de5-000651d51136"
      },
      "outputs": [],
      "source": [
        "from transformers import TrainingArguments\n",
        "\n",
        "args = TrainingArguments(\n",
        "    model_name,\n",
        "    evaluation_strategy=\"epoch\",\n",
        "    save_strategy=\"epoch\",\n",
        "    learning_rate=2e-5,\n",
        "    num_train_epochs=3,\n",
        "    weight_decay=0.01\n",
        ")"
      ],
      "id": "b2e81d66-d02b-42aa-8de5-000651d51136"
    },
    {
      "cell_type": "code",
      "execution_count": null,
      "metadata": {
        "colab": {
          "base_uri": "https://localhost:8080/"
        },
        "id": "f_C7vXTNkLGm",
        "outputId": "bb429896-c6e3-42c6-f966-f6321cf2873b"
      },
      "outputs": [
        {
          "output_type": "execute_result",
          "data": {
            "text/plain": [
              "{'tokens': [['лопатка', 'малая', 'бук', 'шт'],\n",
              "  ['провод', 'пвс', 'гост', 'белый', 'пог']],\n",
              " 'labels': [['B-GOOD', 'O', 'O', 'O'], ['B-GOOD', 'O', 'O', 'O', 'O']],\n",
              " 'numeric_labels': [[3, 0, 0, 0], [3, 0, 0, 0, 0]]}"
            ]
          },
          "metadata": {},
          "execution_count": 48
        }
      ],
      "source": [
        "validation_dataset[:2]"
      ],
      "id": "f_C7vXTNkLGm"
    },
    {
      "cell_type": "code",
      "execution_count": null,
      "metadata": {
        "id": "fcca6333-f499-4e0f-960c-6b34313f8fc8"
      },
      "outputs": [],
      "source": [
        "from torch.utils.data import DataLoader\n",
        "\n",
        "train_dataloader = DataLoader(\n",
        "    tokenized_train,\n",
        "    shuffle=True,\n",
        "    collate_fn=data_collator,\n",
        "    batch_size=16,\n",
        ")\n",
        "eval_dataloader = DataLoader(\n",
        "    tokenized_val, collate_fn=data_collator, batch_size=16\n",
        ")"
      ],
      "id": "fcca6333-f499-4e0f-960c-6b34313f8fc8"
    },
    {
      "cell_type": "markdown",
      "source": [
        "# Hyperparameters search"
      ],
      "metadata": {
        "id": "nna6NQaxep43"
      },
      "id": "nna6NQaxep43"
    },
    {
      "cell_type": "code",
      "source": [
        "def postprocess(predictions, labels):\n",
        "    predictions = predictions.detach().cpu().clone().numpy()\n",
        "    labels = labels.detach().cpu().clone().numpy()\n",
        "\n",
        "    # Remove ignored index (special tokens) and convert to labels\n",
        "    true_labels = [[label_names[l] for l in label if l != -100] for label in labels]\n",
        "    true_predictions = [\n",
        "        [label_names[p] for (p, l) in zip(prediction, label) if l != -100]\n",
        "        for prediction, label in zip(predictions, labels)\n",
        "    ]\n",
        "    return true_labels, true_predictions"
      ],
      "metadata": {
        "id": "hSHLQrDYue6R"
      },
      "id": "hSHLQrDYue6R",
      "execution_count": null,
      "outputs": []
    },
    {
      "cell_type": "code",
      "source": [
        "def compute_metrics(eval_preds):\n",
        "    logits, labels = eval_preds\n",
        "    predictions = np.argmax(logits, axis=-1)\n",
        "\n",
        "    # Remove ignored index (special tokens) and convert to labels\n",
        "    true_labels = [[label_names[l] for l in label if l != -100] for label in labels]\n",
        "    true_predictions = [\n",
        "        [label_names[p] for (p, l) in zip(prediction, label) if l != -100]\n",
        "        for prediction, label in zip(predictions, labels)\n",
        "    ]\n",
        "    results = metric.compute(predictions=true_predictions, references=true_labels)\n",
        "    f1_brand = results[\"BRAND\"][\"f1\"]\n",
        "    f1_good = results[\"GOOD\"][\"f1\"]\n",
        "    weighted_f1 = 2 / 3 * f1_brand + 1 / 3 * f1_good\n",
        "    return {\n",
        "        \"f1\": weighted_f1,\n",
        "        \"f1_brand\": f1_brand,\n",
        "    }"
      ],
      "metadata": {
        "id": "BbM7udwgxrV9"
      },
      "id": "BbM7udwgxrV9",
      "execution_count": null,
      "outputs": []
    },
    {
      "cell_type": "code",
      "source": [
        "#!pip install optuna"
      ],
      "metadata": {
        "id": "0tGkpVs0j8nx"
      },
      "id": "0tGkpVs0j8nx",
      "execution_count": null,
      "outputs": []
    },
    {
      "cell_type": "code",
      "source": [
        "# from transformers import Trainer\n",
        "\n",
        "# args = TrainingArguments(\n",
        "#     model_name,\n",
        "#     evaluation_strategy=\"epoch\",\n",
        "#     save_strategy=\"epoch\",\n",
        "#     num_train_epochs=6\n",
        "# )\n",
        "\n",
        "# def optuna_hp_space(trial):\n",
        "\n",
        "#     return {\n",
        "\n",
        "#         \"learning_rate\": trial.suggest_float(\"learning_rate\", 1e-6, 1e-4, log=True),\n",
        "\n",
        "#         \"per_device_train_batch_size\": trial.suggest_categorical(\"per_device_train_batch_size\", [16, 32, 64]),\n",
        "\n",
        "#     }\n",
        "\n",
        "# def model_init(trial):\n",
        "#     return AutoModelForTokenClassification.from_pretrained(\"/content/drive/MyDrive/models/deep_pavlov_init\", id2label=id2label,\n",
        "#                                                             label2id=label2id, ignore_mismatched_sizes=True)\n"
      ],
      "metadata": {
        "id": "1ljf-kSkesHZ"
      },
      "id": "1ljf-kSkesHZ",
      "execution_count": null,
      "outputs": []
    },
    {
      "cell_type": "code",
      "source": [
        "# trainer = Trainer(\n",
        "#     model=None,\n",
        "#     args=args,\n",
        "#     train_dataset=tokenized_train,\n",
        "#     eval_dataset=tokenized_val,\n",
        "#     data_collator=data_collator,\n",
        "#     compute_metrics=compute_metrics,\n",
        "#     tokenizer=tokenizer,\n",
        "#     model_init=model_init\n",
        "# )\n",
        "\n",
        "# best_trial = trainer.hyperparameter_search(\n",
        "#     direction=\"maximize\",\n",
        "#     backend=\"optuna\",\n",
        "#     hp_space=optuna_hp_space,\n",
        "#     n_trials=5,\n",
        "# )"
      ],
      "metadata": {
        "id": "dQvgmkA9jeIA"
      },
      "id": "dQvgmkA9jeIA",
      "execution_count": null,
      "outputs": []
    },
    {
      "cell_type": "markdown",
      "source": [
        "\n",
        "# Train(yes)"
      ],
      "metadata": {
        "id": "JBCFvbW8g_c4"
      },
      "id": "JBCFvbW8g_c4"
    },
    {
      "cell_type": "code",
      "execution_count": null,
      "metadata": {
        "id": "0d2d543f-9e59-40e5-a521-ba4171b7a194"
      },
      "outputs": [],
      "source": [
        "from torch.optim import AdamW\n",
        "\n",
        "optimizer = AdamW(model.parameters(), lr=1.2396744163601523e-05)"
      ],
      "id": "0d2d543f-9e59-40e5-a521-ba4171b7a194"
    },
    {
      "cell_type": "code",
      "execution_count": null,
      "metadata": {
        "id": "6805c3f4-657d-47d6-84db-fb1a5e421a4c"
      },
      "outputs": [],
      "source": [
        "from accelerate import Accelerator\n",
        "\n",
        "accelerator = Accelerator()\n",
        "model, optimizer, train_dataloader, eval_dataloader = accelerator.prepare(\n",
        "    model, optimizer, train_dataloader, eval_dataloader\n",
        ")"
      ],
      "id": "6805c3f4-657d-47d6-84db-fb1a5e421a4c"
    },
    {
      "cell_type": "code",
      "execution_count": null,
      "metadata": {
        "id": "5545973a-95e2-48c0-9135-988f1e5e0559"
      },
      "outputs": [],
      "source": [
        "from transformers import get_scheduler\n",
        "\n",
        "num_train_epochs = 6\n",
        "num_update_steps_per_epoch = len(train_dataloader)\n",
        "num_training_steps = num_train_epochs * num_update_steps_per_epoch\n",
        "\n",
        "lr_scheduler = get_scheduler(\n",
        "    \"linear\",\n",
        "    optimizer=optimizer,\n",
        "    num_warmup_steps=0,\n",
        "    num_training_steps=num_training_steps,\n",
        ")"
      ],
      "id": "5545973a-95e2-48c0-9135-988f1e5e0559"
    },
    {
      "cell_type": "code",
      "execution_count": null,
      "metadata": {
        "id": "a7a7db4b-f6d8-4f33-a953-48ee42f3721a"
      },
      "outputs": [],
      "source": [
        "output_dir = \"/content/drive/MyDrive/models/deep_pavlov_init\""
      ],
      "id": "a7a7db4b-f6d8-4f33-a953-48ee42f3721a"
    },
    {
      "cell_type": "code",
      "execution_count": null,
      "metadata": {
        "id": "f4d079bc-7c31-4382-9908-d7f81771fa8e"
      },
      "outputs": [],
      "source": [
        "def postprocess(predictions, labels):\n",
        "    predictions = predictions.detach().cpu().clone().numpy()\n",
        "    labels = labels.detach().cpu().clone().numpy()\n",
        "\n",
        "    # Remove ignored index (special tokens) and convert to labels\n",
        "    true_labels = [[label_names[l] for l in label if l != -100] for label in labels]\n",
        "    true_predictions = [\n",
        "        [label_names[p] for (p, l) in zip(prediction, label) if l != -100]\n",
        "        for prediction, label in zip(predictions, labels)\n",
        "    ]\n",
        "    return true_labels, true_predictions"
      ],
      "id": "f4d079bc-7c31-4382-9908-d7f81771fa8e"
    },
    {
      "cell_type": "code",
      "execution_count": null,
      "metadata": {
        "colab": {
          "base_uri": "https://localhost:8080/",
          "height": 674,
          "referenced_widgets": [
            "c5652b384e3c4bf4a315b0f0d9a79df1",
            "546b63cf380a4a3087e7709b3337c505",
            "a35f849c312b41c19a4ed3d4812985c0",
            "19dcb2a0f6a647b8ac04724d2683dda9",
            "b721cb74103440f4a69f392bd3010a7c",
            "6e688fc8cea04f5dbfc3f24075a22002",
            "82830577917743728d42e3d0f35f2158",
            "ea2839e5500d4ff49c3a52a177022241",
            "a0114c8443bd4204a5074d687505c23b",
            "021405246feb40d485c88ceec3e77698",
            "f6a67a089de14d7685dcb59aac65b54b"
          ]
        },
        "id": "f8709ec4-fce7-4561-9429-324dc2a9dcfb",
        "outputId": "5c5172a8-4d32-46ed-bda2-a7236a990036"
      },
      "outputs": [
        {
          "output_type": "display_data",
          "data": {
            "text/plain": [
              "  0%|          | 0/7980 [00:00<?, ?it/s]"
            ],
            "application/vnd.jupyter.widget-view+json": {
              "version_major": 2,
              "version_minor": 0,
              "model_id": "c5652b384e3c4bf4a315b0f0d9a79df1"
            }
          },
          "metadata": {}
        },
        {
          "output_type": "stream",
          "name": "stdout",
          "text": [
            "epoch № 1\n",
            "WEIGHTED_F1 = 0.8780628242455035\n",
            "f1 brand = 0.836874324810947\n",
            "f1 good = 0.960439823114617\n",
            "{'precision': 0.9342958161461402, 'recall': 0.8891069676153092, 'f1': 0.9111414409884347, 'accuracy': 0.9496976124279859}\n",
            "\n",
            "epoch № 2\n",
            "WEIGHTED_F1 = 0.9278158793583887\n",
            "f1 brand = 0.9039716576542979\n",
            "f1 good = 0.9755043227665706\n",
            "{'precision': 0.95550972304066, 'recall': 0.9395914819643634, 'f1': 0.9474837484478854, 'accuracy': 0.9723981770758692}\n",
            "\n",
            "epoch № 3\n",
            "WEIGHTED_F1 = 0.9549030985864296\n",
            "f1 brand = 0.9413489736070381\n",
            "f1 good = 0.982011348545213\n",
            "{'precision': 0.9774602239245728, 'recall': 0.9545389152639908, 'f1': 0.9658635999708859, 'accuracy': 0.9806529278569176}\n",
            "\n",
            "epoch № 4\n",
            "WEIGHTED_F1 = 0.9736413431818274\n",
            "f1 brand = 0.967935495968498\n",
            "f1 good = 0.9850530376084861\n",
            "{'precision': 0.9821744254566883, 'recall': 0.9745651220581786, 'f1': 0.9783549783549783, 'accuracy': 0.9894236005617817}\n",
            "\n",
            "epoch № 5\n",
            "WEIGHTED_F1 = 0.9797748442930514\n",
            "f1 brand = 0.9751541191855035\n",
            "f1 good = 0.9890162945081473\n",
            "{'precision': 0.9880671773718327, 'recall': 0.9791240875912409, 'f1': 0.9835753042968177, 'accuracy': 0.9918312362062541}\n",
            "\n",
            "epoch № 6\n",
            "WEIGHTED_F1 = 0.9837119268168337\n",
            "f1 brand = 0.9806354577928182\n",
            "f1 good = 0.9898648648648649\n",
            "{'precision': 0.9885091337654685, 'recall': 0.9840152515031529, 'f1': 0.9862570735650769, 'accuracy': 0.9937516122560119}\n",
            "\n"
          ]
        }
      ],
      "source": [
        "from tqdm.auto import tqdm\n",
        "import torch\n",
        "\n",
        "\n",
        "\n",
        "progress_bar = tqdm(range(num_training_steps))\n",
        "\n",
        "for epoch in range(num_train_epochs):\n",
        "    # Training\n",
        "    model.train()\n",
        "    for batch in train_dataloader:\n",
        "\n",
        "        outputs = model(**batch)\n",
        "        loss = outputs.loss\n",
        "        accelerator.backward(loss)\n",
        "\n",
        "        optimizer.step()\n",
        "        lr_scheduler.step()\n",
        "        optimizer.zero_grad()\n",
        "        progress_bar.update(1)\n",
        "\n",
        "\n",
        "\n",
        "    model.eval()\n",
        "    for batch in eval_dataloader:\n",
        "        with torch.no_grad():\n",
        "            outputs = model(**batch)\n",
        "\n",
        "        predictions = outputs.logits.argmax(dim=-1)\n",
        "        labels = batch[\"labels\"]\n",
        "\n",
        "        # Necessary to pad predictions and labels for being gathered\n",
        "        predictions = accelerator.pad_across_processes(predictions, dim=1, pad_index=-100)\n",
        "        labels = accelerator.pad_across_processes(labels, dim=1, pad_index=-100)\n",
        "\n",
        "        predictions_gathered = accelerator.gather(predictions)\n",
        "        labels_gathered = accelerator.gather(labels)\n",
        "\n",
        "        true_predictions, true_labels = postprocess(predictions_gathered, labels_gathered)\n",
        "        metric.add_batch(predictions=true_predictions, references=true_labels)\n",
        "\n",
        "\n",
        "    results = metric.compute()\n",
        "    f1_brand = results[\"BRAND\"][\"f1\"]\n",
        "    f1_good = results[\"GOOD\"][\"f1\"]\n",
        "    weighted_f1 = 2 / 3 * f1_brand + 1 / 3 * f1_good\n",
        "    print(f\"epoch № {epoch + 1}\")\n",
        "    print(f\"WEIGHTED_F1 = {weighted_f1}\")\n",
        "    print(f\"f1 brand = {f1_brand}\")\n",
        "    print(f\"f1 good = {f1_good}\")\n",
        "    print(\n",
        "        {\n",
        "            key: results[f\"overall_{key}\"]\n",
        "            for key in [\"precision\", \"recall\", \"f1\", \"accuracy\"]\n",
        "        },\n",
        "    )\n",
        "    print()\n",
        "\n",
        "    # Save\n",
        "    accelerator.wait_for_everyone()\n",
        "    unwrapped_model = accelerator.unwrap_model(model)\n",
        "    unwrapped_model.save_pretrained(output_dir, save_function=accelerator.save)\n",
        "    if accelerator.is_main_process:\n",
        "        tokenizer.save_pretrained(output_dir)\n",
        "\n"
      ],
      "id": "f8709ec4-fce7-4561-9429-324dc2a9dcfb"
    },
    {
      "cell_type": "code",
      "source": [
        "0.995406071392865"
      ],
      "metadata": {
        "id": "X0ubZ7iw3Zh-"
      },
      "id": "X0ubZ7iw3Zh-",
      "execution_count": null,
      "outputs": []
    },
    {
      "cell_type": "code",
      "source": [
        "for g in optimizer.param_groups:\n",
        "    g['lr'] = 2e-6"
      ],
      "metadata": {
        "id": "1dr1D-5Z0ab2",
        "colab": {
          "base_uri": "https://localhost:8080/",
          "height": 186
        },
        "outputId": "76826424-ba09-46dd-ccbd-1ef7837d4e60"
      },
      "id": "1dr1D-5Z0ab2",
      "execution_count": null,
      "outputs": [
        {
          "output_type": "error",
          "ename": "NameError",
          "evalue": "ignored",
          "traceback": [
            "\u001b[0;31m---------------------------------------------------------------------------\u001b[0m",
            "\u001b[0;31mNameError\u001b[0m                                 Traceback (most recent call last)",
            "\u001b[0;32m<ipython-input-1-9771fef34382>\u001b[0m in \u001b[0;36m<cell line: 1>\u001b[0;34m()\u001b[0m\n\u001b[0;32m----> 1\u001b[0;31m \u001b[0;32mfor\u001b[0m \u001b[0mg\u001b[0m \u001b[0;32min\u001b[0m \u001b[0moptimizer\u001b[0m\u001b[0;34m.\u001b[0m\u001b[0mparam_groups\u001b[0m\u001b[0;34m:\u001b[0m\u001b[0;34m\u001b[0m\u001b[0;34m\u001b[0m\u001b[0m\n\u001b[0m\u001b[1;32m      2\u001b[0m     \u001b[0mg\u001b[0m\u001b[0;34m[\u001b[0m\u001b[0;34m'lr'\u001b[0m\u001b[0;34m]\u001b[0m \u001b[0;34m=\u001b[0m \u001b[0;36m2e-6\u001b[0m\u001b[0;34m\u001b[0m\u001b[0;34m\u001b[0m\u001b[0m\n",
            "\u001b[0;31mNameError\u001b[0m: name 'optimizer' is not defined"
          ]
        }
      ]
    },
    {
      "cell_type": "markdown",
      "metadata": {
        "id": "c364abd4-c390-4079-879a-8694d41b0c5d"
      },
      "source": [
        "# Evaluating"
      ],
      "id": "c364abd4-c390-4079-879a-8694d41b0c5d"
    },
    {
      "cell_type": "code",
      "execution_count": null,
      "metadata": {
        "colab": {
          "base_uri": "https://localhost:8080/"
        },
        "id": "56327790-5ef9-44f2-8e64-a3676bf0a348",
        "outputId": "10dcb5a0-de4d-4501-9334-d1260de381fa"
      },
      "outputs": [
        {
          "output_type": "execute_result",
          "data": {
            "text/plain": [
              "[['платье boa', ['B-GOOD', 'O'], [3, 0]],\n",
              " ['ролик пр cape csef', ['B-GOOD', 'O', 'O', 'O'], [3, 0, 0, 0]],\n",
              " ['sheba pleasure гр кошек ломт соусе курица',\n",
              "  ['B-BRAND', 'O', 'O', 'O', 'O', 'O', 'B-GOOD'],\n",
              "  [1, 0, 0, 0, 0, 0, 3]]]"
            ]
          },
          "metadata": {},
          "execution_count": 82
        }
      ],
      "source": [
        "test_dataset = list(map(lambda x: [' '.join(x[0])] + [x[i] for i in range(1, len(x))], name_and_labels[int(n * 0.75):]))\n",
        "test_dataset[:3]"
      ],
      "id": "56327790-5ef9-44f2-8e64-a3676bf0a348"
    },
    {
      "cell_type": "code",
      "execution_count": null,
      "metadata": {
        "id": "3b983eb0-384c-461d-91d9-742464d3a5a1"
      },
      "outputs": [],
      "source": [
        "from transformers import pipeline\n",
        "token_classifier = pipeline(\n",
        "    \"token-classification\", model=model, tokenizer=tokenizer, aggregation_strategy=\"simple\", device=0\n",
        ")"
      ],
      "id": "3b983eb0-384c-461d-91d9-742464d3a5a1"
    },
    {
      "cell_type": "code",
      "execution_count": null,
      "metadata": {
        "id": "57_2SuPFAuWX"
      },
      "outputs": [],
      "source": [
        "out_brands = []\n",
        "out_goods = []\n",
        "for name, label, ner_tags in test_dataset:\n",
        "    curr_b = []\n",
        "    curr_g = []\n",
        "    out = token_classifier(name)\n",
        "    for x in out:\n",
        "        if x[\"entity_group\"] == \"BRAND\":\n",
        "            curr_b.append(x[\"word\"])\n",
        "        else:\n",
        "            curr_g.append(x[\"word\"])\n",
        "    out_brands.append(curr_b)\n",
        "    out_goods.append(curr_g)"
      ],
      "id": "57_2SuPFAuWX"
    },
    {
      "cell_type": "code",
      "execution_count": null,
      "metadata": {
        "colab": {
          "base_uri": "https://localhost:8080/"
        },
        "id": "H2G53kb4BJAz",
        "outputId": "eca7f5aa-3b26-467e-c9ba-4fc878287161"
      },
      "outputs": [
        {
          "output_type": "execute_result",
          "data": {
            "text/plain": [
              "['платье',\n",
              " 'ролик',\n",
              " 'курица',\n",
              " 'нож',\n",
              " 'шоколад',\n",
              " 'краска',\n",
              " 'ветчина',\n",
              " 'шоколад',\n",
              " 'продукт плавленый',\n",
              " 'скребок']"
            ]
          },
          "metadata": {},
          "execution_count": 99
        }
      ],
      "source": [
        "out_goods = list(map(lambda x: ','.join(x), out_goods))\n",
        "out_goods[:10]"
      ],
      "id": "H2G53kb4BJAz"
    },
    {
      "cell_type": "code",
      "execution_count": null,
      "metadata": {
        "colab": {
          "base_uri": "https://localhost:8080/"
        },
        "id": "4NahsaMZJFXs",
        "outputId": "6e93ea54-332e-4e51-8707-a48e2f581ffe"
      },
      "outputs": [
        {
          "output_type": "execute_result",
          "data": {
            "text/plain": [
              "['',\n",
              " '',\n",
              " 'sheba',\n",
              " 'rexant',\n",
              " 'milka',\n",
              " 'kapous',\n",
              " 'сибирские колбасы',\n",
              " 'schogetten',\n",
              " 'дружба',\n",
              " '']"
            ]
          },
          "metadata": {},
          "execution_count": 100
        }
      ],
      "source": [
        "out_brands = list(map(lambda x: ','.join(x), out_brands))\n",
        "out_brands[:10]"
      ],
      "id": "4NahsaMZJFXs"
    },
    {
      "cell_type": "code",
      "execution_count": null,
      "metadata": {
        "id": "beqUgqXKO6Ew"
      },
      "outputs": [],
      "source": [
        "# len(out_brands)"
      ],
      "id": "beqUgqXKO6Ew"
    },
    {
      "cell_type": "code",
      "execution_count": null,
      "metadata": {
        "colab": {
          "base_uri": "https://localhost:8080/"
        },
        "id": "6WRq8D9EA8Gb",
        "outputId": "280fbc68-e384-4f82-d9ab-4ef054cf3a4d"
      },
      "outputs": [
        {
          "output_type": "execute_result",
          "data": {
            "text/plain": [
              "(0.9893016300785078, 0.989735020291239, 0.9884348496530455)"
            ]
          },
          "metadata": {},
          "execution_count": 102
        }
      ],
      "source": [
        "f1_brand = F1Score()\n",
        "f1_good = F1Score()\n",
        "f1_brand.update(out_brands, real_brands[int(n * 0.75):])\n",
        "f1_good.update(out_goods, real_goods[int(n * 0.75):])\n",
        "\n",
        "f1 = 2 / 3 * f1_brand.get() + 1 / 3 * f1_good.get()\n",
        "f1, f1_brand.get(), f1_good.get()"
      ],
      "id": "6WRq8D9EA8Gb"
    },
    {
      "cell_type": "markdown",
      "metadata": {
        "id": "B3vxa4wdQCE4"
      },
      "source": [
        "оказывается метрика правильная. Похоже проблема в предобработке данных. Попробуем посчитать ф1 на сырых данных"
      ],
      "id": "B3vxa4wdQCE4"
    },
    {
      "cell_type": "code",
      "execution_count": null,
      "metadata": {
        "id": "dYgNENaaRGm3"
      },
      "outputs": [],
      "source": [],
      "id": "dYgNENaaRGm3"
    },
    {
      "cell_type": "markdown",
      "metadata": {
        "id": "lYb4N4abRG-H"
      },
      "source": [
        "# test"
      ],
      "id": "lYb4N4abRG-H"
    },
    {
      "cell_type": "code",
      "execution_count": null,
      "metadata": {
        "colab": {
          "base_uri": "https://localhost:8080/",
          "height": 206
        },
        "id": "rUzmYVQJRD5O",
        "outputId": "b49560dd-3e01-4c13-f062-8be32e4bb1c4"
      },
      "outputs": [
        {
          "output_type": "execute_result",
          "data": {
            "text/plain": [
              "   id                                             name\n",
              "0   0  469-210 ЕРМАК Клей универсальный, 15мл, блистер\n",
              "1   1                  Торт СЛАДУШКА Зимняя вишня 700г\n",
              "2   2             Смеситель \"CALORIE\" 1023 А06 д/кухни\n",
              "3   3                                   Лимон 50гр БАР\n",
              "4   4            Коньяк САРАДЖИШВИЛИ 5 лет 0,5л Грузия"
            ],
            "text/html": [
              "\n",
              "  <div id=\"df-0cec9bb5-18f4-4f78-b6aa-5e43965ede8b\">\n",
              "    <div class=\"colab-df-container\">\n",
              "      <div>\n",
              "<style scoped>\n",
              "    .dataframe tbody tr th:only-of-type {\n",
              "        vertical-align: middle;\n",
              "    }\n",
              "\n",
              "    .dataframe tbody tr th {\n",
              "        vertical-align: top;\n",
              "    }\n",
              "\n",
              "    .dataframe thead th {\n",
              "        text-align: right;\n",
              "    }\n",
              "</style>\n",
              "<table border=\"1\" class=\"dataframe\">\n",
              "  <thead>\n",
              "    <tr style=\"text-align: right;\">\n",
              "      <th></th>\n",
              "      <th>id</th>\n",
              "      <th>name</th>\n",
              "    </tr>\n",
              "  </thead>\n",
              "  <tbody>\n",
              "    <tr>\n",
              "      <th>0</th>\n",
              "      <td>0</td>\n",
              "      <td>469-210 ЕРМАК Клей универсальный, 15мл, блистер</td>\n",
              "    </tr>\n",
              "    <tr>\n",
              "      <th>1</th>\n",
              "      <td>1</td>\n",
              "      <td>Торт СЛАДУШКА Зимняя вишня 700г</td>\n",
              "    </tr>\n",
              "    <tr>\n",
              "      <th>2</th>\n",
              "      <td>2</td>\n",
              "      <td>Смеситель \"CALORIE\" 1023 А06 д/кухни</td>\n",
              "    </tr>\n",
              "    <tr>\n",
              "      <th>3</th>\n",
              "      <td>3</td>\n",
              "      <td>Лимон 50гр БАР</td>\n",
              "    </tr>\n",
              "    <tr>\n",
              "      <th>4</th>\n",
              "      <td>4</td>\n",
              "      <td>Коньяк САРАДЖИШВИЛИ 5 лет 0,5л Грузия</td>\n",
              "    </tr>\n",
              "  </tbody>\n",
              "</table>\n",
              "</div>\n",
              "      <button class=\"colab-df-convert\" onclick=\"convertToInteractive('df-0cec9bb5-18f4-4f78-b6aa-5e43965ede8b')\"\n",
              "              title=\"Convert this dataframe to an interactive table.\"\n",
              "              style=\"display:none;\">\n",
              "        \n",
              "  <svg xmlns=\"http://www.w3.org/2000/svg\" height=\"24px\"viewBox=\"0 0 24 24\"\n",
              "       width=\"24px\">\n",
              "    <path d=\"M0 0h24v24H0V0z\" fill=\"none\"/>\n",
              "    <path d=\"M18.56 5.44l.94 2.06.94-2.06 2.06-.94-2.06-.94-.94-2.06-.94 2.06-2.06.94zm-11 1L8.5 8.5l.94-2.06 2.06-.94-2.06-.94L8.5 2.5l-.94 2.06-2.06.94zm10 10l.94 2.06.94-2.06 2.06-.94-2.06-.94-.94-2.06-.94 2.06-2.06.94z\"/><path d=\"M17.41 7.96l-1.37-1.37c-.4-.4-.92-.59-1.43-.59-.52 0-1.04.2-1.43.59L10.3 9.45l-7.72 7.72c-.78.78-.78 2.05 0 2.83L4 21.41c.39.39.9.59 1.41.59.51 0 1.02-.2 1.41-.59l7.78-7.78 2.81-2.81c.8-.78.8-2.07 0-2.86zM5.41 20L4 18.59l7.72-7.72 1.47 1.35L5.41 20z\"/>\n",
              "  </svg>\n",
              "      </button>\n",
              "      \n",
              "  <style>\n",
              "    .colab-df-container {\n",
              "      display:flex;\n",
              "      flex-wrap:wrap;\n",
              "      gap: 12px;\n",
              "    }\n",
              "\n",
              "    .colab-df-convert {\n",
              "      background-color: #E8F0FE;\n",
              "      border: none;\n",
              "      border-radius: 50%;\n",
              "      cursor: pointer;\n",
              "      display: none;\n",
              "      fill: #1967D2;\n",
              "      height: 32px;\n",
              "      padding: 0 0 0 0;\n",
              "      width: 32px;\n",
              "    }\n",
              "\n",
              "    .colab-df-convert:hover {\n",
              "      background-color: #E2EBFA;\n",
              "      box-shadow: 0px 1px 2px rgba(60, 64, 67, 0.3), 0px 1px 3px 1px rgba(60, 64, 67, 0.15);\n",
              "      fill: #174EA6;\n",
              "    }\n",
              "\n",
              "    [theme=dark] .colab-df-convert {\n",
              "      background-color: #3B4455;\n",
              "      fill: #D2E3FC;\n",
              "    }\n",
              "\n",
              "    [theme=dark] .colab-df-convert:hover {\n",
              "      background-color: #434B5C;\n",
              "      box-shadow: 0px 1px 3px 1px rgba(0, 0, 0, 0.15);\n",
              "      filter: drop-shadow(0px 1px 2px rgba(0, 0, 0, 0.3));\n",
              "      fill: #FFFFFF;\n",
              "    }\n",
              "  </style>\n",
              "\n",
              "      <script>\n",
              "        const buttonEl =\n",
              "          document.querySelector('#df-0cec9bb5-18f4-4f78-b6aa-5e43965ede8b button.colab-df-convert');\n",
              "        buttonEl.style.display =\n",
              "          google.colab.kernel.accessAllowed ? 'block' : 'none';\n",
              "\n",
              "        async function convertToInteractive(key) {\n",
              "          const element = document.querySelector('#df-0cec9bb5-18f4-4f78-b6aa-5e43965ede8b');\n",
              "          const dataTable =\n",
              "            await google.colab.kernel.invokeFunction('convertToInteractive',\n",
              "                                                     [key], {});\n",
              "          if (!dataTable) return;\n",
              "\n",
              "          const docLinkHtml = 'Like what you see? Visit the ' +\n",
              "            '<a target=\"_blank\" href=https://colab.research.google.com/notebooks/data_table.ipynb>data table notebook</a>'\n",
              "            + ' to learn more about interactive tables.';\n",
              "          element.innerHTML = '';\n",
              "          dataTable['output_type'] = 'display_data';\n",
              "          await google.colab.output.renderOutput(dataTable, element);\n",
              "          const docLink = document.createElement('div');\n",
              "          docLink.innerHTML = docLinkHtml;\n",
              "          element.appendChild(docLink);\n",
              "        }\n",
              "      </script>\n",
              "    </div>\n",
              "  </div>\n",
              "  "
            ]
          },
          "metadata": {},
          "execution_count": 61
        }
      ],
      "source": [
        "test_data = pd.read_csv(\"/content/drive/MyDrive/data/test_dataset.csv\")\n",
        "test_data.head()"
      ],
      "id": "rUzmYVQJRD5O"
    },
    {
      "cell_type": "code",
      "execution_count": null,
      "metadata": {
        "colab": {
          "base_uri": "https://localhost:8080/",
          "height": 206
        },
        "id": "xU9fuP2uRXRC",
        "outputId": "6734c9c7-6a80-468b-9df8-d4608e8012cb"
      },
      "outputs": [
        {
          "output_type": "execute_result",
          "data": {
            "text/plain": [
              "   id                                      name\n",
              "0   0  1 1 ермак клей универсальный 1мл блистер\n",
              "1   1             торт сладушка зимняя вишня 1г\n",
              "2   2            смеситель calorie 1 а1 д кухни\n",
              "3   3                             лимон 1гр бар\n",
              "4   4     коньяк сараджишвили 1 лет 1 1л грузия"
            ],
            "text/html": [
              "\n",
              "  <div id=\"df-08afba69-305d-41d7-9d4a-519881d3a716\">\n",
              "    <div class=\"colab-df-container\">\n",
              "      <div>\n",
              "<style scoped>\n",
              "    .dataframe tbody tr th:only-of-type {\n",
              "        vertical-align: middle;\n",
              "    }\n",
              "\n",
              "    .dataframe tbody tr th {\n",
              "        vertical-align: top;\n",
              "    }\n",
              "\n",
              "    .dataframe thead th {\n",
              "        text-align: right;\n",
              "    }\n",
              "</style>\n",
              "<table border=\"1\" class=\"dataframe\">\n",
              "  <thead>\n",
              "    <tr style=\"text-align: right;\">\n",
              "      <th></th>\n",
              "      <th>id</th>\n",
              "      <th>name</th>\n",
              "    </tr>\n",
              "  </thead>\n",
              "  <tbody>\n",
              "    <tr>\n",
              "      <th>0</th>\n",
              "      <td>0</td>\n",
              "      <td>1 1 ермак клей универсальный 1мл блистер</td>\n",
              "    </tr>\n",
              "    <tr>\n",
              "      <th>1</th>\n",
              "      <td>1</td>\n",
              "      <td>торт сладушка зимняя вишня 1г</td>\n",
              "    </tr>\n",
              "    <tr>\n",
              "      <th>2</th>\n",
              "      <td>2</td>\n",
              "      <td>смеситель calorie 1 а1 д кухни</td>\n",
              "    </tr>\n",
              "    <tr>\n",
              "      <th>3</th>\n",
              "      <td>3</td>\n",
              "      <td>лимон 1гр бар</td>\n",
              "    </tr>\n",
              "    <tr>\n",
              "      <th>4</th>\n",
              "      <td>4</td>\n",
              "      <td>коньяк сараджишвили 1 лет 1 1л грузия</td>\n",
              "    </tr>\n",
              "  </tbody>\n",
              "</table>\n",
              "</div>\n",
              "      <button class=\"colab-df-convert\" onclick=\"convertToInteractive('df-08afba69-305d-41d7-9d4a-519881d3a716')\"\n",
              "              title=\"Convert this dataframe to an interactive table.\"\n",
              "              style=\"display:none;\">\n",
              "        \n",
              "  <svg xmlns=\"http://www.w3.org/2000/svg\" height=\"24px\"viewBox=\"0 0 24 24\"\n",
              "       width=\"24px\">\n",
              "    <path d=\"M0 0h24v24H0V0z\" fill=\"none\"/>\n",
              "    <path d=\"M18.56 5.44l.94 2.06.94-2.06 2.06-.94-2.06-.94-.94-2.06-.94 2.06-2.06.94zm-11 1L8.5 8.5l.94-2.06 2.06-.94-2.06-.94L8.5 2.5l-.94 2.06-2.06.94zm10 10l.94 2.06.94-2.06 2.06-.94-2.06-.94-.94-2.06-.94 2.06-2.06.94z\"/><path d=\"M17.41 7.96l-1.37-1.37c-.4-.4-.92-.59-1.43-.59-.52 0-1.04.2-1.43.59L10.3 9.45l-7.72 7.72c-.78.78-.78 2.05 0 2.83L4 21.41c.39.39.9.59 1.41.59.51 0 1.02-.2 1.41-.59l7.78-7.78 2.81-2.81c.8-.78.8-2.07 0-2.86zM5.41 20L4 18.59l7.72-7.72 1.47 1.35L5.41 20z\"/>\n",
              "  </svg>\n",
              "      </button>\n",
              "      \n",
              "  <style>\n",
              "    .colab-df-container {\n",
              "      display:flex;\n",
              "      flex-wrap:wrap;\n",
              "      gap: 12px;\n",
              "    }\n",
              "\n",
              "    .colab-df-convert {\n",
              "      background-color: #E8F0FE;\n",
              "      border: none;\n",
              "      border-radius: 50%;\n",
              "      cursor: pointer;\n",
              "      display: none;\n",
              "      fill: #1967D2;\n",
              "      height: 32px;\n",
              "      padding: 0 0 0 0;\n",
              "      width: 32px;\n",
              "    }\n",
              "\n",
              "    .colab-df-convert:hover {\n",
              "      background-color: #E2EBFA;\n",
              "      box-shadow: 0px 1px 2px rgba(60, 64, 67, 0.3), 0px 1px 3px 1px rgba(60, 64, 67, 0.15);\n",
              "      fill: #174EA6;\n",
              "    }\n",
              "\n",
              "    [theme=dark] .colab-df-convert {\n",
              "      background-color: #3B4455;\n",
              "      fill: #D2E3FC;\n",
              "    }\n",
              "\n",
              "    [theme=dark] .colab-df-convert:hover {\n",
              "      background-color: #434B5C;\n",
              "      box-shadow: 0px 1px 3px 1px rgba(0, 0, 0, 0.15);\n",
              "      filter: drop-shadow(0px 1px 2px rgba(0, 0, 0, 0.3));\n",
              "      fill: #FFFFFF;\n",
              "    }\n",
              "  </style>\n",
              "\n",
              "      <script>\n",
              "        const buttonEl =\n",
              "          document.querySelector('#df-08afba69-305d-41d7-9d4a-519881d3a716 button.colab-df-convert');\n",
              "        buttonEl.style.display =\n",
              "          google.colab.kernel.accessAllowed ? 'block' : 'none';\n",
              "\n",
              "        async function convertToInteractive(key) {\n",
              "          const element = document.querySelector('#df-08afba69-305d-41d7-9d4a-519881d3a716');\n",
              "          const dataTable =\n",
              "            await google.colab.kernel.invokeFunction('convertToInteractive',\n",
              "                                                     [key], {});\n",
              "          if (!dataTable) return;\n",
              "\n",
              "          const docLinkHtml = 'Like what you see? Visit the ' +\n",
              "            '<a target=\"_blank\" href=https://colab.research.google.com/notebooks/data_table.ipynb>data table notebook</a>'\n",
              "            + ' to learn more about interactive tables.';\n",
              "          element.innerHTML = '';\n",
              "          dataTable['output_type'] = 'display_data';\n",
              "          await google.colab.output.renderOutput(dataTable, element);\n",
              "          const docLink = document.createElement('div');\n",
              "          docLink.innerHTML = docLinkHtml;\n",
              "          element.appendChild(docLink);\n",
              "        }\n",
              "      </script>\n",
              "    </div>\n",
              "  </div>\n",
              "  "
            ]
          },
          "metadata": {},
          "execution_count": 62
        }
      ],
      "source": [
        "test_data.name = test_data.name.apply(preprocess_string)\n",
        "test_data.head()"
      ],
      "id": "xU9fuP2uRXRC"
    },
    {
      "cell_type": "code",
      "execution_count": null,
      "metadata": {
        "id": "2Ic3cAKdV52_"
      },
      "outputs": [],
      "source": [
        "from transformers import pipeline\n",
        "token_classifier = pipeline(\n",
        "    \"token-classification\", model=model, tokenizer=tokenizer, aggregation_strategy=\"average\", device=0\n",
        ")"
      ],
      "id": "2Ic3cAKdV52_"
    },
    {
      "cell_type": "code",
      "execution_count": null,
      "metadata": {
        "id": "7rCYVCke-_O1"
      },
      "outputs": [],
      "source": [
        "brands = []\n",
        "goods = []\n",
        "i = 0\n",
        "for x in test_data.name:\n",
        "    curr_b = []\n",
        "    curr_g = []\n",
        "    out = token_classifier(x)\n",
        "    for x in out:\n",
        "        print (x)\n",
        "        if x[\"entity_group\"] == \"BRAND\":\n",
        "            curr_b.append(x[\"word\"])\n",
        "        else:\n",
        "            curr_g.append(x[\"word\"])\n",
        "    brands.append(curr_b)\n",
        "    goods.append(curr_g)"
      ],
      "id": "7rCYVCke-_O1"
    },
    {
      "cell_type": "code",
      "execution_count": null,
      "metadata": {
        "colab": {
          "base_uri": "https://localhost:8080/",
          "height": 206
        },
        "id": "jC5-kDF-_PRD",
        "outputId": "8a0a14ef-4f3e-4f4c-96d9-8a97e6ce8fca"
      },
      "outputs": [
        {
          "output_type": "execute_result",
          "data": {
            "text/plain": [
              "   id         good           brand\n",
              "0   0       [клей]         [ермак]\n",
              "1   1       [торт]      [сладушка]\n",
              "2   2  [смеситель]       [calorie]\n",
              "3   3      [лимон]              []\n",
              "4   4     [коньяк]  [сараджишвили]"
            ],
            "text/html": [
              "\n",
              "  <div id=\"df-ce801e07-275f-4265-8c92-febbd39907eb\">\n",
              "    <div class=\"colab-df-container\">\n",
              "      <div>\n",
              "<style scoped>\n",
              "    .dataframe tbody tr th:only-of-type {\n",
              "        vertical-align: middle;\n",
              "    }\n",
              "\n",
              "    .dataframe tbody tr th {\n",
              "        vertical-align: top;\n",
              "    }\n",
              "\n",
              "    .dataframe thead th {\n",
              "        text-align: right;\n",
              "    }\n",
              "</style>\n",
              "<table border=\"1\" class=\"dataframe\">\n",
              "  <thead>\n",
              "    <tr style=\"text-align: right;\">\n",
              "      <th></th>\n",
              "      <th>id</th>\n",
              "      <th>good</th>\n",
              "      <th>brand</th>\n",
              "    </tr>\n",
              "  </thead>\n",
              "  <tbody>\n",
              "    <tr>\n",
              "      <th>0</th>\n",
              "      <td>0</td>\n",
              "      <td>[клей]</td>\n",
              "      <td>[ермак]</td>\n",
              "    </tr>\n",
              "    <tr>\n",
              "      <th>1</th>\n",
              "      <td>1</td>\n",
              "      <td>[торт]</td>\n",
              "      <td>[сладушка]</td>\n",
              "    </tr>\n",
              "    <tr>\n",
              "      <th>2</th>\n",
              "      <td>2</td>\n",
              "      <td>[смеситель]</td>\n",
              "      <td>[calorie]</td>\n",
              "    </tr>\n",
              "    <tr>\n",
              "      <th>3</th>\n",
              "      <td>3</td>\n",
              "      <td>[лимон]</td>\n",
              "      <td>[]</td>\n",
              "    </tr>\n",
              "    <tr>\n",
              "      <th>4</th>\n",
              "      <td>4</td>\n",
              "      <td>[коньяк]</td>\n",
              "      <td>[сараджишвили]</td>\n",
              "    </tr>\n",
              "  </tbody>\n",
              "</table>\n",
              "</div>\n",
              "      <button class=\"colab-df-convert\" onclick=\"convertToInteractive('df-ce801e07-275f-4265-8c92-febbd39907eb')\"\n",
              "              title=\"Convert this dataframe to an interactive table.\"\n",
              "              style=\"display:none;\">\n",
              "        \n",
              "  <svg xmlns=\"http://www.w3.org/2000/svg\" height=\"24px\"viewBox=\"0 0 24 24\"\n",
              "       width=\"24px\">\n",
              "    <path d=\"M0 0h24v24H0V0z\" fill=\"none\"/>\n",
              "    <path d=\"M18.56 5.44l.94 2.06.94-2.06 2.06-.94-2.06-.94-.94-2.06-.94 2.06-2.06.94zm-11 1L8.5 8.5l.94-2.06 2.06-.94-2.06-.94L8.5 2.5l-.94 2.06-2.06.94zm10 10l.94 2.06.94-2.06 2.06-.94-2.06-.94-.94-2.06-.94 2.06-2.06.94z\"/><path d=\"M17.41 7.96l-1.37-1.37c-.4-.4-.92-.59-1.43-.59-.52 0-1.04.2-1.43.59L10.3 9.45l-7.72 7.72c-.78.78-.78 2.05 0 2.83L4 21.41c.39.39.9.59 1.41.59.51 0 1.02-.2 1.41-.59l7.78-7.78 2.81-2.81c.8-.78.8-2.07 0-2.86zM5.41 20L4 18.59l7.72-7.72 1.47 1.35L5.41 20z\"/>\n",
              "  </svg>\n",
              "      </button>\n",
              "      \n",
              "  <style>\n",
              "    .colab-df-container {\n",
              "      display:flex;\n",
              "      flex-wrap:wrap;\n",
              "      gap: 12px;\n",
              "    }\n",
              "\n",
              "    .colab-df-convert {\n",
              "      background-color: #E8F0FE;\n",
              "      border: none;\n",
              "      border-radius: 50%;\n",
              "      cursor: pointer;\n",
              "      display: none;\n",
              "      fill: #1967D2;\n",
              "      height: 32px;\n",
              "      padding: 0 0 0 0;\n",
              "      width: 32px;\n",
              "    }\n",
              "\n",
              "    .colab-df-convert:hover {\n",
              "      background-color: #E2EBFA;\n",
              "      box-shadow: 0px 1px 2px rgba(60, 64, 67, 0.3), 0px 1px 3px 1px rgba(60, 64, 67, 0.15);\n",
              "      fill: #174EA6;\n",
              "    }\n",
              "\n",
              "    [theme=dark] .colab-df-convert {\n",
              "      background-color: #3B4455;\n",
              "      fill: #D2E3FC;\n",
              "    }\n",
              "\n",
              "    [theme=dark] .colab-df-convert:hover {\n",
              "      background-color: #434B5C;\n",
              "      box-shadow: 0px 1px 3px 1px rgba(0, 0, 0, 0.15);\n",
              "      filter: drop-shadow(0px 1px 2px rgba(0, 0, 0, 0.3));\n",
              "      fill: #FFFFFF;\n",
              "    }\n",
              "  </style>\n",
              "\n",
              "      <script>\n",
              "        const buttonEl =\n",
              "          document.querySelector('#df-ce801e07-275f-4265-8c92-febbd39907eb button.colab-df-convert');\n",
              "        buttonEl.style.display =\n",
              "          google.colab.kernel.accessAllowed ? 'block' : 'none';\n",
              "\n",
              "        async function convertToInteractive(key) {\n",
              "          const element = document.querySelector('#df-ce801e07-275f-4265-8c92-febbd39907eb');\n",
              "          const dataTable =\n",
              "            await google.colab.kernel.invokeFunction('convertToInteractive',\n",
              "                                                     [key], {});\n",
              "          if (!dataTable) return;\n",
              "\n",
              "          const docLinkHtml = 'Like what you see? Visit the ' +\n",
              "            '<a target=\"_blank\" href=https://colab.research.google.com/notebooks/data_table.ipynb>data table notebook</a>'\n",
              "            + ' to learn more about interactive tables.';\n",
              "          element.innerHTML = '';\n",
              "          dataTable['output_type'] = 'display_data';\n",
              "          await google.colab.output.renderOutput(dataTable, element);\n",
              "          const docLink = document.createElement('div');\n",
              "          docLink.innerHTML = docLinkHtml;\n",
              "          element.appendChild(docLink);\n",
              "        }\n",
              "      </script>\n",
              "    </div>\n",
              "  </div>\n",
              "  "
            ]
          },
          "metadata": {},
          "execution_count": 79
        }
      ],
      "source": [
        "subm = pd.DataFrame(\n",
        "    {\n",
        "        \"id\": [i for i in range(len(brands))],\n",
        "        \"good\": goods,\n",
        "        \"brand\": brands\n",
        "    }\n",
        ")\n",
        "subm.head()"
      ],
      "id": "jC5-kDF-_PRD"
    },
    {
      "cell_type": "code",
      "execution_count": null,
      "metadata": {
        "colab": {
          "base_uri": "https://localhost:8080/",
          "height": 206
        },
        "id": "tdvGYfgnB0JW",
        "outputId": "6064e92a-2101-4041-b255-b2aa7efdea46"
      },
      "outputs": [
        {
          "output_type": "execute_result",
          "data": {
            "text/plain": [
              "   id       good         brand\n",
              "0   0       клей         ермак\n",
              "1   1       торт      сладушка\n",
              "2   2  смеситель       calorie\n",
              "3   3      лимон              \n",
              "4   4     коньяк  сараджишвили"
            ],
            "text/html": [
              "\n",
              "  <div id=\"df-9692d310-186d-4b86-bad6-477df727c25f\">\n",
              "    <div class=\"colab-df-container\">\n",
              "      <div>\n",
              "<style scoped>\n",
              "    .dataframe tbody tr th:only-of-type {\n",
              "        vertical-align: middle;\n",
              "    }\n",
              "\n",
              "    .dataframe tbody tr th {\n",
              "        vertical-align: top;\n",
              "    }\n",
              "\n",
              "    .dataframe thead th {\n",
              "        text-align: right;\n",
              "    }\n",
              "</style>\n",
              "<table border=\"1\" class=\"dataframe\">\n",
              "  <thead>\n",
              "    <tr style=\"text-align: right;\">\n",
              "      <th></th>\n",
              "      <th>id</th>\n",
              "      <th>good</th>\n",
              "      <th>brand</th>\n",
              "    </tr>\n",
              "  </thead>\n",
              "  <tbody>\n",
              "    <tr>\n",
              "      <th>0</th>\n",
              "      <td>0</td>\n",
              "      <td>клей</td>\n",
              "      <td>ермак</td>\n",
              "    </tr>\n",
              "    <tr>\n",
              "      <th>1</th>\n",
              "      <td>1</td>\n",
              "      <td>торт</td>\n",
              "      <td>сладушка</td>\n",
              "    </tr>\n",
              "    <tr>\n",
              "      <th>2</th>\n",
              "      <td>2</td>\n",
              "      <td>смеситель</td>\n",
              "      <td>calorie</td>\n",
              "    </tr>\n",
              "    <tr>\n",
              "      <th>3</th>\n",
              "      <td>3</td>\n",
              "      <td>лимон</td>\n",
              "      <td></td>\n",
              "    </tr>\n",
              "    <tr>\n",
              "      <th>4</th>\n",
              "      <td>4</td>\n",
              "      <td>коньяк</td>\n",
              "      <td>сараджишвили</td>\n",
              "    </tr>\n",
              "  </tbody>\n",
              "</table>\n",
              "</div>\n",
              "      <button class=\"colab-df-convert\" onclick=\"convertToInteractive('df-9692d310-186d-4b86-bad6-477df727c25f')\"\n",
              "              title=\"Convert this dataframe to an interactive table.\"\n",
              "              style=\"display:none;\">\n",
              "        \n",
              "  <svg xmlns=\"http://www.w3.org/2000/svg\" height=\"24px\"viewBox=\"0 0 24 24\"\n",
              "       width=\"24px\">\n",
              "    <path d=\"M0 0h24v24H0V0z\" fill=\"none\"/>\n",
              "    <path d=\"M18.56 5.44l.94 2.06.94-2.06 2.06-.94-2.06-.94-.94-2.06-.94 2.06-2.06.94zm-11 1L8.5 8.5l.94-2.06 2.06-.94-2.06-.94L8.5 2.5l-.94 2.06-2.06.94zm10 10l.94 2.06.94-2.06 2.06-.94-2.06-.94-.94-2.06-.94 2.06-2.06.94z\"/><path d=\"M17.41 7.96l-1.37-1.37c-.4-.4-.92-.59-1.43-.59-.52 0-1.04.2-1.43.59L10.3 9.45l-7.72 7.72c-.78.78-.78 2.05 0 2.83L4 21.41c.39.39.9.59 1.41.59.51 0 1.02-.2 1.41-.59l7.78-7.78 2.81-2.81c.8-.78.8-2.07 0-2.86zM5.41 20L4 18.59l7.72-7.72 1.47 1.35L5.41 20z\"/>\n",
              "  </svg>\n",
              "      </button>\n",
              "      \n",
              "  <style>\n",
              "    .colab-df-container {\n",
              "      display:flex;\n",
              "      flex-wrap:wrap;\n",
              "      gap: 12px;\n",
              "    }\n",
              "\n",
              "    .colab-df-convert {\n",
              "      background-color: #E8F0FE;\n",
              "      border: none;\n",
              "      border-radius: 50%;\n",
              "      cursor: pointer;\n",
              "      display: none;\n",
              "      fill: #1967D2;\n",
              "      height: 32px;\n",
              "      padding: 0 0 0 0;\n",
              "      width: 32px;\n",
              "    }\n",
              "\n",
              "    .colab-df-convert:hover {\n",
              "      background-color: #E2EBFA;\n",
              "      box-shadow: 0px 1px 2px rgba(60, 64, 67, 0.3), 0px 1px 3px 1px rgba(60, 64, 67, 0.15);\n",
              "      fill: #174EA6;\n",
              "    }\n",
              "\n",
              "    [theme=dark] .colab-df-convert {\n",
              "      background-color: #3B4455;\n",
              "      fill: #D2E3FC;\n",
              "    }\n",
              "\n",
              "    [theme=dark] .colab-df-convert:hover {\n",
              "      background-color: #434B5C;\n",
              "      box-shadow: 0px 1px 3px 1px rgba(0, 0, 0, 0.15);\n",
              "      filter: drop-shadow(0px 1px 2px rgba(0, 0, 0, 0.3));\n",
              "      fill: #FFFFFF;\n",
              "    }\n",
              "  </style>\n",
              "\n",
              "      <script>\n",
              "        const buttonEl =\n",
              "          document.querySelector('#df-9692d310-186d-4b86-bad6-477df727c25f button.colab-df-convert');\n",
              "        buttonEl.style.display =\n",
              "          google.colab.kernel.accessAllowed ? 'block' : 'none';\n",
              "\n",
              "        async function convertToInteractive(key) {\n",
              "          const element = document.querySelector('#df-9692d310-186d-4b86-bad6-477df727c25f');\n",
              "          const dataTable =\n",
              "            await google.colab.kernel.invokeFunction('convertToInteractive',\n",
              "                                                     [key], {});\n",
              "          if (!dataTable) return;\n",
              "\n",
              "          const docLinkHtml = 'Like what you see? Visit the ' +\n",
              "            '<a target=\"_blank\" href=https://colab.research.google.com/notebooks/data_table.ipynb>data table notebook</a>'\n",
              "            + ' to learn more about interactive tables.';\n",
              "          element.innerHTML = '';\n",
              "          dataTable['output_type'] = 'display_data';\n",
              "          await google.colab.output.renderOutput(dataTable, element);\n",
              "          const docLink = document.createElement('div');\n",
              "          docLink.innerHTML = docLinkHtml;\n",
              "          element.appendChild(docLink);\n",
              "        }\n",
              "      </script>\n",
              "    </div>\n",
              "  </div>\n",
              "  "
            ]
          },
          "metadata": {},
          "execution_count": 80
        }
      ],
      "source": [
        "subm.good = subm.good.apply(lambda x: ','.join(x))\n",
        "subm.brand = subm.brand.apply(lambda x: ','.join(x))\n",
        "subm.head()"
      ],
      "id": "tdvGYfgnB0JW"
    },
    {
      "cell_type": "code",
      "execution_count": null,
      "metadata": {
        "id": "JHTSUmrZB8_8"
      },
      "outputs": [],
      "source": [
        "subm.to_csv(\"deep_pavlov_average.csv\")"
      ],
      "id": "JHTSUmrZB8_8"
    },
    {
      "cell_type": "code",
      "execution_count": null,
      "metadata": {
        "colab": {
          "base_uri": "https://localhost:8080/"
        },
        "id": "7SS7-9iyr4yP",
        "outputId": "8aec2201-1ffb-4e5d-b03f-3dbac2c12058"
      },
      "outputs": [
        {
          "output_type": "execute_result",
          "data": {
            "text/plain": [
              "30                             \n",
              "31                             \n",
              "32                     wrangler\n",
              "33          четвероногий гурман\n",
              "34                             \n",
              "35                             \n",
              "36                             \n",
              "37                             \n",
              "38                             \n",
              "39                   yasiyilian\n",
              "40                             \n",
              "41                             \n",
              "42                             \n",
              "43                  жигулёвское\n",
              "44                love republic\n",
              "45                             \n",
              "46                  schwarzkopf\n",
              "47                    nakamichi\n",
              "48                             \n",
              "49                      бавария\n",
              "50                             \n",
              "51    confetti bella,margherita\n",
              "52                             \n",
              "53                             \n",
              "54                             \n",
              "55                             \n",
              "56                         tina\n",
              "57                      tai tau\n",
              "58                самое любимое\n",
              "59                             \n",
              "Name: brand, dtype: object"
            ]
          },
          "metadata": {},
          "execution_count": 69
        }
      ],
      "source": [
        "subm.brand[30:60]"
      ],
      "id": "7SS7-9iyr4yP"
    },
    {
      "cell_type": "code",
      "execution_count": null,
      "metadata": {
        "colab": {
          "base_uri": "https://localhost:8080/"
        },
        "id": "TNNvG64r_elY",
        "outputId": "828a593e-f3a6-499f-cab0-7e12879db8c3"
      },
      "outputs": [
        {
          "data": {
            "text/plain": [
              "30                             \n",
              "31                             \n",
              "32                     wrangler\n",
              "33          четвероногий гурман\n",
              "34                             \n",
              "35                         вико\n",
              "36                             \n",
              "37                             \n",
              "38                             \n",
              "39                   yasiyilian\n",
              "40                             \n",
              "41                             \n",
              "42                             \n",
              "43                  жигулёвское\n",
              "44                love republic\n",
              "45                             \n",
              "46                  schwarzkopf\n",
              "47                    nakamichi\n",
              "48                             \n",
              "49                      бавария\n",
              "50                             \n",
              "51    confetti bella,margherita\n",
              "52                             \n",
              "53                       тархун\n",
              "54                             \n",
              "55                             \n",
              "56                         tina\n",
              "57                      tai tau\n",
              "58                самое любимое\n",
              "59                    альфасорб\n",
              "Name: brand, dtype: object"
            ]
          },
          "execution_count": 65,
          "metadata": {},
          "output_type": "execute_result"
        }
      ],
      "source": [
        "subm.brand[30:60]"
      ],
      "id": "TNNvG64r_elY"
    },
    {
      "cell_type": "code",
      "execution_count": null,
      "metadata": {
        "colab": {
          "base_uri": "https://localhost:8080/",
          "height": 34
        },
        "id": "gQmNc1TTb87K",
        "outputId": "ce7ffc3a-71a7-4711-cc2a-a4815fa068d3"
      },
      "outputs": [
        {
          "data": {
            "application/vnd.google.colaboratory.intrinsic+json": {
              "type": "string"
            },
            "text/plain": [
              "'коврик для в к confetti bella из 1 шт 1х1см margherita бежевый 1 1'"
            ]
          },
          "execution_count": 66,
          "metadata": {},
          "output_type": "execute_result"
        }
      ],
      "source": [
        "test_data.name[51]"
      ],
      "id": "gQmNc1TTb87K"
    },
    {
      "cell_type": "code",
      "execution_count": null,
      "metadata": {
        "id": "Kfi8tpJxdNv-"
      },
      "outputs": [],
      "source": [],
      "id": "Kfi8tpJxdNv-"
    }
  ],
  "metadata": {
    "accelerator": "GPU",
    "colab": {
      "provenance": [],
      "gpuType": "T4"
    },
    "kernelspec": {
      "display_name": "Python 3",
      "name": "python3"
    },
    "language_info": {
      "name": "python"
    },
    "widgets": {
      "application/vnd.jupyter.widget-state+json": {
        "49e97e4255c44d678252cbdf7e0b3bfc": {
          "model_module": "@jupyter-widgets/controls",
          "model_name": "HBoxModel",
          "model_module_version": "1.5.0",
          "state": {
            "_dom_classes": [],
            "_model_module": "@jupyter-widgets/controls",
            "_model_module_version": "1.5.0",
            "_model_name": "HBoxModel",
            "_view_count": null,
            "_view_module": "@jupyter-widgets/controls",
            "_view_module_version": "1.5.0",
            "_view_name": "HBoxView",
            "box_style": "",
            "children": [
              "IPY_MODEL_cb6fa4a54acc4ad8ad2261bf1a5c98db",
              "IPY_MODEL_bce8cfafd606497aa73774063d1d6959",
              "IPY_MODEL_f7f062b6b339476094977ef153e1536e"
            ],
            "layout": "IPY_MODEL_e98795c14de7412a84ce8a2581bb90ed"
          }
        },
        "cb6fa4a54acc4ad8ad2261bf1a5c98db": {
          "model_module": "@jupyter-widgets/controls",
          "model_name": "HTMLModel",
          "model_module_version": "1.5.0",
          "state": {
            "_dom_classes": [],
            "_model_module": "@jupyter-widgets/controls",
            "_model_module_version": "1.5.0",
            "_model_name": "HTMLModel",
            "_view_count": null,
            "_view_module": "@jupyter-widgets/controls",
            "_view_module_version": "1.5.0",
            "_view_name": "HTMLView",
            "description": "",
            "description_tooltip": null,
            "layout": "IPY_MODEL_70784bb9b54d440fa9172188b151b770",
            "placeholder": "​",
            "style": "IPY_MODEL_e63fdcf0ad964b67b6935ac2913f353f",
            "value": "Downloading (…)okenizer_config.json: 100%"
          }
        },
        "bce8cfafd606497aa73774063d1d6959": {
          "model_module": "@jupyter-widgets/controls",
          "model_name": "FloatProgressModel",
          "model_module_version": "1.5.0",
          "state": {
            "_dom_classes": [],
            "_model_module": "@jupyter-widgets/controls",
            "_model_module_version": "1.5.0",
            "_model_name": "FloatProgressModel",
            "_view_count": null,
            "_view_module": "@jupyter-widgets/controls",
            "_view_module_version": "1.5.0",
            "_view_name": "ProgressView",
            "bar_style": "success",
            "description": "",
            "description_tooltip": null,
            "layout": "IPY_MODEL_897ea522cfe54d83bd6fc7a0dcaf138e",
            "max": 24,
            "min": 0,
            "orientation": "horizontal",
            "style": "IPY_MODEL_ae5d9e0fad464e6283dfe9da1d8f1db2",
            "value": 24
          }
        },
        "f7f062b6b339476094977ef153e1536e": {
          "model_module": "@jupyter-widgets/controls",
          "model_name": "HTMLModel",
          "model_module_version": "1.5.0",
          "state": {
            "_dom_classes": [],
            "_model_module": "@jupyter-widgets/controls",
            "_model_module_version": "1.5.0",
            "_model_name": "HTMLModel",
            "_view_count": null,
            "_view_module": "@jupyter-widgets/controls",
            "_view_module_version": "1.5.0",
            "_view_name": "HTMLView",
            "description": "",
            "description_tooltip": null,
            "layout": "IPY_MODEL_7ca30223faac4d83a2590eab26e5aa6b",
            "placeholder": "​",
            "style": "IPY_MODEL_3be001a26cee44a69c428293044c8327",
            "value": " 24.0/24.0 [00:00&lt;00:00, 1.02kB/s]"
          }
        },
        "e98795c14de7412a84ce8a2581bb90ed": {
          "model_module": "@jupyter-widgets/base",
          "model_name": "LayoutModel",
          "model_module_version": "1.2.0",
          "state": {
            "_model_module": "@jupyter-widgets/base",
            "_model_module_version": "1.2.0",
            "_model_name": "LayoutModel",
            "_view_count": null,
            "_view_module": "@jupyter-widgets/base",
            "_view_module_version": "1.2.0",
            "_view_name": "LayoutView",
            "align_content": null,
            "align_items": null,
            "align_self": null,
            "border": null,
            "bottom": null,
            "display": null,
            "flex": null,
            "flex_flow": null,
            "grid_area": null,
            "grid_auto_columns": null,
            "grid_auto_flow": null,
            "grid_auto_rows": null,
            "grid_column": null,
            "grid_gap": null,
            "grid_row": null,
            "grid_template_areas": null,
            "grid_template_columns": null,
            "grid_template_rows": null,
            "height": null,
            "justify_content": null,
            "justify_items": null,
            "left": null,
            "margin": null,
            "max_height": null,
            "max_width": null,
            "min_height": null,
            "min_width": null,
            "object_fit": null,
            "object_position": null,
            "order": null,
            "overflow": null,
            "overflow_x": null,
            "overflow_y": null,
            "padding": null,
            "right": null,
            "top": null,
            "visibility": null,
            "width": null
          }
        },
        "70784bb9b54d440fa9172188b151b770": {
          "model_module": "@jupyter-widgets/base",
          "model_name": "LayoutModel",
          "model_module_version": "1.2.0",
          "state": {
            "_model_module": "@jupyter-widgets/base",
            "_model_module_version": "1.2.0",
            "_model_name": "LayoutModel",
            "_view_count": null,
            "_view_module": "@jupyter-widgets/base",
            "_view_module_version": "1.2.0",
            "_view_name": "LayoutView",
            "align_content": null,
            "align_items": null,
            "align_self": null,
            "border": null,
            "bottom": null,
            "display": null,
            "flex": null,
            "flex_flow": null,
            "grid_area": null,
            "grid_auto_columns": null,
            "grid_auto_flow": null,
            "grid_auto_rows": null,
            "grid_column": null,
            "grid_gap": null,
            "grid_row": null,
            "grid_template_areas": null,
            "grid_template_columns": null,
            "grid_template_rows": null,
            "height": null,
            "justify_content": null,
            "justify_items": null,
            "left": null,
            "margin": null,
            "max_height": null,
            "max_width": null,
            "min_height": null,
            "min_width": null,
            "object_fit": null,
            "object_position": null,
            "order": null,
            "overflow": null,
            "overflow_x": null,
            "overflow_y": null,
            "padding": null,
            "right": null,
            "top": null,
            "visibility": null,
            "width": null
          }
        },
        "e63fdcf0ad964b67b6935ac2913f353f": {
          "model_module": "@jupyter-widgets/controls",
          "model_name": "DescriptionStyleModel",
          "model_module_version": "1.5.0",
          "state": {
            "_model_module": "@jupyter-widgets/controls",
            "_model_module_version": "1.5.0",
            "_model_name": "DescriptionStyleModel",
            "_view_count": null,
            "_view_module": "@jupyter-widgets/base",
            "_view_module_version": "1.2.0",
            "_view_name": "StyleView",
            "description_width": ""
          }
        },
        "897ea522cfe54d83bd6fc7a0dcaf138e": {
          "model_module": "@jupyter-widgets/base",
          "model_name": "LayoutModel",
          "model_module_version": "1.2.0",
          "state": {
            "_model_module": "@jupyter-widgets/base",
            "_model_module_version": "1.2.0",
            "_model_name": "LayoutModel",
            "_view_count": null,
            "_view_module": "@jupyter-widgets/base",
            "_view_module_version": "1.2.0",
            "_view_name": "LayoutView",
            "align_content": null,
            "align_items": null,
            "align_self": null,
            "border": null,
            "bottom": null,
            "display": null,
            "flex": null,
            "flex_flow": null,
            "grid_area": null,
            "grid_auto_columns": null,
            "grid_auto_flow": null,
            "grid_auto_rows": null,
            "grid_column": null,
            "grid_gap": null,
            "grid_row": null,
            "grid_template_areas": null,
            "grid_template_columns": null,
            "grid_template_rows": null,
            "height": null,
            "justify_content": null,
            "justify_items": null,
            "left": null,
            "margin": null,
            "max_height": null,
            "max_width": null,
            "min_height": null,
            "min_width": null,
            "object_fit": null,
            "object_position": null,
            "order": null,
            "overflow": null,
            "overflow_x": null,
            "overflow_y": null,
            "padding": null,
            "right": null,
            "top": null,
            "visibility": null,
            "width": null
          }
        },
        "ae5d9e0fad464e6283dfe9da1d8f1db2": {
          "model_module": "@jupyter-widgets/controls",
          "model_name": "ProgressStyleModel",
          "model_module_version": "1.5.0",
          "state": {
            "_model_module": "@jupyter-widgets/controls",
            "_model_module_version": "1.5.0",
            "_model_name": "ProgressStyleModel",
            "_view_count": null,
            "_view_module": "@jupyter-widgets/base",
            "_view_module_version": "1.2.0",
            "_view_name": "StyleView",
            "bar_color": null,
            "description_width": ""
          }
        },
        "7ca30223faac4d83a2590eab26e5aa6b": {
          "model_module": "@jupyter-widgets/base",
          "model_name": "LayoutModel",
          "model_module_version": "1.2.0",
          "state": {
            "_model_module": "@jupyter-widgets/base",
            "_model_module_version": "1.2.0",
            "_model_name": "LayoutModel",
            "_view_count": null,
            "_view_module": "@jupyter-widgets/base",
            "_view_module_version": "1.2.0",
            "_view_name": "LayoutView",
            "align_content": null,
            "align_items": null,
            "align_self": null,
            "border": null,
            "bottom": null,
            "display": null,
            "flex": null,
            "flex_flow": null,
            "grid_area": null,
            "grid_auto_columns": null,
            "grid_auto_flow": null,
            "grid_auto_rows": null,
            "grid_column": null,
            "grid_gap": null,
            "grid_row": null,
            "grid_template_areas": null,
            "grid_template_columns": null,
            "grid_template_rows": null,
            "height": null,
            "justify_content": null,
            "justify_items": null,
            "left": null,
            "margin": null,
            "max_height": null,
            "max_width": null,
            "min_height": null,
            "min_width": null,
            "object_fit": null,
            "object_position": null,
            "order": null,
            "overflow": null,
            "overflow_x": null,
            "overflow_y": null,
            "padding": null,
            "right": null,
            "top": null,
            "visibility": null,
            "width": null
          }
        },
        "3be001a26cee44a69c428293044c8327": {
          "model_module": "@jupyter-widgets/controls",
          "model_name": "DescriptionStyleModel",
          "model_module_version": "1.5.0",
          "state": {
            "_model_module": "@jupyter-widgets/controls",
            "_model_module_version": "1.5.0",
            "_model_name": "DescriptionStyleModel",
            "_view_count": null,
            "_view_module": "@jupyter-widgets/base",
            "_view_module_version": "1.2.0",
            "_view_name": "StyleView",
            "description_width": ""
          }
        },
        "15c090f08f2543a1988f113ff2631198": {
          "model_module": "@jupyter-widgets/controls",
          "model_name": "HBoxModel",
          "model_module_version": "1.5.0",
          "state": {
            "_dom_classes": [],
            "_model_module": "@jupyter-widgets/controls",
            "_model_module_version": "1.5.0",
            "_model_name": "HBoxModel",
            "_view_count": null,
            "_view_module": "@jupyter-widgets/controls",
            "_view_module_version": "1.5.0",
            "_view_name": "HBoxView",
            "box_style": "",
            "children": [
              "IPY_MODEL_82e2abafe4a345dc8ac1c7cb4b38b841",
              "IPY_MODEL_ba5fdc8c3337498e9e67d87cae964dd8",
              "IPY_MODEL_8367ea1848134dd89364d19cbecb2a80"
            ],
            "layout": "IPY_MODEL_3946a789b1ac4a08a7691f62cf9d11b6"
          }
        },
        "82e2abafe4a345dc8ac1c7cb4b38b841": {
          "model_module": "@jupyter-widgets/controls",
          "model_name": "HTMLModel",
          "model_module_version": "1.5.0",
          "state": {
            "_dom_classes": [],
            "_model_module": "@jupyter-widgets/controls",
            "_model_module_version": "1.5.0",
            "_model_name": "HTMLModel",
            "_view_count": null,
            "_view_module": "@jupyter-widgets/controls",
            "_view_module_version": "1.5.0",
            "_view_name": "HTMLView",
            "description": "",
            "description_tooltip": null,
            "layout": "IPY_MODEL_071caeb49a244ba690dbd68294bd529e",
            "placeholder": "​",
            "style": "IPY_MODEL_ba1e855d04924f5185e402846e79dce4",
            "value": "Downloading (…)lve/main/config.json: 100%"
          }
        },
        "ba5fdc8c3337498e9e67d87cae964dd8": {
          "model_module": "@jupyter-widgets/controls",
          "model_name": "FloatProgressModel",
          "model_module_version": "1.5.0",
          "state": {
            "_dom_classes": [],
            "_model_module": "@jupyter-widgets/controls",
            "_model_module_version": "1.5.0",
            "_model_name": "FloatProgressModel",
            "_view_count": null,
            "_view_module": "@jupyter-widgets/controls",
            "_view_module_version": "1.5.0",
            "_view_name": "ProgressView",
            "bar_style": "success",
            "description": "",
            "description_tooltip": null,
            "layout": "IPY_MODEL_924574e5fa744044a6b76148d6e681c1",
            "max": 642,
            "min": 0,
            "orientation": "horizontal",
            "style": "IPY_MODEL_2a45624a58ac4b64a3ffb078f885e35c",
            "value": 642
          }
        },
        "8367ea1848134dd89364d19cbecb2a80": {
          "model_module": "@jupyter-widgets/controls",
          "model_name": "HTMLModel",
          "model_module_version": "1.5.0",
          "state": {
            "_dom_classes": [],
            "_model_module": "@jupyter-widgets/controls",
            "_model_module_version": "1.5.0",
            "_model_name": "HTMLModel",
            "_view_count": null,
            "_view_module": "@jupyter-widgets/controls",
            "_view_module_version": "1.5.0",
            "_view_name": "HTMLView",
            "description": "",
            "description_tooltip": null,
            "layout": "IPY_MODEL_a6177e1bba2142c6b08ab23e00666791",
            "placeholder": "​",
            "style": "IPY_MODEL_a1215991c4f2428883edb5c26d348361",
            "value": " 642/642 [00:00&lt;00:00, 17.8kB/s]"
          }
        },
        "3946a789b1ac4a08a7691f62cf9d11b6": {
          "model_module": "@jupyter-widgets/base",
          "model_name": "LayoutModel",
          "model_module_version": "1.2.0",
          "state": {
            "_model_module": "@jupyter-widgets/base",
            "_model_module_version": "1.2.0",
            "_model_name": "LayoutModel",
            "_view_count": null,
            "_view_module": "@jupyter-widgets/base",
            "_view_module_version": "1.2.0",
            "_view_name": "LayoutView",
            "align_content": null,
            "align_items": null,
            "align_self": null,
            "border": null,
            "bottom": null,
            "display": null,
            "flex": null,
            "flex_flow": null,
            "grid_area": null,
            "grid_auto_columns": null,
            "grid_auto_flow": null,
            "grid_auto_rows": null,
            "grid_column": null,
            "grid_gap": null,
            "grid_row": null,
            "grid_template_areas": null,
            "grid_template_columns": null,
            "grid_template_rows": null,
            "height": null,
            "justify_content": null,
            "justify_items": null,
            "left": null,
            "margin": null,
            "max_height": null,
            "max_width": null,
            "min_height": null,
            "min_width": null,
            "object_fit": null,
            "object_position": null,
            "order": null,
            "overflow": null,
            "overflow_x": null,
            "overflow_y": null,
            "padding": null,
            "right": null,
            "top": null,
            "visibility": null,
            "width": null
          }
        },
        "071caeb49a244ba690dbd68294bd529e": {
          "model_module": "@jupyter-widgets/base",
          "model_name": "LayoutModel",
          "model_module_version": "1.2.0",
          "state": {
            "_model_module": "@jupyter-widgets/base",
            "_model_module_version": "1.2.0",
            "_model_name": "LayoutModel",
            "_view_count": null,
            "_view_module": "@jupyter-widgets/base",
            "_view_module_version": "1.2.0",
            "_view_name": "LayoutView",
            "align_content": null,
            "align_items": null,
            "align_self": null,
            "border": null,
            "bottom": null,
            "display": null,
            "flex": null,
            "flex_flow": null,
            "grid_area": null,
            "grid_auto_columns": null,
            "grid_auto_flow": null,
            "grid_auto_rows": null,
            "grid_column": null,
            "grid_gap": null,
            "grid_row": null,
            "grid_template_areas": null,
            "grid_template_columns": null,
            "grid_template_rows": null,
            "height": null,
            "justify_content": null,
            "justify_items": null,
            "left": null,
            "margin": null,
            "max_height": null,
            "max_width": null,
            "min_height": null,
            "min_width": null,
            "object_fit": null,
            "object_position": null,
            "order": null,
            "overflow": null,
            "overflow_x": null,
            "overflow_y": null,
            "padding": null,
            "right": null,
            "top": null,
            "visibility": null,
            "width": null
          }
        },
        "ba1e855d04924f5185e402846e79dce4": {
          "model_module": "@jupyter-widgets/controls",
          "model_name": "DescriptionStyleModel",
          "model_module_version": "1.5.0",
          "state": {
            "_model_module": "@jupyter-widgets/controls",
            "_model_module_version": "1.5.0",
            "_model_name": "DescriptionStyleModel",
            "_view_count": null,
            "_view_module": "@jupyter-widgets/base",
            "_view_module_version": "1.2.0",
            "_view_name": "StyleView",
            "description_width": ""
          }
        },
        "924574e5fa744044a6b76148d6e681c1": {
          "model_module": "@jupyter-widgets/base",
          "model_name": "LayoutModel",
          "model_module_version": "1.2.0",
          "state": {
            "_model_module": "@jupyter-widgets/base",
            "_model_module_version": "1.2.0",
            "_model_name": "LayoutModel",
            "_view_count": null,
            "_view_module": "@jupyter-widgets/base",
            "_view_module_version": "1.2.0",
            "_view_name": "LayoutView",
            "align_content": null,
            "align_items": null,
            "align_self": null,
            "border": null,
            "bottom": null,
            "display": null,
            "flex": null,
            "flex_flow": null,
            "grid_area": null,
            "grid_auto_columns": null,
            "grid_auto_flow": null,
            "grid_auto_rows": null,
            "grid_column": null,
            "grid_gap": null,
            "grid_row": null,
            "grid_template_areas": null,
            "grid_template_columns": null,
            "grid_template_rows": null,
            "height": null,
            "justify_content": null,
            "justify_items": null,
            "left": null,
            "margin": null,
            "max_height": null,
            "max_width": null,
            "min_height": null,
            "min_width": null,
            "object_fit": null,
            "object_position": null,
            "order": null,
            "overflow": null,
            "overflow_x": null,
            "overflow_y": null,
            "padding": null,
            "right": null,
            "top": null,
            "visibility": null,
            "width": null
          }
        },
        "2a45624a58ac4b64a3ffb078f885e35c": {
          "model_module": "@jupyter-widgets/controls",
          "model_name": "ProgressStyleModel",
          "model_module_version": "1.5.0",
          "state": {
            "_model_module": "@jupyter-widgets/controls",
            "_model_module_version": "1.5.0",
            "_model_name": "ProgressStyleModel",
            "_view_count": null,
            "_view_module": "@jupyter-widgets/base",
            "_view_module_version": "1.2.0",
            "_view_name": "StyleView",
            "bar_color": null,
            "description_width": ""
          }
        },
        "a6177e1bba2142c6b08ab23e00666791": {
          "model_module": "@jupyter-widgets/base",
          "model_name": "LayoutModel",
          "model_module_version": "1.2.0",
          "state": {
            "_model_module": "@jupyter-widgets/base",
            "_model_module_version": "1.2.0",
            "_model_name": "LayoutModel",
            "_view_count": null,
            "_view_module": "@jupyter-widgets/base",
            "_view_module_version": "1.2.0",
            "_view_name": "LayoutView",
            "align_content": null,
            "align_items": null,
            "align_self": null,
            "border": null,
            "bottom": null,
            "display": null,
            "flex": null,
            "flex_flow": null,
            "grid_area": null,
            "grid_auto_columns": null,
            "grid_auto_flow": null,
            "grid_auto_rows": null,
            "grid_column": null,
            "grid_gap": null,
            "grid_row": null,
            "grid_template_areas": null,
            "grid_template_columns": null,
            "grid_template_rows": null,
            "height": null,
            "justify_content": null,
            "justify_items": null,
            "left": null,
            "margin": null,
            "max_height": null,
            "max_width": null,
            "min_height": null,
            "min_width": null,
            "object_fit": null,
            "object_position": null,
            "order": null,
            "overflow": null,
            "overflow_x": null,
            "overflow_y": null,
            "padding": null,
            "right": null,
            "top": null,
            "visibility": null,
            "width": null
          }
        },
        "a1215991c4f2428883edb5c26d348361": {
          "model_module": "@jupyter-widgets/controls",
          "model_name": "DescriptionStyleModel",
          "model_module_version": "1.5.0",
          "state": {
            "_model_module": "@jupyter-widgets/controls",
            "_model_module_version": "1.5.0",
            "_model_name": "DescriptionStyleModel",
            "_view_count": null,
            "_view_module": "@jupyter-widgets/base",
            "_view_module_version": "1.2.0",
            "_view_name": "StyleView",
            "description_width": ""
          }
        },
        "7218dd01771d439594cb328790083815": {
          "model_module": "@jupyter-widgets/controls",
          "model_name": "HBoxModel",
          "model_module_version": "1.5.0",
          "state": {
            "_dom_classes": [],
            "_model_module": "@jupyter-widgets/controls",
            "_model_module_version": "1.5.0",
            "_model_name": "HBoxModel",
            "_view_count": null,
            "_view_module": "@jupyter-widgets/controls",
            "_view_module_version": "1.5.0",
            "_view_name": "HBoxView",
            "box_style": "",
            "children": [
              "IPY_MODEL_91d53413972247499dd2e443093ceeca",
              "IPY_MODEL_4d887bb840a24677a0d89f50777aa5c6",
              "IPY_MODEL_e7bcd9093bdf4e93b06d9a02f1d8a2dc"
            ],
            "layout": "IPY_MODEL_cb158d152cab4c748b9714c1704fe164"
          }
        },
        "91d53413972247499dd2e443093ceeca": {
          "model_module": "@jupyter-widgets/controls",
          "model_name": "HTMLModel",
          "model_module_version": "1.5.0",
          "state": {
            "_dom_classes": [],
            "_model_module": "@jupyter-widgets/controls",
            "_model_module_version": "1.5.0",
            "_model_name": "HTMLModel",
            "_view_count": null,
            "_view_module": "@jupyter-widgets/controls",
            "_view_module_version": "1.5.0",
            "_view_name": "HTMLView",
            "description": "",
            "description_tooltip": null,
            "layout": "IPY_MODEL_090e8ec588074b90a0263faa79d491eb",
            "placeholder": "​",
            "style": "IPY_MODEL_bb27e9ed8d3c4b5985f8a137bfc39da9",
            "value": "Downloading (…)solve/main/vocab.txt: 100%"
          }
        },
        "4d887bb840a24677a0d89f50777aa5c6": {
          "model_module": "@jupyter-widgets/controls",
          "model_name": "FloatProgressModel",
          "model_module_version": "1.5.0",
          "state": {
            "_dom_classes": [],
            "_model_module": "@jupyter-widgets/controls",
            "_model_module_version": "1.5.0",
            "_model_name": "FloatProgressModel",
            "_view_count": null,
            "_view_module": "@jupyter-widgets/controls",
            "_view_module_version": "1.5.0",
            "_view_name": "ProgressView",
            "bar_style": "success",
            "description": "",
            "description_tooltip": null,
            "layout": "IPY_MODEL_9ad398885f8c4ffd93f22f1aafb3546b",
            "max": 1649718,
            "min": 0,
            "orientation": "horizontal",
            "style": "IPY_MODEL_745c6903197442f288731f74f0055473",
            "value": 1649718
          }
        },
        "e7bcd9093bdf4e93b06d9a02f1d8a2dc": {
          "model_module": "@jupyter-widgets/controls",
          "model_name": "HTMLModel",
          "model_module_version": "1.5.0",
          "state": {
            "_dom_classes": [],
            "_model_module": "@jupyter-widgets/controls",
            "_model_module_version": "1.5.0",
            "_model_name": "HTMLModel",
            "_view_count": null,
            "_view_module": "@jupyter-widgets/controls",
            "_view_module_version": "1.5.0",
            "_view_name": "HTMLView",
            "description": "",
            "description_tooltip": null,
            "layout": "IPY_MODEL_b7e0b7dbfa43423cbbafa6e7c246f911",
            "placeholder": "​",
            "style": "IPY_MODEL_bc02a940b430427290e6c4375301103b",
            "value": " 1.65M/1.65M [00:00&lt;00:00, 10.2MB/s]"
          }
        },
        "cb158d152cab4c748b9714c1704fe164": {
          "model_module": "@jupyter-widgets/base",
          "model_name": "LayoutModel",
          "model_module_version": "1.2.0",
          "state": {
            "_model_module": "@jupyter-widgets/base",
            "_model_module_version": "1.2.0",
            "_model_name": "LayoutModel",
            "_view_count": null,
            "_view_module": "@jupyter-widgets/base",
            "_view_module_version": "1.2.0",
            "_view_name": "LayoutView",
            "align_content": null,
            "align_items": null,
            "align_self": null,
            "border": null,
            "bottom": null,
            "display": null,
            "flex": null,
            "flex_flow": null,
            "grid_area": null,
            "grid_auto_columns": null,
            "grid_auto_flow": null,
            "grid_auto_rows": null,
            "grid_column": null,
            "grid_gap": null,
            "grid_row": null,
            "grid_template_areas": null,
            "grid_template_columns": null,
            "grid_template_rows": null,
            "height": null,
            "justify_content": null,
            "justify_items": null,
            "left": null,
            "margin": null,
            "max_height": null,
            "max_width": null,
            "min_height": null,
            "min_width": null,
            "object_fit": null,
            "object_position": null,
            "order": null,
            "overflow": null,
            "overflow_x": null,
            "overflow_y": null,
            "padding": null,
            "right": null,
            "top": null,
            "visibility": null,
            "width": null
          }
        },
        "090e8ec588074b90a0263faa79d491eb": {
          "model_module": "@jupyter-widgets/base",
          "model_name": "LayoutModel",
          "model_module_version": "1.2.0",
          "state": {
            "_model_module": "@jupyter-widgets/base",
            "_model_module_version": "1.2.0",
            "_model_name": "LayoutModel",
            "_view_count": null,
            "_view_module": "@jupyter-widgets/base",
            "_view_module_version": "1.2.0",
            "_view_name": "LayoutView",
            "align_content": null,
            "align_items": null,
            "align_self": null,
            "border": null,
            "bottom": null,
            "display": null,
            "flex": null,
            "flex_flow": null,
            "grid_area": null,
            "grid_auto_columns": null,
            "grid_auto_flow": null,
            "grid_auto_rows": null,
            "grid_column": null,
            "grid_gap": null,
            "grid_row": null,
            "grid_template_areas": null,
            "grid_template_columns": null,
            "grid_template_rows": null,
            "height": null,
            "justify_content": null,
            "justify_items": null,
            "left": null,
            "margin": null,
            "max_height": null,
            "max_width": null,
            "min_height": null,
            "min_width": null,
            "object_fit": null,
            "object_position": null,
            "order": null,
            "overflow": null,
            "overflow_x": null,
            "overflow_y": null,
            "padding": null,
            "right": null,
            "top": null,
            "visibility": null,
            "width": null
          }
        },
        "bb27e9ed8d3c4b5985f8a137bfc39da9": {
          "model_module": "@jupyter-widgets/controls",
          "model_name": "DescriptionStyleModel",
          "model_module_version": "1.5.0",
          "state": {
            "_model_module": "@jupyter-widgets/controls",
            "_model_module_version": "1.5.0",
            "_model_name": "DescriptionStyleModel",
            "_view_count": null,
            "_view_module": "@jupyter-widgets/base",
            "_view_module_version": "1.2.0",
            "_view_name": "StyleView",
            "description_width": ""
          }
        },
        "9ad398885f8c4ffd93f22f1aafb3546b": {
          "model_module": "@jupyter-widgets/base",
          "model_name": "LayoutModel",
          "model_module_version": "1.2.0",
          "state": {
            "_model_module": "@jupyter-widgets/base",
            "_model_module_version": "1.2.0",
            "_model_name": "LayoutModel",
            "_view_count": null,
            "_view_module": "@jupyter-widgets/base",
            "_view_module_version": "1.2.0",
            "_view_name": "LayoutView",
            "align_content": null,
            "align_items": null,
            "align_self": null,
            "border": null,
            "bottom": null,
            "display": null,
            "flex": null,
            "flex_flow": null,
            "grid_area": null,
            "grid_auto_columns": null,
            "grid_auto_flow": null,
            "grid_auto_rows": null,
            "grid_column": null,
            "grid_gap": null,
            "grid_row": null,
            "grid_template_areas": null,
            "grid_template_columns": null,
            "grid_template_rows": null,
            "height": null,
            "justify_content": null,
            "justify_items": null,
            "left": null,
            "margin": null,
            "max_height": null,
            "max_width": null,
            "min_height": null,
            "min_width": null,
            "object_fit": null,
            "object_position": null,
            "order": null,
            "overflow": null,
            "overflow_x": null,
            "overflow_y": null,
            "padding": null,
            "right": null,
            "top": null,
            "visibility": null,
            "width": null
          }
        },
        "745c6903197442f288731f74f0055473": {
          "model_module": "@jupyter-widgets/controls",
          "model_name": "ProgressStyleModel",
          "model_module_version": "1.5.0",
          "state": {
            "_model_module": "@jupyter-widgets/controls",
            "_model_module_version": "1.5.0",
            "_model_name": "ProgressStyleModel",
            "_view_count": null,
            "_view_module": "@jupyter-widgets/base",
            "_view_module_version": "1.2.0",
            "_view_name": "StyleView",
            "bar_color": null,
            "description_width": ""
          }
        },
        "b7e0b7dbfa43423cbbafa6e7c246f911": {
          "model_module": "@jupyter-widgets/base",
          "model_name": "LayoutModel",
          "model_module_version": "1.2.0",
          "state": {
            "_model_module": "@jupyter-widgets/base",
            "_model_module_version": "1.2.0",
            "_model_name": "LayoutModel",
            "_view_count": null,
            "_view_module": "@jupyter-widgets/base",
            "_view_module_version": "1.2.0",
            "_view_name": "LayoutView",
            "align_content": null,
            "align_items": null,
            "align_self": null,
            "border": null,
            "bottom": null,
            "display": null,
            "flex": null,
            "flex_flow": null,
            "grid_area": null,
            "grid_auto_columns": null,
            "grid_auto_flow": null,
            "grid_auto_rows": null,
            "grid_column": null,
            "grid_gap": null,
            "grid_row": null,
            "grid_template_areas": null,
            "grid_template_columns": null,
            "grid_template_rows": null,
            "height": null,
            "justify_content": null,
            "justify_items": null,
            "left": null,
            "margin": null,
            "max_height": null,
            "max_width": null,
            "min_height": null,
            "min_width": null,
            "object_fit": null,
            "object_position": null,
            "order": null,
            "overflow": null,
            "overflow_x": null,
            "overflow_y": null,
            "padding": null,
            "right": null,
            "top": null,
            "visibility": null,
            "width": null
          }
        },
        "bc02a940b430427290e6c4375301103b": {
          "model_module": "@jupyter-widgets/controls",
          "model_name": "DescriptionStyleModel",
          "model_module_version": "1.5.0",
          "state": {
            "_model_module": "@jupyter-widgets/controls",
            "_model_module_version": "1.5.0",
            "_model_name": "DescriptionStyleModel",
            "_view_count": null,
            "_view_module": "@jupyter-widgets/base",
            "_view_module_version": "1.2.0",
            "_view_name": "StyleView",
            "description_width": ""
          }
        },
        "82fb7e64580e43ecabacc799fcab141b": {
          "model_module": "@jupyter-widgets/controls",
          "model_name": "HBoxModel",
          "model_module_version": "1.5.0",
          "state": {
            "_dom_classes": [],
            "_model_module": "@jupyter-widgets/controls",
            "_model_module_version": "1.5.0",
            "_model_name": "HBoxModel",
            "_view_count": null,
            "_view_module": "@jupyter-widgets/controls",
            "_view_module_version": "1.5.0",
            "_view_name": "HBoxView",
            "box_style": "",
            "children": [
              "IPY_MODEL_f9d5060ccb58405cbecb7667698bfd24",
              "IPY_MODEL_e8f65454484b4366a61a0544be238d68",
              "IPY_MODEL_438bfd797c3045269b37b8685a850736"
            ],
            "layout": "IPY_MODEL_6ff1f2c583b04c249aef084ec51bcb22"
          }
        },
        "f9d5060ccb58405cbecb7667698bfd24": {
          "model_module": "@jupyter-widgets/controls",
          "model_name": "HTMLModel",
          "model_module_version": "1.5.0",
          "state": {
            "_dom_classes": [],
            "_model_module": "@jupyter-widgets/controls",
            "_model_module_version": "1.5.0",
            "_model_name": "HTMLModel",
            "_view_count": null,
            "_view_module": "@jupyter-widgets/controls",
            "_view_module_version": "1.5.0",
            "_view_name": "HTMLView",
            "description": "",
            "description_tooltip": null,
            "layout": "IPY_MODEL_a9d418d23d3946e9b3ff84a9c29623b1",
            "placeholder": "​",
            "style": "IPY_MODEL_830fed2dc47e4fc6857774e08d73c610",
            "value": "Downloading (…)cial_tokens_map.json: 100%"
          }
        },
        "e8f65454484b4366a61a0544be238d68": {
          "model_module": "@jupyter-widgets/controls",
          "model_name": "FloatProgressModel",
          "model_module_version": "1.5.0",
          "state": {
            "_dom_classes": [],
            "_model_module": "@jupyter-widgets/controls",
            "_model_module_version": "1.5.0",
            "_model_name": "FloatProgressModel",
            "_view_count": null,
            "_view_module": "@jupyter-widgets/controls",
            "_view_module_version": "1.5.0",
            "_view_name": "ProgressView",
            "bar_style": "success",
            "description": "",
            "description_tooltip": null,
            "layout": "IPY_MODEL_f40008ec1900478a998d5f4adda7a049",
            "max": 112,
            "min": 0,
            "orientation": "horizontal",
            "style": "IPY_MODEL_730d950531664249ad0f2a360ce7a2be",
            "value": 112
          }
        },
        "438bfd797c3045269b37b8685a850736": {
          "model_module": "@jupyter-widgets/controls",
          "model_name": "HTMLModel",
          "model_module_version": "1.5.0",
          "state": {
            "_dom_classes": [],
            "_model_module": "@jupyter-widgets/controls",
            "_model_module_version": "1.5.0",
            "_model_name": "HTMLModel",
            "_view_count": null,
            "_view_module": "@jupyter-widgets/controls",
            "_view_module_version": "1.5.0",
            "_view_name": "HTMLView",
            "description": "",
            "description_tooltip": null,
            "layout": "IPY_MODEL_2568ba44633c4e9a9a2352c8865ab1a0",
            "placeholder": "​",
            "style": "IPY_MODEL_da0615657d784faea5329a0a96e4099d",
            "value": " 112/112 [00:00&lt;00:00, 1.75kB/s]"
          }
        },
        "6ff1f2c583b04c249aef084ec51bcb22": {
          "model_module": "@jupyter-widgets/base",
          "model_name": "LayoutModel",
          "model_module_version": "1.2.0",
          "state": {
            "_model_module": "@jupyter-widgets/base",
            "_model_module_version": "1.2.0",
            "_model_name": "LayoutModel",
            "_view_count": null,
            "_view_module": "@jupyter-widgets/base",
            "_view_module_version": "1.2.0",
            "_view_name": "LayoutView",
            "align_content": null,
            "align_items": null,
            "align_self": null,
            "border": null,
            "bottom": null,
            "display": null,
            "flex": null,
            "flex_flow": null,
            "grid_area": null,
            "grid_auto_columns": null,
            "grid_auto_flow": null,
            "grid_auto_rows": null,
            "grid_column": null,
            "grid_gap": null,
            "grid_row": null,
            "grid_template_areas": null,
            "grid_template_columns": null,
            "grid_template_rows": null,
            "height": null,
            "justify_content": null,
            "justify_items": null,
            "left": null,
            "margin": null,
            "max_height": null,
            "max_width": null,
            "min_height": null,
            "min_width": null,
            "object_fit": null,
            "object_position": null,
            "order": null,
            "overflow": null,
            "overflow_x": null,
            "overflow_y": null,
            "padding": null,
            "right": null,
            "top": null,
            "visibility": null,
            "width": null
          }
        },
        "a9d418d23d3946e9b3ff84a9c29623b1": {
          "model_module": "@jupyter-widgets/base",
          "model_name": "LayoutModel",
          "model_module_version": "1.2.0",
          "state": {
            "_model_module": "@jupyter-widgets/base",
            "_model_module_version": "1.2.0",
            "_model_name": "LayoutModel",
            "_view_count": null,
            "_view_module": "@jupyter-widgets/base",
            "_view_module_version": "1.2.0",
            "_view_name": "LayoutView",
            "align_content": null,
            "align_items": null,
            "align_self": null,
            "border": null,
            "bottom": null,
            "display": null,
            "flex": null,
            "flex_flow": null,
            "grid_area": null,
            "grid_auto_columns": null,
            "grid_auto_flow": null,
            "grid_auto_rows": null,
            "grid_column": null,
            "grid_gap": null,
            "grid_row": null,
            "grid_template_areas": null,
            "grid_template_columns": null,
            "grid_template_rows": null,
            "height": null,
            "justify_content": null,
            "justify_items": null,
            "left": null,
            "margin": null,
            "max_height": null,
            "max_width": null,
            "min_height": null,
            "min_width": null,
            "object_fit": null,
            "object_position": null,
            "order": null,
            "overflow": null,
            "overflow_x": null,
            "overflow_y": null,
            "padding": null,
            "right": null,
            "top": null,
            "visibility": null,
            "width": null
          }
        },
        "830fed2dc47e4fc6857774e08d73c610": {
          "model_module": "@jupyter-widgets/controls",
          "model_name": "DescriptionStyleModel",
          "model_module_version": "1.5.0",
          "state": {
            "_model_module": "@jupyter-widgets/controls",
            "_model_module_version": "1.5.0",
            "_model_name": "DescriptionStyleModel",
            "_view_count": null,
            "_view_module": "@jupyter-widgets/base",
            "_view_module_version": "1.2.0",
            "_view_name": "StyleView",
            "description_width": ""
          }
        },
        "f40008ec1900478a998d5f4adda7a049": {
          "model_module": "@jupyter-widgets/base",
          "model_name": "LayoutModel",
          "model_module_version": "1.2.0",
          "state": {
            "_model_module": "@jupyter-widgets/base",
            "_model_module_version": "1.2.0",
            "_model_name": "LayoutModel",
            "_view_count": null,
            "_view_module": "@jupyter-widgets/base",
            "_view_module_version": "1.2.0",
            "_view_name": "LayoutView",
            "align_content": null,
            "align_items": null,
            "align_self": null,
            "border": null,
            "bottom": null,
            "display": null,
            "flex": null,
            "flex_flow": null,
            "grid_area": null,
            "grid_auto_columns": null,
            "grid_auto_flow": null,
            "grid_auto_rows": null,
            "grid_column": null,
            "grid_gap": null,
            "grid_row": null,
            "grid_template_areas": null,
            "grid_template_columns": null,
            "grid_template_rows": null,
            "height": null,
            "justify_content": null,
            "justify_items": null,
            "left": null,
            "margin": null,
            "max_height": null,
            "max_width": null,
            "min_height": null,
            "min_width": null,
            "object_fit": null,
            "object_position": null,
            "order": null,
            "overflow": null,
            "overflow_x": null,
            "overflow_y": null,
            "padding": null,
            "right": null,
            "top": null,
            "visibility": null,
            "width": null
          }
        },
        "730d950531664249ad0f2a360ce7a2be": {
          "model_module": "@jupyter-widgets/controls",
          "model_name": "ProgressStyleModel",
          "model_module_version": "1.5.0",
          "state": {
            "_model_module": "@jupyter-widgets/controls",
            "_model_module_version": "1.5.0",
            "_model_name": "ProgressStyleModel",
            "_view_count": null,
            "_view_module": "@jupyter-widgets/base",
            "_view_module_version": "1.2.0",
            "_view_name": "StyleView",
            "bar_color": null,
            "description_width": ""
          }
        },
        "2568ba44633c4e9a9a2352c8865ab1a0": {
          "model_module": "@jupyter-widgets/base",
          "model_name": "LayoutModel",
          "model_module_version": "1.2.0",
          "state": {
            "_model_module": "@jupyter-widgets/base",
            "_model_module_version": "1.2.0",
            "_model_name": "LayoutModel",
            "_view_count": null,
            "_view_module": "@jupyter-widgets/base",
            "_view_module_version": "1.2.0",
            "_view_name": "LayoutView",
            "align_content": null,
            "align_items": null,
            "align_self": null,
            "border": null,
            "bottom": null,
            "display": null,
            "flex": null,
            "flex_flow": null,
            "grid_area": null,
            "grid_auto_columns": null,
            "grid_auto_flow": null,
            "grid_auto_rows": null,
            "grid_column": null,
            "grid_gap": null,
            "grid_row": null,
            "grid_template_areas": null,
            "grid_template_columns": null,
            "grid_template_rows": null,
            "height": null,
            "justify_content": null,
            "justify_items": null,
            "left": null,
            "margin": null,
            "max_height": null,
            "max_width": null,
            "min_height": null,
            "min_width": null,
            "object_fit": null,
            "object_position": null,
            "order": null,
            "overflow": null,
            "overflow_x": null,
            "overflow_y": null,
            "padding": null,
            "right": null,
            "top": null,
            "visibility": null,
            "width": null
          }
        },
        "da0615657d784faea5329a0a96e4099d": {
          "model_module": "@jupyter-widgets/controls",
          "model_name": "DescriptionStyleModel",
          "model_module_version": "1.5.0",
          "state": {
            "_model_module": "@jupyter-widgets/controls",
            "_model_module_version": "1.5.0",
            "_model_name": "DescriptionStyleModel",
            "_view_count": null,
            "_view_module": "@jupyter-widgets/base",
            "_view_module_version": "1.2.0",
            "_view_name": "StyleView",
            "description_width": ""
          }
        },
        "e9dbf035ad3643fa9b2538b0b147ab78": {
          "model_module": "@jupyter-widgets/controls",
          "model_name": "HBoxModel",
          "model_module_version": "1.5.0",
          "state": {
            "_dom_classes": [],
            "_model_module": "@jupyter-widgets/controls",
            "_model_module_version": "1.5.0",
            "_model_name": "HBoxModel",
            "_view_count": null,
            "_view_module": "@jupyter-widgets/controls",
            "_view_module_version": "1.5.0",
            "_view_name": "HBoxView",
            "box_style": "",
            "children": [
              "IPY_MODEL_c82015b2adbd413d8f5fb2b2fc3a2c8f",
              "IPY_MODEL_85d2f5defca144f6975148b2f458a5d5",
              "IPY_MODEL_b70edc4873544acea70c7315e9f3eaaf"
            ],
            "layout": "IPY_MODEL_6fe3e6d4baf044f1921cec15887749ed"
          }
        },
        "c82015b2adbd413d8f5fb2b2fc3a2c8f": {
          "model_module": "@jupyter-widgets/controls",
          "model_name": "HTMLModel",
          "model_module_version": "1.5.0",
          "state": {
            "_dom_classes": [],
            "_model_module": "@jupyter-widgets/controls",
            "_model_module_version": "1.5.0",
            "_model_name": "HTMLModel",
            "_view_count": null,
            "_view_module": "@jupyter-widgets/controls",
            "_view_module_version": "1.5.0",
            "_view_name": "HTMLView",
            "description": "",
            "description_tooltip": null,
            "layout": "IPY_MODEL_7e35227ea4254612b6a4f1a0269c3710",
            "placeholder": "​",
            "style": "IPY_MODEL_371077631d84400185bf91838d1c241f",
            "value": "Downloading pytorch_model.bin: 100%"
          }
        },
        "85d2f5defca144f6975148b2f458a5d5": {
          "model_module": "@jupyter-widgets/controls",
          "model_name": "FloatProgressModel",
          "model_module_version": "1.5.0",
          "state": {
            "_dom_classes": [],
            "_model_module": "@jupyter-widgets/controls",
            "_model_module_version": "1.5.0",
            "_model_name": "FloatProgressModel",
            "_view_count": null,
            "_view_module": "@jupyter-widgets/controls",
            "_view_module_version": "1.5.0",
            "_view_name": "ProgressView",
            "bar_style": "success",
            "description": "",
            "description_tooltip": null,
            "layout": "IPY_MODEL_fbc7d4c6cba3458db0a5cbf0e4ea370f",
            "max": 714355318,
            "min": 0,
            "orientation": "horizontal",
            "style": "IPY_MODEL_c92930e4e24441a98fec39b8006facfc",
            "value": 714355318
          }
        },
        "b70edc4873544acea70c7315e9f3eaaf": {
          "model_module": "@jupyter-widgets/controls",
          "model_name": "HTMLModel",
          "model_module_version": "1.5.0",
          "state": {
            "_dom_classes": [],
            "_model_module": "@jupyter-widgets/controls",
            "_model_module_version": "1.5.0",
            "_model_name": "HTMLModel",
            "_view_count": null,
            "_view_module": "@jupyter-widgets/controls",
            "_view_module_version": "1.5.0",
            "_view_name": "HTMLView",
            "description": "",
            "description_tooltip": null,
            "layout": "IPY_MODEL_02b43b847f8d4f7797f5b36c85f1e56e",
            "placeholder": "​",
            "style": "IPY_MODEL_7d2ddaff8a7240bea9f9037d9874e287",
            "value": " 714M/714M [00:07&lt;00:00, 109MB/s]"
          }
        },
        "6fe3e6d4baf044f1921cec15887749ed": {
          "model_module": "@jupyter-widgets/base",
          "model_name": "LayoutModel",
          "model_module_version": "1.2.0",
          "state": {
            "_model_module": "@jupyter-widgets/base",
            "_model_module_version": "1.2.0",
            "_model_name": "LayoutModel",
            "_view_count": null,
            "_view_module": "@jupyter-widgets/base",
            "_view_module_version": "1.2.0",
            "_view_name": "LayoutView",
            "align_content": null,
            "align_items": null,
            "align_self": null,
            "border": null,
            "bottom": null,
            "display": null,
            "flex": null,
            "flex_flow": null,
            "grid_area": null,
            "grid_auto_columns": null,
            "grid_auto_flow": null,
            "grid_auto_rows": null,
            "grid_column": null,
            "grid_gap": null,
            "grid_row": null,
            "grid_template_areas": null,
            "grid_template_columns": null,
            "grid_template_rows": null,
            "height": null,
            "justify_content": null,
            "justify_items": null,
            "left": null,
            "margin": null,
            "max_height": null,
            "max_width": null,
            "min_height": null,
            "min_width": null,
            "object_fit": null,
            "object_position": null,
            "order": null,
            "overflow": null,
            "overflow_x": null,
            "overflow_y": null,
            "padding": null,
            "right": null,
            "top": null,
            "visibility": null,
            "width": null
          }
        },
        "7e35227ea4254612b6a4f1a0269c3710": {
          "model_module": "@jupyter-widgets/base",
          "model_name": "LayoutModel",
          "model_module_version": "1.2.0",
          "state": {
            "_model_module": "@jupyter-widgets/base",
            "_model_module_version": "1.2.0",
            "_model_name": "LayoutModel",
            "_view_count": null,
            "_view_module": "@jupyter-widgets/base",
            "_view_module_version": "1.2.0",
            "_view_name": "LayoutView",
            "align_content": null,
            "align_items": null,
            "align_self": null,
            "border": null,
            "bottom": null,
            "display": null,
            "flex": null,
            "flex_flow": null,
            "grid_area": null,
            "grid_auto_columns": null,
            "grid_auto_flow": null,
            "grid_auto_rows": null,
            "grid_column": null,
            "grid_gap": null,
            "grid_row": null,
            "grid_template_areas": null,
            "grid_template_columns": null,
            "grid_template_rows": null,
            "height": null,
            "justify_content": null,
            "justify_items": null,
            "left": null,
            "margin": null,
            "max_height": null,
            "max_width": null,
            "min_height": null,
            "min_width": null,
            "object_fit": null,
            "object_position": null,
            "order": null,
            "overflow": null,
            "overflow_x": null,
            "overflow_y": null,
            "padding": null,
            "right": null,
            "top": null,
            "visibility": null,
            "width": null
          }
        },
        "371077631d84400185bf91838d1c241f": {
          "model_module": "@jupyter-widgets/controls",
          "model_name": "DescriptionStyleModel",
          "model_module_version": "1.5.0",
          "state": {
            "_model_module": "@jupyter-widgets/controls",
            "_model_module_version": "1.5.0",
            "_model_name": "DescriptionStyleModel",
            "_view_count": null,
            "_view_module": "@jupyter-widgets/base",
            "_view_module_version": "1.2.0",
            "_view_name": "StyleView",
            "description_width": ""
          }
        },
        "fbc7d4c6cba3458db0a5cbf0e4ea370f": {
          "model_module": "@jupyter-widgets/base",
          "model_name": "LayoutModel",
          "model_module_version": "1.2.0",
          "state": {
            "_model_module": "@jupyter-widgets/base",
            "_model_module_version": "1.2.0",
            "_model_name": "LayoutModel",
            "_view_count": null,
            "_view_module": "@jupyter-widgets/base",
            "_view_module_version": "1.2.0",
            "_view_name": "LayoutView",
            "align_content": null,
            "align_items": null,
            "align_self": null,
            "border": null,
            "bottom": null,
            "display": null,
            "flex": null,
            "flex_flow": null,
            "grid_area": null,
            "grid_auto_columns": null,
            "grid_auto_flow": null,
            "grid_auto_rows": null,
            "grid_column": null,
            "grid_gap": null,
            "grid_row": null,
            "grid_template_areas": null,
            "grid_template_columns": null,
            "grid_template_rows": null,
            "height": null,
            "justify_content": null,
            "justify_items": null,
            "left": null,
            "margin": null,
            "max_height": null,
            "max_width": null,
            "min_height": null,
            "min_width": null,
            "object_fit": null,
            "object_position": null,
            "order": null,
            "overflow": null,
            "overflow_x": null,
            "overflow_y": null,
            "padding": null,
            "right": null,
            "top": null,
            "visibility": null,
            "width": null
          }
        },
        "c92930e4e24441a98fec39b8006facfc": {
          "model_module": "@jupyter-widgets/controls",
          "model_name": "ProgressStyleModel",
          "model_module_version": "1.5.0",
          "state": {
            "_model_module": "@jupyter-widgets/controls",
            "_model_module_version": "1.5.0",
            "_model_name": "ProgressStyleModel",
            "_view_count": null,
            "_view_module": "@jupyter-widgets/base",
            "_view_module_version": "1.2.0",
            "_view_name": "StyleView",
            "bar_color": null,
            "description_width": ""
          }
        },
        "02b43b847f8d4f7797f5b36c85f1e56e": {
          "model_module": "@jupyter-widgets/base",
          "model_name": "LayoutModel",
          "model_module_version": "1.2.0",
          "state": {
            "_model_module": "@jupyter-widgets/base",
            "_model_module_version": "1.2.0",
            "_model_name": "LayoutModel",
            "_view_count": null,
            "_view_module": "@jupyter-widgets/base",
            "_view_module_version": "1.2.0",
            "_view_name": "LayoutView",
            "align_content": null,
            "align_items": null,
            "align_self": null,
            "border": null,
            "bottom": null,
            "display": null,
            "flex": null,
            "flex_flow": null,
            "grid_area": null,
            "grid_auto_columns": null,
            "grid_auto_flow": null,
            "grid_auto_rows": null,
            "grid_column": null,
            "grid_gap": null,
            "grid_row": null,
            "grid_template_areas": null,
            "grid_template_columns": null,
            "grid_template_rows": null,
            "height": null,
            "justify_content": null,
            "justify_items": null,
            "left": null,
            "margin": null,
            "max_height": null,
            "max_width": null,
            "min_height": null,
            "min_width": null,
            "object_fit": null,
            "object_position": null,
            "order": null,
            "overflow": null,
            "overflow_x": null,
            "overflow_y": null,
            "padding": null,
            "right": null,
            "top": null,
            "visibility": null,
            "width": null
          }
        },
        "7d2ddaff8a7240bea9f9037d9874e287": {
          "model_module": "@jupyter-widgets/controls",
          "model_name": "DescriptionStyleModel",
          "model_module_version": "1.5.0",
          "state": {
            "_model_module": "@jupyter-widgets/controls",
            "_model_module_version": "1.5.0",
            "_model_name": "DescriptionStyleModel",
            "_view_count": null,
            "_view_module": "@jupyter-widgets/base",
            "_view_module_version": "1.2.0",
            "_view_name": "StyleView",
            "description_width": ""
          }
        },
        "106412f8579a4274bf87d02bcc762d38": {
          "model_module": "@jupyter-widgets/controls",
          "model_name": "HBoxModel",
          "model_module_version": "1.5.0",
          "state": {
            "_dom_classes": [],
            "_model_module": "@jupyter-widgets/controls",
            "_model_module_version": "1.5.0",
            "_model_name": "HBoxModel",
            "_view_count": null,
            "_view_module": "@jupyter-widgets/controls",
            "_view_module_version": "1.5.0",
            "_view_name": "HBoxView",
            "box_style": "",
            "children": [
              "IPY_MODEL_89e4ab557e13464d9dede805f2e8ade4",
              "IPY_MODEL_09d773c56a754515bc97b73a3bcbd463",
              "IPY_MODEL_85276996d9664dbd8af65c677bc8b158"
            ],
            "layout": "IPY_MODEL_9f5ef8a575f34dfa8dfff4cab9b4832b"
          }
        },
        "89e4ab557e13464d9dede805f2e8ade4": {
          "model_module": "@jupyter-widgets/controls",
          "model_name": "HTMLModel",
          "model_module_version": "1.5.0",
          "state": {
            "_dom_classes": [],
            "_model_module": "@jupyter-widgets/controls",
            "_model_module_version": "1.5.0",
            "_model_name": "HTMLModel",
            "_view_count": null,
            "_view_module": "@jupyter-widgets/controls",
            "_view_module_version": "1.5.0",
            "_view_name": "HTMLView",
            "description": "",
            "description_tooltip": null,
            "layout": "IPY_MODEL_e092183b9785475c9e6d98d490136a55",
            "placeholder": "​",
            "style": "IPY_MODEL_9a7fc40b3e544220b3d8ac357760bdeb",
            "value": "Map:  99%"
          }
        },
        "09d773c56a754515bc97b73a3bcbd463": {
          "model_module": "@jupyter-widgets/controls",
          "model_name": "FloatProgressModel",
          "model_module_version": "1.5.0",
          "state": {
            "_dom_classes": [],
            "_model_module": "@jupyter-widgets/controls",
            "_model_module_version": "1.5.0",
            "_model_name": "FloatProgressModel",
            "_view_count": null,
            "_view_module": "@jupyter-widgets/controls",
            "_view_module_version": "1.5.0",
            "_view_name": "ProgressView",
            "bar_style": "",
            "description": "",
            "description_tooltip": null,
            "layout": "IPY_MODEL_bb37a400cf3a42b59578e195b9815e64",
            "max": 21266,
            "min": 0,
            "orientation": "horizontal",
            "style": "IPY_MODEL_a8922c2d2de042c5af18ddc98d780617",
            "value": 21266
          }
        },
        "85276996d9664dbd8af65c677bc8b158": {
          "model_module": "@jupyter-widgets/controls",
          "model_name": "HTMLModel",
          "model_module_version": "1.5.0",
          "state": {
            "_dom_classes": [],
            "_model_module": "@jupyter-widgets/controls",
            "_model_module_version": "1.5.0",
            "_model_name": "HTMLModel",
            "_view_count": null,
            "_view_module": "@jupyter-widgets/controls",
            "_view_module_version": "1.5.0",
            "_view_name": "HTMLView",
            "description": "",
            "description_tooltip": null,
            "layout": "IPY_MODEL_4c405ef493de433fa8418319957bc502",
            "placeholder": "​",
            "style": "IPY_MODEL_1919256f824f49c0aacd3ef29526585f",
            "value": " 21000/21266 [00:01&lt;00:00, 15370.71 examples/s]"
          }
        },
        "9f5ef8a575f34dfa8dfff4cab9b4832b": {
          "model_module": "@jupyter-widgets/base",
          "model_name": "LayoutModel",
          "model_module_version": "1.2.0",
          "state": {
            "_model_module": "@jupyter-widgets/base",
            "_model_module_version": "1.2.0",
            "_model_name": "LayoutModel",
            "_view_count": null,
            "_view_module": "@jupyter-widgets/base",
            "_view_module_version": "1.2.0",
            "_view_name": "LayoutView",
            "align_content": null,
            "align_items": null,
            "align_self": null,
            "border": null,
            "bottom": null,
            "display": null,
            "flex": null,
            "flex_flow": null,
            "grid_area": null,
            "grid_auto_columns": null,
            "grid_auto_flow": null,
            "grid_auto_rows": null,
            "grid_column": null,
            "grid_gap": null,
            "grid_row": null,
            "grid_template_areas": null,
            "grid_template_columns": null,
            "grid_template_rows": null,
            "height": null,
            "justify_content": null,
            "justify_items": null,
            "left": null,
            "margin": null,
            "max_height": null,
            "max_width": null,
            "min_height": null,
            "min_width": null,
            "object_fit": null,
            "object_position": null,
            "order": null,
            "overflow": null,
            "overflow_x": null,
            "overflow_y": null,
            "padding": null,
            "right": null,
            "top": null,
            "visibility": "hidden",
            "width": null
          }
        },
        "e092183b9785475c9e6d98d490136a55": {
          "model_module": "@jupyter-widgets/base",
          "model_name": "LayoutModel",
          "model_module_version": "1.2.0",
          "state": {
            "_model_module": "@jupyter-widgets/base",
            "_model_module_version": "1.2.0",
            "_model_name": "LayoutModel",
            "_view_count": null,
            "_view_module": "@jupyter-widgets/base",
            "_view_module_version": "1.2.0",
            "_view_name": "LayoutView",
            "align_content": null,
            "align_items": null,
            "align_self": null,
            "border": null,
            "bottom": null,
            "display": null,
            "flex": null,
            "flex_flow": null,
            "grid_area": null,
            "grid_auto_columns": null,
            "grid_auto_flow": null,
            "grid_auto_rows": null,
            "grid_column": null,
            "grid_gap": null,
            "grid_row": null,
            "grid_template_areas": null,
            "grid_template_columns": null,
            "grid_template_rows": null,
            "height": null,
            "justify_content": null,
            "justify_items": null,
            "left": null,
            "margin": null,
            "max_height": null,
            "max_width": null,
            "min_height": null,
            "min_width": null,
            "object_fit": null,
            "object_position": null,
            "order": null,
            "overflow": null,
            "overflow_x": null,
            "overflow_y": null,
            "padding": null,
            "right": null,
            "top": null,
            "visibility": null,
            "width": null
          }
        },
        "9a7fc40b3e544220b3d8ac357760bdeb": {
          "model_module": "@jupyter-widgets/controls",
          "model_name": "DescriptionStyleModel",
          "model_module_version": "1.5.0",
          "state": {
            "_model_module": "@jupyter-widgets/controls",
            "_model_module_version": "1.5.0",
            "_model_name": "DescriptionStyleModel",
            "_view_count": null,
            "_view_module": "@jupyter-widgets/base",
            "_view_module_version": "1.2.0",
            "_view_name": "StyleView",
            "description_width": ""
          }
        },
        "bb37a400cf3a42b59578e195b9815e64": {
          "model_module": "@jupyter-widgets/base",
          "model_name": "LayoutModel",
          "model_module_version": "1.2.0",
          "state": {
            "_model_module": "@jupyter-widgets/base",
            "_model_module_version": "1.2.0",
            "_model_name": "LayoutModel",
            "_view_count": null,
            "_view_module": "@jupyter-widgets/base",
            "_view_module_version": "1.2.0",
            "_view_name": "LayoutView",
            "align_content": null,
            "align_items": null,
            "align_self": null,
            "border": null,
            "bottom": null,
            "display": null,
            "flex": null,
            "flex_flow": null,
            "grid_area": null,
            "grid_auto_columns": null,
            "grid_auto_flow": null,
            "grid_auto_rows": null,
            "grid_column": null,
            "grid_gap": null,
            "grid_row": null,
            "grid_template_areas": null,
            "grid_template_columns": null,
            "grid_template_rows": null,
            "height": null,
            "justify_content": null,
            "justify_items": null,
            "left": null,
            "margin": null,
            "max_height": null,
            "max_width": null,
            "min_height": null,
            "min_width": null,
            "object_fit": null,
            "object_position": null,
            "order": null,
            "overflow": null,
            "overflow_x": null,
            "overflow_y": null,
            "padding": null,
            "right": null,
            "top": null,
            "visibility": null,
            "width": null
          }
        },
        "a8922c2d2de042c5af18ddc98d780617": {
          "model_module": "@jupyter-widgets/controls",
          "model_name": "ProgressStyleModel",
          "model_module_version": "1.5.0",
          "state": {
            "_model_module": "@jupyter-widgets/controls",
            "_model_module_version": "1.5.0",
            "_model_name": "ProgressStyleModel",
            "_view_count": null,
            "_view_module": "@jupyter-widgets/base",
            "_view_module_version": "1.2.0",
            "_view_name": "StyleView",
            "bar_color": null,
            "description_width": ""
          }
        },
        "4c405ef493de433fa8418319957bc502": {
          "model_module": "@jupyter-widgets/base",
          "model_name": "LayoutModel",
          "model_module_version": "1.2.0",
          "state": {
            "_model_module": "@jupyter-widgets/base",
            "_model_module_version": "1.2.0",
            "_model_name": "LayoutModel",
            "_view_count": null,
            "_view_module": "@jupyter-widgets/base",
            "_view_module_version": "1.2.0",
            "_view_name": "LayoutView",
            "align_content": null,
            "align_items": null,
            "align_self": null,
            "border": null,
            "bottom": null,
            "display": null,
            "flex": null,
            "flex_flow": null,
            "grid_area": null,
            "grid_auto_columns": null,
            "grid_auto_flow": null,
            "grid_auto_rows": null,
            "grid_column": null,
            "grid_gap": null,
            "grid_row": null,
            "grid_template_areas": null,
            "grid_template_columns": null,
            "grid_template_rows": null,
            "height": null,
            "justify_content": null,
            "justify_items": null,
            "left": null,
            "margin": null,
            "max_height": null,
            "max_width": null,
            "min_height": null,
            "min_width": null,
            "object_fit": null,
            "object_position": null,
            "order": null,
            "overflow": null,
            "overflow_x": null,
            "overflow_y": null,
            "padding": null,
            "right": null,
            "top": null,
            "visibility": null,
            "width": null
          }
        },
        "1919256f824f49c0aacd3ef29526585f": {
          "model_module": "@jupyter-widgets/controls",
          "model_name": "DescriptionStyleModel",
          "model_module_version": "1.5.0",
          "state": {
            "_model_module": "@jupyter-widgets/controls",
            "_model_module_version": "1.5.0",
            "_model_name": "DescriptionStyleModel",
            "_view_count": null,
            "_view_module": "@jupyter-widgets/base",
            "_view_module_version": "1.2.0",
            "_view_name": "StyleView",
            "description_width": ""
          }
        },
        "6891c771783244c79ca9b0d64c030a77": {
          "model_module": "@jupyter-widgets/controls",
          "model_name": "HBoxModel",
          "model_module_version": "1.5.0",
          "state": {
            "_dom_classes": [],
            "_model_module": "@jupyter-widgets/controls",
            "_model_module_version": "1.5.0",
            "_model_name": "HBoxModel",
            "_view_count": null,
            "_view_module": "@jupyter-widgets/controls",
            "_view_module_version": "1.5.0",
            "_view_name": "HBoxView",
            "box_style": "",
            "children": [
              "IPY_MODEL_3e963dd5f44e4d4cac02a2c1ba290f79",
              "IPY_MODEL_7dfd9db8ac334ad79f5a075e4f1c307b",
              "IPY_MODEL_afa401676935410aace92e2cbbb5410a"
            ],
            "layout": "IPY_MODEL_bf830acba65a46ce82951a152b6df438"
          }
        },
        "3e963dd5f44e4d4cac02a2c1ba290f79": {
          "model_module": "@jupyter-widgets/controls",
          "model_name": "HTMLModel",
          "model_module_version": "1.5.0",
          "state": {
            "_dom_classes": [],
            "_model_module": "@jupyter-widgets/controls",
            "_model_module_version": "1.5.0",
            "_model_name": "HTMLModel",
            "_view_count": null,
            "_view_module": "@jupyter-widgets/controls",
            "_view_module_version": "1.5.0",
            "_view_name": "HTMLView",
            "description": "",
            "description_tooltip": null,
            "layout": "IPY_MODEL_348359fc20b84ebea4ba2c2121a5cc6f",
            "placeholder": "​",
            "style": "IPY_MODEL_47a9266600e1456b88f7bc7a51f16481",
            "value": "Map:  94%"
          }
        },
        "7dfd9db8ac334ad79f5a075e4f1c307b": {
          "model_module": "@jupyter-widgets/controls",
          "model_name": "FloatProgressModel",
          "model_module_version": "1.5.0",
          "state": {
            "_dom_classes": [],
            "_model_module": "@jupyter-widgets/controls",
            "_model_module_version": "1.5.0",
            "_model_name": "FloatProgressModel",
            "_view_count": null,
            "_view_module": "@jupyter-widgets/controls",
            "_view_module_version": "1.5.0",
            "_view_name": "ProgressView",
            "bar_style": "",
            "description": "",
            "description_tooltip": null,
            "layout": "IPY_MODEL_7c531082abd64aef9f5fbf5fd7ea7f92",
            "max": 4254,
            "min": 0,
            "orientation": "horizontal",
            "style": "IPY_MODEL_4cadce4c9edd46eeb63469e356946fa1",
            "value": 4254
          }
        },
        "afa401676935410aace92e2cbbb5410a": {
          "model_module": "@jupyter-widgets/controls",
          "model_name": "HTMLModel",
          "model_module_version": "1.5.0",
          "state": {
            "_dom_classes": [],
            "_model_module": "@jupyter-widgets/controls",
            "_model_module_version": "1.5.0",
            "_model_name": "HTMLModel",
            "_view_count": null,
            "_view_module": "@jupyter-widgets/controls",
            "_view_module_version": "1.5.0",
            "_view_name": "HTMLView",
            "description": "",
            "description_tooltip": null,
            "layout": "IPY_MODEL_d3dd8677c2f0405994aea960e7645e8e",
            "placeholder": "​",
            "style": "IPY_MODEL_196e3507d11a4ee4beae400a38b05059",
            "value": " 4000/4254 [00:00&lt;00:00, 14076.62 examples/s]"
          }
        },
        "bf830acba65a46ce82951a152b6df438": {
          "model_module": "@jupyter-widgets/base",
          "model_name": "LayoutModel",
          "model_module_version": "1.2.0",
          "state": {
            "_model_module": "@jupyter-widgets/base",
            "_model_module_version": "1.2.0",
            "_model_name": "LayoutModel",
            "_view_count": null,
            "_view_module": "@jupyter-widgets/base",
            "_view_module_version": "1.2.0",
            "_view_name": "LayoutView",
            "align_content": null,
            "align_items": null,
            "align_self": null,
            "border": null,
            "bottom": null,
            "display": null,
            "flex": null,
            "flex_flow": null,
            "grid_area": null,
            "grid_auto_columns": null,
            "grid_auto_flow": null,
            "grid_auto_rows": null,
            "grid_column": null,
            "grid_gap": null,
            "grid_row": null,
            "grid_template_areas": null,
            "grid_template_columns": null,
            "grid_template_rows": null,
            "height": null,
            "justify_content": null,
            "justify_items": null,
            "left": null,
            "margin": null,
            "max_height": null,
            "max_width": null,
            "min_height": null,
            "min_width": null,
            "object_fit": null,
            "object_position": null,
            "order": null,
            "overflow": null,
            "overflow_x": null,
            "overflow_y": null,
            "padding": null,
            "right": null,
            "top": null,
            "visibility": "hidden",
            "width": null
          }
        },
        "348359fc20b84ebea4ba2c2121a5cc6f": {
          "model_module": "@jupyter-widgets/base",
          "model_name": "LayoutModel",
          "model_module_version": "1.2.0",
          "state": {
            "_model_module": "@jupyter-widgets/base",
            "_model_module_version": "1.2.0",
            "_model_name": "LayoutModel",
            "_view_count": null,
            "_view_module": "@jupyter-widgets/base",
            "_view_module_version": "1.2.0",
            "_view_name": "LayoutView",
            "align_content": null,
            "align_items": null,
            "align_self": null,
            "border": null,
            "bottom": null,
            "display": null,
            "flex": null,
            "flex_flow": null,
            "grid_area": null,
            "grid_auto_columns": null,
            "grid_auto_flow": null,
            "grid_auto_rows": null,
            "grid_column": null,
            "grid_gap": null,
            "grid_row": null,
            "grid_template_areas": null,
            "grid_template_columns": null,
            "grid_template_rows": null,
            "height": null,
            "justify_content": null,
            "justify_items": null,
            "left": null,
            "margin": null,
            "max_height": null,
            "max_width": null,
            "min_height": null,
            "min_width": null,
            "object_fit": null,
            "object_position": null,
            "order": null,
            "overflow": null,
            "overflow_x": null,
            "overflow_y": null,
            "padding": null,
            "right": null,
            "top": null,
            "visibility": null,
            "width": null
          }
        },
        "47a9266600e1456b88f7bc7a51f16481": {
          "model_module": "@jupyter-widgets/controls",
          "model_name": "DescriptionStyleModel",
          "model_module_version": "1.5.0",
          "state": {
            "_model_module": "@jupyter-widgets/controls",
            "_model_module_version": "1.5.0",
            "_model_name": "DescriptionStyleModel",
            "_view_count": null,
            "_view_module": "@jupyter-widgets/base",
            "_view_module_version": "1.2.0",
            "_view_name": "StyleView",
            "description_width": ""
          }
        },
        "7c531082abd64aef9f5fbf5fd7ea7f92": {
          "model_module": "@jupyter-widgets/base",
          "model_name": "LayoutModel",
          "model_module_version": "1.2.0",
          "state": {
            "_model_module": "@jupyter-widgets/base",
            "_model_module_version": "1.2.0",
            "_model_name": "LayoutModel",
            "_view_count": null,
            "_view_module": "@jupyter-widgets/base",
            "_view_module_version": "1.2.0",
            "_view_name": "LayoutView",
            "align_content": null,
            "align_items": null,
            "align_self": null,
            "border": null,
            "bottom": null,
            "display": null,
            "flex": null,
            "flex_flow": null,
            "grid_area": null,
            "grid_auto_columns": null,
            "grid_auto_flow": null,
            "grid_auto_rows": null,
            "grid_column": null,
            "grid_gap": null,
            "grid_row": null,
            "grid_template_areas": null,
            "grid_template_columns": null,
            "grid_template_rows": null,
            "height": null,
            "justify_content": null,
            "justify_items": null,
            "left": null,
            "margin": null,
            "max_height": null,
            "max_width": null,
            "min_height": null,
            "min_width": null,
            "object_fit": null,
            "object_position": null,
            "order": null,
            "overflow": null,
            "overflow_x": null,
            "overflow_y": null,
            "padding": null,
            "right": null,
            "top": null,
            "visibility": null,
            "width": null
          }
        },
        "4cadce4c9edd46eeb63469e356946fa1": {
          "model_module": "@jupyter-widgets/controls",
          "model_name": "ProgressStyleModel",
          "model_module_version": "1.5.0",
          "state": {
            "_model_module": "@jupyter-widgets/controls",
            "_model_module_version": "1.5.0",
            "_model_name": "ProgressStyleModel",
            "_view_count": null,
            "_view_module": "@jupyter-widgets/base",
            "_view_module_version": "1.2.0",
            "_view_name": "StyleView",
            "bar_color": null,
            "description_width": ""
          }
        },
        "d3dd8677c2f0405994aea960e7645e8e": {
          "model_module": "@jupyter-widgets/base",
          "model_name": "LayoutModel",
          "model_module_version": "1.2.0",
          "state": {
            "_model_module": "@jupyter-widgets/base",
            "_model_module_version": "1.2.0",
            "_model_name": "LayoutModel",
            "_view_count": null,
            "_view_module": "@jupyter-widgets/base",
            "_view_module_version": "1.2.0",
            "_view_name": "LayoutView",
            "align_content": null,
            "align_items": null,
            "align_self": null,
            "border": null,
            "bottom": null,
            "display": null,
            "flex": null,
            "flex_flow": null,
            "grid_area": null,
            "grid_auto_columns": null,
            "grid_auto_flow": null,
            "grid_auto_rows": null,
            "grid_column": null,
            "grid_gap": null,
            "grid_row": null,
            "grid_template_areas": null,
            "grid_template_columns": null,
            "grid_template_rows": null,
            "height": null,
            "justify_content": null,
            "justify_items": null,
            "left": null,
            "margin": null,
            "max_height": null,
            "max_width": null,
            "min_height": null,
            "min_width": null,
            "object_fit": null,
            "object_position": null,
            "order": null,
            "overflow": null,
            "overflow_x": null,
            "overflow_y": null,
            "padding": null,
            "right": null,
            "top": null,
            "visibility": null,
            "width": null
          }
        },
        "196e3507d11a4ee4beae400a38b05059": {
          "model_module": "@jupyter-widgets/controls",
          "model_name": "DescriptionStyleModel",
          "model_module_version": "1.5.0",
          "state": {
            "_model_module": "@jupyter-widgets/controls",
            "_model_module_version": "1.5.0",
            "_model_name": "DescriptionStyleModel",
            "_view_count": null,
            "_view_module": "@jupyter-widgets/base",
            "_view_module_version": "1.2.0",
            "_view_name": "StyleView",
            "description_width": ""
          }
        },
        "090d448bbc3b4ceeb6fd5fe2921fe509": {
          "model_module": "@jupyter-widgets/controls",
          "model_name": "HBoxModel",
          "model_module_version": "1.5.0",
          "state": {
            "_dom_classes": [],
            "_model_module": "@jupyter-widgets/controls",
            "_model_module_version": "1.5.0",
            "_model_name": "HBoxModel",
            "_view_count": null,
            "_view_module": "@jupyter-widgets/controls",
            "_view_module_version": "1.5.0",
            "_view_name": "HBoxView",
            "box_style": "",
            "children": [
              "IPY_MODEL_d357bb0e65a445e28c60d1bd01ba8d4e",
              "IPY_MODEL_2fa067394ea8442e85580d1cfd1580ea",
              "IPY_MODEL_7993f464c4fa482b86aaaa2e054629c5"
            ],
            "layout": "IPY_MODEL_855e6665d4b545568c707646245e4f99"
          }
        },
        "d357bb0e65a445e28c60d1bd01ba8d4e": {
          "model_module": "@jupyter-widgets/controls",
          "model_name": "HTMLModel",
          "model_module_version": "1.5.0",
          "state": {
            "_dom_classes": [],
            "_model_module": "@jupyter-widgets/controls",
            "_model_module_version": "1.5.0",
            "_model_name": "HTMLModel",
            "_view_count": null,
            "_view_module": "@jupyter-widgets/controls",
            "_view_module_version": "1.5.0",
            "_view_name": "HTMLView",
            "description": "",
            "description_tooltip": null,
            "layout": "IPY_MODEL_75c4067834ef4f17ba55ee37786267ef",
            "placeholder": "​",
            "style": "IPY_MODEL_5ef0d0e3000b433b9e5ba285d6014619",
            "value": "Downloading builder script: 100%"
          }
        },
        "2fa067394ea8442e85580d1cfd1580ea": {
          "model_module": "@jupyter-widgets/controls",
          "model_name": "FloatProgressModel",
          "model_module_version": "1.5.0",
          "state": {
            "_dom_classes": [],
            "_model_module": "@jupyter-widgets/controls",
            "_model_module_version": "1.5.0",
            "_model_name": "FloatProgressModel",
            "_view_count": null,
            "_view_module": "@jupyter-widgets/controls",
            "_view_module_version": "1.5.0",
            "_view_name": "ProgressView",
            "bar_style": "success",
            "description": "",
            "description_tooltip": null,
            "layout": "IPY_MODEL_2fb24e558bae43268647a7e2e2d5314f",
            "max": 6338,
            "min": 0,
            "orientation": "horizontal",
            "style": "IPY_MODEL_427153e4465a4c76a7967b7f329d0e68",
            "value": 6338
          }
        },
        "7993f464c4fa482b86aaaa2e054629c5": {
          "model_module": "@jupyter-widgets/controls",
          "model_name": "HTMLModel",
          "model_module_version": "1.5.0",
          "state": {
            "_dom_classes": [],
            "_model_module": "@jupyter-widgets/controls",
            "_model_module_version": "1.5.0",
            "_model_name": "HTMLModel",
            "_view_count": null,
            "_view_module": "@jupyter-widgets/controls",
            "_view_module_version": "1.5.0",
            "_view_name": "HTMLView",
            "description": "",
            "description_tooltip": null,
            "layout": "IPY_MODEL_935746a8c5c2423ba13ea8876840d46a",
            "placeholder": "​",
            "style": "IPY_MODEL_866f7c1ceae84e5e96cf6528abc80b77",
            "value": " 6.34k/6.34k [00:00&lt;00:00, 354kB/s]"
          }
        },
        "855e6665d4b545568c707646245e4f99": {
          "model_module": "@jupyter-widgets/base",
          "model_name": "LayoutModel",
          "model_module_version": "1.2.0",
          "state": {
            "_model_module": "@jupyter-widgets/base",
            "_model_module_version": "1.2.0",
            "_model_name": "LayoutModel",
            "_view_count": null,
            "_view_module": "@jupyter-widgets/base",
            "_view_module_version": "1.2.0",
            "_view_name": "LayoutView",
            "align_content": null,
            "align_items": null,
            "align_self": null,
            "border": null,
            "bottom": null,
            "display": null,
            "flex": null,
            "flex_flow": null,
            "grid_area": null,
            "grid_auto_columns": null,
            "grid_auto_flow": null,
            "grid_auto_rows": null,
            "grid_column": null,
            "grid_gap": null,
            "grid_row": null,
            "grid_template_areas": null,
            "grid_template_columns": null,
            "grid_template_rows": null,
            "height": null,
            "justify_content": null,
            "justify_items": null,
            "left": null,
            "margin": null,
            "max_height": null,
            "max_width": null,
            "min_height": null,
            "min_width": null,
            "object_fit": null,
            "object_position": null,
            "order": null,
            "overflow": null,
            "overflow_x": null,
            "overflow_y": null,
            "padding": null,
            "right": null,
            "top": null,
            "visibility": null,
            "width": null
          }
        },
        "75c4067834ef4f17ba55ee37786267ef": {
          "model_module": "@jupyter-widgets/base",
          "model_name": "LayoutModel",
          "model_module_version": "1.2.0",
          "state": {
            "_model_module": "@jupyter-widgets/base",
            "_model_module_version": "1.2.0",
            "_model_name": "LayoutModel",
            "_view_count": null,
            "_view_module": "@jupyter-widgets/base",
            "_view_module_version": "1.2.0",
            "_view_name": "LayoutView",
            "align_content": null,
            "align_items": null,
            "align_self": null,
            "border": null,
            "bottom": null,
            "display": null,
            "flex": null,
            "flex_flow": null,
            "grid_area": null,
            "grid_auto_columns": null,
            "grid_auto_flow": null,
            "grid_auto_rows": null,
            "grid_column": null,
            "grid_gap": null,
            "grid_row": null,
            "grid_template_areas": null,
            "grid_template_columns": null,
            "grid_template_rows": null,
            "height": null,
            "justify_content": null,
            "justify_items": null,
            "left": null,
            "margin": null,
            "max_height": null,
            "max_width": null,
            "min_height": null,
            "min_width": null,
            "object_fit": null,
            "object_position": null,
            "order": null,
            "overflow": null,
            "overflow_x": null,
            "overflow_y": null,
            "padding": null,
            "right": null,
            "top": null,
            "visibility": null,
            "width": null
          }
        },
        "5ef0d0e3000b433b9e5ba285d6014619": {
          "model_module": "@jupyter-widgets/controls",
          "model_name": "DescriptionStyleModel",
          "model_module_version": "1.5.0",
          "state": {
            "_model_module": "@jupyter-widgets/controls",
            "_model_module_version": "1.5.0",
            "_model_name": "DescriptionStyleModel",
            "_view_count": null,
            "_view_module": "@jupyter-widgets/base",
            "_view_module_version": "1.2.0",
            "_view_name": "StyleView",
            "description_width": ""
          }
        },
        "2fb24e558bae43268647a7e2e2d5314f": {
          "model_module": "@jupyter-widgets/base",
          "model_name": "LayoutModel",
          "model_module_version": "1.2.0",
          "state": {
            "_model_module": "@jupyter-widgets/base",
            "_model_module_version": "1.2.0",
            "_model_name": "LayoutModel",
            "_view_count": null,
            "_view_module": "@jupyter-widgets/base",
            "_view_module_version": "1.2.0",
            "_view_name": "LayoutView",
            "align_content": null,
            "align_items": null,
            "align_self": null,
            "border": null,
            "bottom": null,
            "display": null,
            "flex": null,
            "flex_flow": null,
            "grid_area": null,
            "grid_auto_columns": null,
            "grid_auto_flow": null,
            "grid_auto_rows": null,
            "grid_column": null,
            "grid_gap": null,
            "grid_row": null,
            "grid_template_areas": null,
            "grid_template_columns": null,
            "grid_template_rows": null,
            "height": null,
            "justify_content": null,
            "justify_items": null,
            "left": null,
            "margin": null,
            "max_height": null,
            "max_width": null,
            "min_height": null,
            "min_width": null,
            "object_fit": null,
            "object_position": null,
            "order": null,
            "overflow": null,
            "overflow_x": null,
            "overflow_y": null,
            "padding": null,
            "right": null,
            "top": null,
            "visibility": null,
            "width": null
          }
        },
        "427153e4465a4c76a7967b7f329d0e68": {
          "model_module": "@jupyter-widgets/controls",
          "model_name": "ProgressStyleModel",
          "model_module_version": "1.5.0",
          "state": {
            "_model_module": "@jupyter-widgets/controls",
            "_model_module_version": "1.5.0",
            "_model_name": "ProgressStyleModel",
            "_view_count": null,
            "_view_module": "@jupyter-widgets/base",
            "_view_module_version": "1.2.0",
            "_view_name": "StyleView",
            "bar_color": null,
            "description_width": ""
          }
        },
        "935746a8c5c2423ba13ea8876840d46a": {
          "model_module": "@jupyter-widgets/base",
          "model_name": "LayoutModel",
          "model_module_version": "1.2.0",
          "state": {
            "_model_module": "@jupyter-widgets/base",
            "_model_module_version": "1.2.0",
            "_model_name": "LayoutModel",
            "_view_count": null,
            "_view_module": "@jupyter-widgets/base",
            "_view_module_version": "1.2.0",
            "_view_name": "LayoutView",
            "align_content": null,
            "align_items": null,
            "align_self": null,
            "border": null,
            "bottom": null,
            "display": null,
            "flex": null,
            "flex_flow": null,
            "grid_area": null,
            "grid_auto_columns": null,
            "grid_auto_flow": null,
            "grid_auto_rows": null,
            "grid_column": null,
            "grid_gap": null,
            "grid_row": null,
            "grid_template_areas": null,
            "grid_template_columns": null,
            "grid_template_rows": null,
            "height": null,
            "justify_content": null,
            "justify_items": null,
            "left": null,
            "margin": null,
            "max_height": null,
            "max_width": null,
            "min_height": null,
            "min_width": null,
            "object_fit": null,
            "object_position": null,
            "order": null,
            "overflow": null,
            "overflow_x": null,
            "overflow_y": null,
            "padding": null,
            "right": null,
            "top": null,
            "visibility": null,
            "width": null
          }
        },
        "866f7c1ceae84e5e96cf6528abc80b77": {
          "model_module": "@jupyter-widgets/controls",
          "model_name": "DescriptionStyleModel",
          "model_module_version": "1.5.0",
          "state": {
            "_model_module": "@jupyter-widgets/controls",
            "_model_module_version": "1.5.0",
            "_model_name": "DescriptionStyleModel",
            "_view_count": null,
            "_view_module": "@jupyter-widgets/base",
            "_view_module_version": "1.2.0",
            "_view_name": "StyleView",
            "description_width": ""
          }
        },
        "c5652b384e3c4bf4a315b0f0d9a79df1": {
          "model_module": "@jupyter-widgets/controls",
          "model_name": "HBoxModel",
          "model_module_version": "1.5.0",
          "state": {
            "_dom_classes": [],
            "_model_module": "@jupyter-widgets/controls",
            "_model_module_version": "1.5.0",
            "_model_name": "HBoxModel",
            "_view_count": null,
            "_view_module": "@jupyter-widgets/controls",
            "_view_module_version": "1.5.0",
            "_view_name": "HBoxView",
            "box_style": "",
            "children": [
              "IPY_MODEL_546b63cf380a4a3087e7709b3337c505",
              "IPY_MODEL_a35f849c312b41c19a4ed3d4812985c0",
              "IPY_MODEL_19dcb2a0f6a647b8ac04724d2683dda9"
            ],
            "layout": "IPY_MODEL_b721cb74103440f4a69f392bd3010a7c"
          }
        },
        "546b63cf380a4a3087e7709b3337c505": {
          "model_module": "@jupyter-widgets/controls",
          "model_name": "HTMLModel",
          "model_module_version": "1.5.0",
          "state": {
            "_dom_classes": [],
            "_model_module": "@jupyter-widgets/controls",
            "_model_module_version": "1.5.0",
            "_model_name": "HTMLModel",
            "_view_count": null,
            "_view_module": "@jupyter-widgets/controls",
            "_view_module_version": "1.5.0",
            "_view_name": "HTMLView",
            "description": "",
            "description_tooltip": null,
            "layout": "IPY_MODEL_6e688fc8cea04f5dbfc3f24075a22002",
            "placeholder": "​",
            "style": "IPY_MODEL_82830577917743728d42e3d0f35f2158",
            "value": "100%"
          }
        },
        "a35f849c312b41c19a4ed3d4812985c0": {
          "model_module": "@jupyter-widgets/controls",
          "model_name": "FloatProgressModel",
          "model_module_version": "1.5.0",
          "state": {
            "_dom_classes": [],
            "_model_module": "@jupyter-widgets/controls",
            "_model_module_version": "1.5.0",
            "_model_name": "FloatProgressModel",
            "_view_count": null,
            "_view_module": "@jupyter-widgets/controls",
            "_view_module_version": "1.5.0",
            "_view_name": "ProgressView",
            "bar_style": "",
            "description": "",
            "description_tooltip": null,
            "layout": "IPY_MODEL_ea2839e5500d4ff49c3a52a177022241",
            "max": 7980,
            "min": 0,
            "orientation": "horizontal",
            "style": "IPY_MODEL_a0114c8443bd4204a5074d687505c23b",
            "value": 7980
          }
        },
        "19dcb2a0f6a647b8ac04724d2683dda9": {
          "model_module": "@jupyter-widgets/controls",
          "model_name": "HTMLModel",
          "model_module_version": "1.5.0",
          "state": {
            "_dom_classes": [],
            "_model_module": "@jupyter-widgets/controls",
            "_model_module_version": "1.5.0",
            "_model_name": "HTMLModel",
            "_view_count": null,
            "_view_module": "@jupyter-widgets/controls",
            "_view_module_version": "1.5.0",
            "_view_name": "HTMLView",
            "description": "",
            "description_tooltip": null,
            "layout": "IPY_MODEL_021405246feb40d485c88ceec3e77698",
            "placeholder": "​",
            "style": "IPY_MODEL_f6a67a089de14d7685dcb59aac65b54b",
            "value": " 7980/7980 [18:33&lt;00:00,  7.78it/s]"
          }
        },
        "b721cb74103440f4a69f392bd3010a7c": {
          "model_module": "@jupyter-widgets/base",
          "model_name": "LayoutModel",
          "model_module_version": "1.2.0",
          "state": {
            "_model_module": "@jupyter-widgets/base",
            "_model_module_version": "1.2.0",
            "_model_name": "LayoutModel",
            "_view_count": null,
            "_view_module": "@jupyter-widgets/base",
            "_view_module_version": "1.2.0",
            "_view_name": "LayoutView",
            "align_content": null,
            "align_items": null,
            "align_self": null,
            "border": null,
            "bottom": null,
            "display": null,
            "flex": null,
            "flex_flow": null,
            "grid_area": null,
            "grid_auto_columns": null,
            "grid_auto_flow": null,
            "grid_auto_rows": null,
            "grid_column": null,
            "grid_gap": null,
            "grid_row": null,
            "grid_template_areas": null,
            "grid_template_columns": null,
            "grid_template_rows": null,
            "height": null,
            "justify_content": null,
            "justify_items": null,
            "left": null,
            "margin": null,
            "max_height": null,
            "max_width": null,
            "min_height": null,
            "min_width": null,
            "object_fit": null,
            "object_position": null,
            "order": null,
            "overflow": null,
            "overflow_x": null,
            "overflow_y": null,
            "padding": null,
            "right": null,
            "top": null,
            "visibility": null,
            "width": null
          }
        },
        "6e688fc8cea04f5dbfc3f24075a22002": {
          "model_module": "@jupyter-widgets/base",
          "model_name": "LayoutModel",
          "model_module_version": "1.2.0",
          "state": {
            "_model_module": "@jupyter-widgets/base",
            "_model_module_version": "1.2.0",
            "_model_name": "LayoutModel",
            "_view_count": null,
            "_view_module": "@jupyter-widgets/base",
            "_view_module_version": "1.2.0",
            "_view_name": "LayoutView",
            "align_content": null,
            "align_items": null,
            "align_self": null,
            "border": null,
            "bottom": null,
            "display": null,
            "flex": null,
            "flex_flow": null,
            "grid_area": null,
            "grid_auto_columns": null,
            "grid_auto_flow": null,
            "grid_auto_rows": null,
            "grid_column": null,
            "grid_gap": null,
            "grid_row": null,
            "grid_template_areas": null,
            "grid_template_columns": null,
            "grid_template_rows": null,
            "height": null,
            "justify_content": null,
            "justify_items": null,
            "left": null,
            "margin": null,
            "max_height": null,
            "max_width": null,
            "min_height": null,
            "min_width": null,
            "object_fit": null,
            "object_position": null,
            "order": null,
            "overflow": null,
            "overflow_x": null,
            "overflow_y": null,
            "padding": null,
            "right": null,
            "top": null,
            "visibility": null,
            "width": null
          }
        },
        "82830577917743728d42e3d0f35f2158": {
          "model_module": "@jupyter-widgets/controls",
          "model_name": "DescriptionStyleModel",
          "model_module_version": "1.5.0",
          "state": {
            "_model_module": "@jupyter-widgets/controls",
            "_model_module_version": "1.5.0",
            "_model_name": "DescriptionStyleModel",
            "_view_count": null,
            "_view_module": "@jupyter-widgets/base",
            "_view_module_version": "1.2.0",
            "_view_name": "StyleView",
            "description_width": ""
          }
        },
        "ea2839e5500d4ff49c3a52a177022241": {
          "model_module": "@jupyter-widgets/base",
          "model_name": "LayoutModel",
          "model_module_version": "1.2.0",
          "state": {
            "_model_module": "@jupyter-widgets/base",
            "_model_module_version": "1.2.0",
            "_model_name": "LayoutModel",
            "_view_count": null,
            "_view_module": "@jupyter-widgets/base",
            "_view_module_version": "1.2.0",
            "_view_name": "LayoutView",
            "align_content": null,
            "align_items": null,
            "align_self": null,
            "border": null,
            "bottom": null,
            "display": null,
            "flex": null,
            "flex_flow": null,
            "grid_area": null,
            "grid_auto_columns": null,
            "grid_auto_flow": null,
            "grid_auto_rows": null,
            "grid_column": null,
            "grid_gap": null,
            "grid_row": null,
            "grid_template_areas": null,
            "grid_template_columns": null,
            "grid_template_rows": null,
            "height": null,
            "justify_content": null,
            "justify_items": null,
            "left": null,
            "margin": null,
            "max_height": null,
            "max_width": null,
            "min_height": null,
            "min_width": null,
            "object_fit": null,
            "object_position": null,
            "order": null,
            "overflow": null,
            "overflow_x": null,
            "overflow_y": null,
            "padding": null,
            "right": null,
            "top": null,
            "visibility": null,
            "width": null
          }
        },
        "a0114c8443bd4204a5074d687505c23b": {
          "model_module": "@jupyter-widgets/controls",
          "model_name": "ProgressStyleModel",
          "model_module_version": "1.5.0",
          "state": {
            "_model_module": "@jupyter-widgets/controls",
            "_model_module_version": "1.5.0",
            "_model_name": "ProgressStyleModel",
            "_view_count": null,
            "_view_module": "@jupyter-widgets/base",
            "_view_module_version": "1.2.0",
            "_view_name": "StyleView",
            "bar_color": null,
            "description_width": ""
          }
        },
        "021405246feb40d485c88ceec3e77698": {
          "model_module": "@jupyter-widgets/base",
          "model_name": "LayoutModel",
          "model_module_version": "1.2.0",
          "state": {
            "_model_module": "@jupyter-widgets/base",
            "_model_module_version": "1.2.0",
            "_model_name": "LayoutModel",
            "_view_count": null,
            "_view_module": "@jupyter-widgets/base",
            "_view_module_version": "1.2.0",
            "_view_name": "LayoutView",
            "align_content": null,
            "align_items": null,
            "align_self": null,
            "border": null,
            "bottom": null,
            "display": null,
            "flex": null,
            "flex_flow": null,
            "grid_area": null,
            "grid_auto_columns": null,
            "grid_auto_flow": null,
            "grid_auto_rows": null,
            "grid_column": null,
            "grid_gap": null,
            "grid_row": null,
            "grid_template_areas": null,
            "grid_template_columns": null,
            "grid_template_rows": null,
            "height": null,
            "justify_content": null,
            "justify_items": null,
            "left": null,
            "margin": null,
            "max_height": null,
            "max_width": null,
            "min_height": null,
            "min_width": null,
            "object_fit": null,
            "object_position": null,
            "order": null,
            "overflow": null,
            "overflow_x": null,
            "overflow_y": null,
            "padding": null,
            "right": null,
            "top": null,
            "visibility": null,
            "width": null
          }
        },
        "f6a67a089de14d7685dcb59aac65b54b": {
          "model_module": "@jupyter-widgets/controls",
          "model_name": "DescriptionStyleModel",
          "model_module_version": "1.5.0",
          "state": {
            "_model_module": "@jupyter-widgets/controls",
            "_model_module_version": "1.5.0",
            "_model_name": "DescriptionStyleModel",
            "_view_count": null,
            "_view_module": "@jupyter-widgets/base",
            "_view_module_version": "1.2.0",
            "_view_name": "StyleView",
            "description_width": ""
          }
        }
      }
    }
  },
  "nbformat": 4,
  "nbformat_minor": 5
}