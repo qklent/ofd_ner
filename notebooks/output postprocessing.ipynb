{
 "cells": [
  {
   "cell_type": "code",
   "execution_count": 1,
   "id": "fd6266b7-a91f-4dda-b00c-e5dd35ad84e7",
   "metadata": {},
   "outputs": [],
   "source": [
    "import pandas as pd"
   ]
  },
  {
   "cell_type": "code",
   "execution_count": 2,
   "id": "3b7c07a9-d6e5-4973-8e0a-3593ff918262",
   "metadata": {},
   "outputs": [
    {
     "data": {
      "text/html": [
       "<div>\n",
       "<style scoped>\n",
       "    .dataframe tbody tr th:only-of-type {\n",
       "        vertical-align: middle;\n",
       "    }\n",
       "\n",
       "    .dataframe tbody tr th {\n",
       "        vertical-align: top;\n",
       "    }\n",
       "\n",
       "    .dataframe thead th {\n",
       "        text-align: right;\n",
       "    }\n",
       "</style>\n",
       "<table border=\"1\" class=\"dataframe\">\n",
       "  <thead>\n",
       "    <tr style=\"text-align: right;\">\n",
       "      <th></th>\n",
       "      <th>Unnamed: 0</th>\n",
       "      <th>id</th>\n",
       "      <th>good</th>\n",
       "      <th>brand</th>\n",
       "    </tr>\n",
       "  </thead>\n",
       "  <tbody>\n",
       "    <tr>\n",
       "      <th>0</th>\n",
       "      <td>0</td>\n",
       "      <td>0</td>\n",
       "      <td>['Клей']</td>\n",
       "      <td>['ЕРМАК']</td>\n",
       "    </tr>\n",
       "    <tr>\n",
       "      <th>1</th>\n",
       "      <td>1</td>\n",
       "      <td>1</td>\n",
       "      <td>['Торт']</td>\n",
       "      <td>['##ДУШКА']</td>\n",
       "    </tr>\n",
       "    <tr>\n",
       "      <th>2</th>\n",
       "      <td>2</td>\n",
       "      <td>2</td>\n",
       "      <td>['Смеситель']</td>\n",
       "      <td>['CALORIE']</td>\n",
       "    </tr>\n",
       "    <tr>\n",
       "      <th>3</th>\n",
       "      <td>3</td>\n",
       "      <td>3</td>\n",
       "      <td>['Лимон']</td>\n",
       "      <td>[]</td>\n",
       "    </tr>\n",
       "    <tr>\n",
       "      <th>4</th>\n",
       "      <td>4</td>\n",
       "      <td>4</td>\n",
       "      <td>['Коньяк']</td>\n",
       "      <td>['САРАДЖИШВИЛИ']</td>\n",
       "    </tr>\n",
       "  </tbody>\n",
       "</table>\n",
       "</div>"
      ],
      "text/plain": [
       "   Unnamed: 0  id           good             brand\n",
       "0           0   0       ['Клей']         ['ЕРМАК']\n",
       "1           1   1       ['Торт']       ['##ДУШКА']\n",
       "2           2   2  ['Смеситель']       ['CALORIE']\n",
       "3           3   3      ['Лимон']                []\n",
       "4           4   4     ['Коньяк']  ['САРАДЖИШВИЛИ']"
      ]
     },
     "execution_count": 2,
     "metadata": {},
     "output_type": "execute_result"
    }
   ],
   "source": [
    "df = pd.read_csv(\"../data/subm_hugging_face_bert(1).csv\")\n",
    "df.head()"
   ]
  },
  {
   "cell_type": "code",
   "execution_count": 3,
   "id": "7ad447ad-0460-40fa-b7c4-e5872fba1110",
   "metadata": {},
   "outputs": [
    {
     "data": {
      "text/plain": [
       "0                     [,',К,л,е,й,',]\n",
       "1                     [,',Т,о,р,т,',]\n",
       "2           [,',С,м,е,с,и,т,е,л,ь,',]\n",
       "3                   [,',Л,и,м,о,н,',]\n",
       "4                 [,',К,о,н,ь,я,к,',]\n",
       "                    ...              \n",
       "4995                [,',Р,а,м,к,а,',]\n",
       "4996            [,',н,а,п,и,т,о,к,',]\n",
       "4997    [,',Н,а,к,о,н,е,ч,н,и,к,и,',]\n",
       "4998            [,',Ш,о,к,о,л,а,д,',]\n",
       "4999                [,',О,п,о,р,а,',]\n",
       "Name: good, Length: 5000, dtype: object"
      ]
     },
     "execution_count": 3,
     "metadata": {},
     "output_type": "execute_result"
    }
   ],
   "source": [
    "goods = df.good.apply(lambda x: ','.join(x))\n",
    "goods"
   ]
  },
  {
   "cell_type": "code",
   "execution_count": 9,
   "id": "7aa06f96-c8d7-4f01-9262-b266293426b2",
   "metadata": {},
   "outputs": [],
   "source": [
    "goods = df['good'].apply(eval)"
   ]
  },
  {
   "cell_type": "code",
   "execution_count": 12,
   "id": "38b0bec5-48de-45ec-ba4f-2f9f45bbcc4f",
   "metadata": {},
   "outputs": [
    {
     "data": {
      "text/plain": [
       "0              Клей\n",
       "1              Торт\n",
       "2         Смеситель\n",
       "3             Лимон\n",
       "4            Коньяк\n",
       "           ...     \n",
       "4995          Рамка\n",
       "4996        напиток\n",
       "4997    Наконечники\n",
       "4998        Шоколад\n",
       "4999          Опора\n",
       "Name: good, Length: 5000, dtype: object"
      ]
     },
     "execution_count": 12,
     "metadata": {},
     "output_type": "execute_result"
    }
   ],
   "source": [
    "goods = goods.apply(lambda x: \",\".join(x))\n",
    "goods"
   ]
  },
  {
   "cell_type": "code",
   "execution_count": 14,
   "id": "d90c9f50-b043-48af-86d5-30c9c24f0caf",
   "metadata": {},
   "outputs": [
    {
     "data": {
      "text/plain": [
       "0           ЕРМАК\n",
       "1         ##ДУШКА\n",
       "2         CALORIE\n",
       "3                \n",
       "4    САРАДЖИШВИЛИ\n",
       "5     Born Pretty\n",
       "6    Chicken Beer\n",
       "7            Tebo\n",
       "8        Грандорф\n",
       "9          Одеяло\n",
       "Name: brand, dtype: object"
      ]
     },
     "execution_count": 14,
     "metadata": {},
     "output_type": "execute_result"
    }
   ],
   "source": [
    "brands = df['brand'].apply(eval).apply(lambda x: \",\".join(x))\n",
    "brands[:10]"
   ]
  },
  {
   "cell_type": "code",
   "execution_count": 16,
   "id": "0d6ac1bf-db0d-465c-a4c4-8916da61239d",
   "metadata": {},
   "outputs": [
    {
     "data": {
      "text/html": [
       "<div>\n",
       "<style scoped>\n",
       "    .dataframe tbody tr th:only-of-type {\n",
       "        vertical-align: middle;\n",
       "    }\n",
       "\n",
       "    .dataframe tbody tr th {\n",
       "        vertical-align: top;\n",
       "    }\n",
       "\n",
       "    .dataframe thead th {\n",
       "        text-align: right;\n",
       "    }\n",
       "</style>\n",
       "<table border=\"1\" class=\"dataframe\">\n",
       "  <thead>\n",
       "    <tr style=\"text-align: right;\">\n",
       "      <th></th>\n",
       "      <th>id</th>\n",
       "      <th>good</th>\n",
       "      <th>brand</th>\n",
       "    </tr>\n",
       "  </thead>\n",
       "  <tbody>\n",
       "    <tr>\n",
       "      <th>0</th>\n",
       "      <td>0</td>\n",
       "      <td>Клей</td>\n",
       "      <td>ЕРМАК</td>\n",
       "    </tr>\n",
       "    <tr>\n",
       "      <th>1</th>\n",
       "      <td>1</td>\n",
       "      <td>Торт</td>\n",
       "      <td>##ДУШКА</td>\n",
       "    </tr>\n",
       "    <tr>\n",
       "      <th>2</th>\n",
       "      <td>2</td>\n",
       "      <td>Смеситель</td>\n",
       "      <td>CALORIE</td>\n",
       "    </tr>\n",
       "    <tr>\n",
       "      <th>3</th>\n",
       "      <td>3</td>\n",
       "      <td>Лимон</td>\n",
       "      <td></td>\n",
       "    </tr>\n",
       "    <tr>\n",
       "      <th>4</th>\n",
       "      <td>4</td>\n",
       "      <td>Коньяк</td>\n",
       "      <td>САРАДЖИШВИЛИ</td>\n",
       "    </tr>\n",
       "  </tbody>\n",
       "</table>\n",
       "</div>"
      ],
      "text/plain": [
       "   id       good         brand\n",
       "0   0       Клей         ЕРМАК\n",
       "1   1       Торт       ##ДУШКА\n",
       "2   2  Смеситель       CALORIE\n",
       "3   3      Лимон              \n",
       "4   4     Коньяк  САРАДЖИШВИЛИ"
      ]
     },
     "execution_count": 16,
     "metadata": {},
     "output_type": "execute_result"
    }
   ],
   "source": [
    "df = pd.DataFrame(\n",
    "    {\n",
    "        \"id\": [i for i in range(len(brands))],\n",
    "        \"good\": goods,\n",
    "        \"brand\": brands\n",
    "    }\n",
    ")\n",
    "df.head()"
   ]
  },
  {
   "cell_type": "code",
   "execution_count": 17,
   "id": "637c14a2-58f8-4699-9136-25e7c74ef46a",
   "metadata": {},
   "outputs": [],
   "source": [
    "df.to_csv(\"bert.csv\")"
   ]
  },
  {
   "cell_type": "code",
   "execution_count": 18,
   "id": "bcd4e978-6ae6-45e6-94f7-9d9917b52b2f",
   "metadata": {
    "scrolled": true
   },
   "outputs": [
    {
     "data": {
      "text/plain": [
       "0      469-210 ЕРМАК Клей универсальный, 15мл, блистер\n",
       "1                      Торт СЛАДУШКА Зимняя вишня 700г\n",
       "2                 Смеситель \"CALORIE\" 1023 А06 д/кухни\n",
       "3                                       Лимон 50гр БАР\n",
       "4                Коньяк САРАДЖИШВИЛИ 5 лет 0,5л Грузия\n",
       "5    Born Pretty, Пластина для стемпинга BP-L011 Te...\n",
       "6                    Рис Chicken Beer с гуляшом 250 гр\n",
       "7      Труба Tebo п/п D-32 PN20 4м стекловолокно хлыст\n",
       "8    Грандорф Консервы для собак Куропатка с Индейк...\n",
       "9                      1) 000893|Одеяло \"Автотепло\" №8\n",
       "Name: name, dtype: object"
      ]
     },
     "execution_count": 18,
     "metadata": {},
     "output_type": "execute_result"
    }
   ],
   "source": [
    "names = pd.read_csv(\"../data/test_dataset.csv\").name\n",
    "names[:10]"
   ]
  },
  {
   "cell_type": "code",
   "execution_count": null,
   "id": "8623535a-d81f-44d4-9510-73332231ac86",
   "metadata": {},
   "outputs": [],
   "source": [
    "def find_word_index(word, sentence):\n",
    "    pattern = re.compile(r'\\b{}\\b'.format(re.escape(word)))\n",
    "    matches = re.finditer(pattern, sentence)\n",
    "    return match.start()\n"
   ]
  },
  {
   "cell_type": "code",
   "execution_count": null,
   "id": "e55f01f9-4a9c-4b3c-ad8a-c9017440b828",
   "metadata": {},
   "outputs": [],
   "source": [
    "new_brands, new_goods = [], []\n",
    "for name, good, brand in zip(names, goods, brands):\n",
    "    for g in good:\n",
    "        if g[0] == \"#\":\n",
    "            find_wor"
   ]
  }
 ],
 "metadata": {
  "kernelspec": {
   "display_name": ".venv",
   "language": "python",
   "name": ".venv"
  },
  "language_info": {
   "codemirror_mode": {
    "name": "ipython",
    "version": 3
   },
   "file_extension": ".py",
   "mimetype": "text/x-python",
   "name": "python",
   "nbconvert_exporter": "python",
   "pygments_lexer": "ipython3",
   "version": "3.11.3"
  }
 },
 "nbformat": 4,
 "nbformat_minor": 5
}
