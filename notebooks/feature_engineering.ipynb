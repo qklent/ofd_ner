{
 "cells": [
  {
   "cell_type": "code",
   "execution_count": 12,
   "id": "c67a4bfe",
   "metadata": {
    "ExecuteTime": {
     "end_time": "2023-06-09T15:51:56.275359Z",
     "start_time": "2023-06-09T15:51:56.256613Z"
    }
   },
   "outputs": [
    {
     "name": "stderr",
     "output_type": "stream",
     "text": [
      "[nltk_data] Downloading package punkt to\n",
      "[nltk_data]     C:\\Users\\фвьшт\\AppData\\Roaming\\nltk_data...\n",
      "[nltk_data]   Package punkt is already up-to-date!\n"
     ]
    },
    {
     "data": {
      "text/plain": [
       "True"
      ]
     },
     "execution_count": 12,
     "metadata": {},
     "output_type": "execute_result"
    }
   ],
   "source": [
    "import pandas as pd\n",
    "import numpy as np\n",
    "import matplotlib.pyplot as plt\n",
    "import seaborn as sns\n",
    "import torch\n",
    "from torch import nn\n",
    "import nltk\n",
    "from nltk.tokenize import word_tokenize\n",
    "import string\n",
    "import re\n",
    "nltk.download('punkt')"
   ]
  },
  {
   "cell_type": "markdown",
   "id": "986d3760",
   "metadata": {},
   "source": [
    "из названия товара выделить бренд и тип"
   ]
  },
  {
   "cell_type": "code",
   "execution_count": 2,
   "id": "e7b98ed4",
   "metadata": {
    "ExecuteTime": {
     "end_time": "2023-06-09T15:49:40.583414Z",
     "start_time": "2023-06-09T15:49:40.496577Z"
    }
   },
   "outputs": [
    {
     "data": {
      "text/html": [
       "<div>\n",
       "<style scoped>\n",
       "    .dataframe tbody tr th:only-of-type {\n",
       "        vertical-align: middle;\n",
       "    }\n",
       "\n",
       "    .dataframe tbody tr th {\n",
       "        vertical-align: top;\n",
       "    }\n",
       "\n",
       "    .dataframe thead th {\n",
       "        text-align: right;\n",
       "    }\n",
       "</style>\n",
       "<table border=\"1\" class=\"dataframe\">\n",
       "  <thead>\n",
       "    <tr style=\"text-align: right;\">\n",
       "      <th></th>\n",
       "      <th>name</th>\n",
       "      <th>good</th>\n",
       "      <th>brand</th>\n",
       "    </tr>\n",
       "    <tr>\n",
       "      <th>id</th>\n",
       "      <th></th>\n",
       "      <th></th>\n",
       "      <th></th>\n",
       "    </tr>\n",
       "  </thead>\n",
       "  <tbody>\n",
       "    <tr>\n",
       "      <th>0</th>\n",
       "      <td>Petmax Бантик леопард с красн розой 2шт</td>\n",
       "      <td>бантик</td>\n",
       "      <td>petmax</td>\n",
       "    </tr>\n",
       "    <tr>\n",
       "      <th>1</th>\n",
       "      <td>87191 Бусы для елки шарики_87191</td>\n",
       "      <td>бусы</td>\n",
       "      <td>NaN</td>\n",
       "    </tr>\n",
       "    <tr>\n",
       "      <th>2</th>\n",
       "      <td>Футболка Piazza Italia WR011446881</td>\n",
       "      <td>футболка</td>\n",
       "      <td>piazza italia</td>\n",
       "    </tr>\n",
       "    <tr>\n",
       "      <th>3</th>\n",
       "      <td>7) YI572-03X-ONE ЗАКОЛКА ДЛЯ ВОЛОС ДЛЯ ДЕВОЧКИ</td>\n",
       "      <td>заколка</td>\n",
       "      <td>NaN</td>\n",
       "    </tr>\n",
       "    <tr>\n",
       "      <th>4</th>\n",
       "      <td>Одежда (вес) 1500</td>\n",
       "      <td>одежда</td>\n",
       "      <td>NaN</td>\n",
       "    </tr>\n",
       "  </tbody>\n",
       "</table>\n",
       "</div>"
      ],
      "text/plain": [
       "                                              name      good          brand\n",
       "id                                                                         \n",
       "0          Petmax Бантик леопард с красн розой 2шт    бантик         petmax\n",
       "1                 87191 Бусы для елки шарики_87191      бусы            NaN\n",
       "2               Футболка Piazza Italia WR011446881  футболка  piazza italia\n",
       "3   7) YI572-03X-ONE ЗАКОЛКА ДЛЯ ВОЛОС ДЛЯ ДЕВОЧКИ   заколка            NaN\n",
       "4                                Одежда (вес) 1500    одежда            NaN"
      ]
     },
     "execution_count": 2,
     "metadata": {},
     "output_type": "execute_result"
    }
   ],
   "source": [
    "df = pd.read_csv(\"train_supervised_dataset.csv\")\n",
    "df.set_index(\"id\", inplace=True)\n",
    "df.head()"
   ]
  },
  {
   "cell_type": "code",
   "execution_count": 3,
   "id": "773fdec7",
   "metadata": {
    "ExecuteTime": {
     "end_time": "2023-06-09T15:49:40.695448Z",
     "start_time": "2023-06-09T15:49:40.678616Z"
    }
   },
   "outputs": [
    {
     "data": {
      "text/plain": [
       "2820"
      ]
     },
     "execution_count": 3,
     "metadata": {},
     "output_type": "execute_result"
    }
   ],
   "source": [
    "len(df.good.unique())"
   ]
  },
  {
   "cell_type": "code",
   "execution_count": 4,
   "id": "1de4ebe7",
   "metadata": {
    "ExecuteTime": {
     "end_time": "2023-06-09T15:49:43.824222Z",
     "start_time": "2023-06-09T15:49:40.855343Z"
    }
   },
   "outputs": [],
   "source": [
    "names = df[\"name\"].apply(word_tokenize)"
   ]
  },
  {
   "cell_type": "code",
   "execution_count": 5,
   "id": "edc8b025",
   "metadata": {
    "ExecuteTime": {
     "end_time": "2023-06-09T15:49:43.850367Z",
     "start_time": "2023-06-09T15:49:43.826799Z"
    }
   },
   "outputs": [
    {
     "data": {
      "text/plain": [
       "20779"
      ]
     },
     "execution_count": 5,
     "metadata": {},
     "output_type": "execute_result"
    }
   ],
   "source": [
    "names.apply(len).argmax()"
   ]
  },
  {
   "cell_type": "code",
   "execution_count": 6,
   "id": "bd0ad2cd",
   "metadata": {
    "ExecuteTime": {
     "end_time": "2023-06-09T15:49:43.916284Z",
     "start_time": "2023-06-09T15:49:43.853365Z"
    }
   },
   "outputs": [
    {
     "data": {
      "text/plain": [
       "['136081',\n",
       " '005',\n",
       " 'бежевый',\n",
       " '|',\n",
       " 'мот',\n",
       " '|',\n",
       " 'Пряжа',\n",
       " 'Камтекс',\n",
       " '``',\n",
       " 'Лотос',\n",
       " 'травка',\n",
       " 'стрейч',\n",
       " \"''\",\n",
       " '50гр',\n",
       " '.',\n",
       " '80м',\n",
       " '.',\n",
       " '(',\n",
       " '70',\n",
       " '%',\n",
       " 'акрил',\n",
       " ',',\n",
       " '28',\n",
       " 'п/а',\n",
       " ',',\n",
       " '2',\n",
       " '%',\n",
       " 'лайкра',\n",
       " ')',\n",
       " '?',\n",
       " '00004',\n",
       " '?',\n",
       " '00000014021']"
      ]
     },
     "execution_count": 6,
     "metadata": {},
     "output_type": "execute_result"
    }
   ],
   "source": [
    "names[names.apply(len).argmax()]"
   ]
  },
  {
   "cell_type": "markdown",
   "id": "7136a655",
   "metadata": {},
   "source": [
    "delete all digits and punctuations"
   ]
  },
  {
   "cell_type": "code",
   "execution_count": 25,
   "id": "ae7c04c6",
   "metadata": {
    "ExecuteTime": {
     "end_time": "2023-06-09T16:03:28.201154Z",
     "start_time": "2023-06-09T16:03:28.185129Z"
    }
   },
   "outputs": [
    {
     "data": {
      "text/plain": [
       "'!\"#$%&\\'()*+,-./:;<=>?@[\\\\]^_`{|}~'"
      ]
     },
     "execution_count": 25,
     "metadata": {},
     "output_type": "execute_result"
    }
   ],
   "source": [
    "punctuations = string.punctuation\n",
    "punctuations"
   ]
  },
  {
   "cell_type": "code",
   "execution_count": 53,
   "id": "05e4a88f",
   "metadata": {
    "ExecuteTime": {
     "end_time": "2023-06-09T16:22:04.751736Z",
     "start_time": "2023-06-09T16:22:04.729026Z"
    }
   },
   "outputs": [],
   "source": [
    "def eng_to_ru(word: str) -> str:\n",
    "    if len(word) <= 1:\n",
    "        return word\n",
    "    a = ord('а')\n",
    "    ru_alphabet = ''.join([chr(i) for i in range(a,a+33)])\n",
    "    eng_alphabet = string.ascii_lowercase[:26]\n",
    "    change = {\n",
    "        \"a\": \"а\",\n",
    "        \"e\": \"е\",\n",
    "        \"o\": \"о\",\n",
    "        \"k\": \"к\",\n",
    "        \"3\": \"з\",\n",
    "        \"p\": \"р\",\n",
    "        \"c\": \"с\",\n",
    "        \"m\": \"м\",\n",
    "        \"x\": \"х\",\n",
    "        \"t\": \"т\",\n",
    "        \"y\": \"у\",\n",
    "        \"z\": \"з\",\n",
    "    }\n",
    "\n",
    "    new_word = \"\"\n",
    "    for i in range(len(word)):\n",
    "        curr = word[i]\n",
    "        if curr in eng_alphabet:\n",
    "            if i - 1 < 0:\n",
    "                prev_letter = \"j\"\n",
    "            else:\n",
    "                prev_letter = word[i - 1]\n",
    "                \n",
    "            if i + 1 >= len(word):\n",
    "                next_letter = \"j\"\n",
    "            else:    \n",
    "                next_letter = word[i + 1]\n",
    "            \n",
    "            if next_letter in ru_alphabet or prev_letter in ru_alphabet:\n",
    "                curr = change.get(curr, curr)\n",
    "        new_word += curr\n",
    "        \n",
    "    return new_word\n",
    "           \n",
    "    \n",
    "def only_ones(word: str) -> str:\n",
    "    if word.isdigit() or re.match(r'^-?\\d+(?:\\.\\d+)$', word):\n",
    "        return \"1\"\n",
    "    else:\n",
    "        new_word = \"\"\n",
    "        for i in range(len(word)):\n",
    "            if word[i].isdigit():\n",
    "                new_word += \"1\"\n",
    "            else:\n",
    "                new_word += word[i]\n",
    "    return new_word\n",
    "\n",
    "\n",
    "def only_words(lst: list) -> list:\n",
    "    i = 0\n",
    "    while i < len(lst):\n",
    "        if pd.isna(lst[i]):\n",
    "            lst[i] = \"qklent\"\n",
    "        else:\n",
    "            lst[i] = only_ones(lst[i])\n",
    "            lst[i] = lst[i].lower()\n",
    "            lst[i] = eng_to_ru(lst[i])\n",
    "            \n",
    "        x = lst[i]\n",
    "        if len(x) < 2 or x.isdigit() or all(p in punctuations for p in x) or re.match(r'^-?\\d+(?:\\.\\d+)$', x) is not None: #regex checks if x is decimal\n",
    "            lst.pop(i)\n",
    "        else:\n",
    "            i += 1\n",
    "    return lst\n",
    "            "
   ]
  },
  {
   "cell_type": "code",
   "execution_count": 54,
   "id": "3e79a8d9",
   "metadata": {
    "ExecuteTime": {
     "end_time": "2023-06-09T16:22:07.080349Z",
     "start_time": "2023-06-09T16:22:05.482872Z"
    }
   },
   "outputs": [
    {
     "data": {
      "text/plain": [
       "['шприц',\n",
       " '1мл',\n",
       " '1-х',\n",
       " 'комп',\n",
       " 'sfm',\n",
       " 'б/латекса',\n",
       " 'стер',\n",
       " 'игл',\n",
       " 'g11',\n",
       " '1,11x11мм',\n",
       " 'n11',\n",
       " 'уп',\n",
       " 'инд',\n",
       " 'sfm',\n",
       " 'hospital',\n",
       " 'products',\n",
       " 'gmbh',\n",
       " 'германия']"
      ]
     },
     "execution_count": 54,
     "metadata": {},
     "output_type": "execute_result"
    }
   ],
   "source": [
    "names = names.apply(only_words)\n",
    "max_len = names.apply(len).max()\n",
    "names[names.apply(len).argmax()]"
   ]
  },
  {
   "cell_type": "code",
   "execution_count": 56,
   "id": "4e6dd8c3",
   "metadata": {
    "ExecuteTime": {
     "end_time": "2023-06-09T16:23:09.024590Z",
     "start_time": "2023-06-09T16:23:09.009739Z"
    }
   },
   "outputs": [
    {
     "data": {
      "text/plain": [
       "id\n",
       "0               petmax\n",
       "1               qklent\n",
       "2        piazza italia\n",
       "3               qklent\n",
       "4               qklent\n",
       "             ...      \n",
       "24995           sairme\n",
       "24996        моя семья\n",
       "24997           яшкино\n",
       "24998            фаско\n",
       "24999      крутой окер\n",
       "Name: brand, Length: 25000, dtype: object"
      ]
     },
     "execution_count": 56,
     "metadata": {},
     "output_type": "execute_result"
    }
   ],
   "source": [
    "brands = df.brand.fillna(\"qklent\")\n",
    "brands"
   ]
  },
  {
   "cell_type": "code",
   "execution_count": 57,
   "id": "cd5b0c33",
   "metadata": {
    "ExecuteTime": {
     "end_time": "2023-06-09T16:23:13.966898Z",
     "start_time": "2023-06-09T16:23:13.947192Z"
    }
   },
   "outputs": [
    {
     "data": {
      "text/plain": [
       "8505"
      ]
     },
     "execution_count": 57,
     "metadata": {},
     "output_type": "execute_result"
    }
   ],
   "source": [
    "count = 0\n",
    "for x in brands:\n",
    "    if x == \"qklent\":\n",
    "        count += 1\n",
    "count #amount of nan brands"
   ]
  },
  {
   "cell_type": "code",
   "execution_count": 58,
   "id": "6b416372",
   "metadata": {
    "ExecuteTime": {
     "end_time": "2023-06-09T16:23:25.932149Z",
     "start_time": "2023-06-09T16:23:24.103619Z"
    },
    "scrolled": true
   },
   "outputs": [
    {
     "data": {
      "text/plain": [
       "id\n",
       "0                [petmax]\n",
       "1                [qklent]\n",
       "2        [piazza, italia]\n",
       "3                [qklent]\n",
       "4                [qklent]\n",
       "               ...       \n",
       "24995            [sairme]\n",
       "24996        [моя, семья]\n",
       "24997            [яшкино]\n",
       "24998             [фаско]\n",
       "24999      [крутой, окер]\n",
       "Name: brand, Length: 25000, dtype: object"
      ]
     },
     "execution_count": 58,
     "metadata": {},
     "output_type": "execute_result"
    }
   ],
   "source": [
    "brands = brands.apply(word_tokenize)\n",
    "brands"
   ]
  },
  {
   "cell_type": "code",
   "execution_count": 59,
   "id": "157e027a",
   "metadata": {
    "ExecuteTime": {
     "end_time": "2023-06-09T16:23:25.947928Z",
     "start_time": "2023-06-09T16:23:25.935223Z"
    }
   },
   "outputs": [
    {
     "data": {
      "text/plain": [
       "819"
      ]
     },
     "execution_count": 59,
     "metadata": {},
     "output_type": "execute_result"
    }
   ],
   "source": [
    "df.good.isna().sum()"
   ]
  },
  {
   "cell_type": "code",
   "execution_count": 68,
   "id": "637c48ce",
   "metadata": {
    "ExecuteTime": {
     "end_time": "2023-06-09T16:26:46.295169Z",
     "start_time": "2023-06-09T16:26:44.413504Z"
    }
   },
   "outputs": [
    {
     "data": {
      "text/plain": [
       "id\n",
       "12       товара нет\n",
       "1322     товара нет\n",
       "1353     товара нет\n",
       "1431     товара нет\n",
       "1939     товара нет\n",
       "            ...    \n",
       "24266    товара нет\n",
       "24440    товара нет\n",
       "24740    товара нет\n",
       "24943    товара нет\n",
       "24990    товара нет\n",
       "Name: good, Length: 88, dtype: object"
      ]
     },
     "metadata": {},
     "output_type": "display_data"
    }
   ],
   "source": [
    "goods = df.good.fillna(\"qklent\")\n",
    "display(goods[goods == \"товара нет\"])\n",
    "goods[goods == \"товара нет\"] = \"qklent\";\n",
    "goods = goods.apply(word_tokenize)"
   ]
  },
  {
   "cell_type": "code",
   "execution_count": 70,
   "id": "74b9d1dd",
   "metadata": {
    "ExecuteTime": {
     "end_time": "2023-06-09T16:27:27.140892Z",
     "start_time": "2023-06-09T16:27:27.129529Z"
    }
   },
   "outputs": [
    {
     "data": {
      "text/plain": [
       "['qklent']"
      ]
     },
     "execution_count": 70,
     "metadata": {},
     "output_type": "execute_result"
    }
   ],
   "source": [
    "goods[24990]"
   ]
  },
  {
   "cell_type": "code",
   "execution_count": 71,
   "id": "49b2417d",
   "metadata": {
    "ExecuteTime": {
     "end_time": "2023-06-09T16:27:59.342871Z",
     "start_time": "2023-06-09T16:27:59.310976Z"
    }
   },
   "outputs": [
    {
     "data": {
      "text/html": [
       "<div>\n",
       "<style scoped>\n",
       "    .dataframe tbody tr th:only-of-type {\n",
       "        vertical-align: middle;\n",
       "    }\n",
       "\n",
       "    .dataframe tbody tr th {\n",
       "        vertical-align: top;\n",
       "    }\n",
       "\n",
       "    .dataframe thead th {\n",
       "        text-align: right;\n",
       "    }\n",
       "</style>\n",
       "<table border=\"1\" class=\"dataframe\">\n",
       "  <thead>\n",
       "    <tr style=\"text-align: right;\">\n",
       "      <th></th>\n",
       "      <th>name</th>\n",
       "      <th>good</th>\n",
       "      <th>brand</th>\n",
       "    </tr>\n",
       "    <tr>\n",
       "      <th>id</th>\n",
       "      <th></th>\n",
       "      <th></th>\n",
       "      <th></th>\n",
       "    </tr>\n",
       "  </thead>\n",
       "  <tbody>\n",
       "    <tr>\n",
       "      <th>0</th>\n",
       "      <td>[petmax, бантик, леопард, красн, розой, 1шт]</td>\n",
       "      <td>[бантик]</td>\n",
       "      <td>[petmax]</td>\n",
       "    </tr>\n",
       "    <tr>\n",
       "      <th>1</th>\n",
       "      <td>[бусы, для, елки, шарики_11111]</td>\n",
       "      <td>[бусы]</td>\n",
       "      <td>[qklent]</td>\n",
       "    </tr>\n",
       "    <tr>\n",
       "      <th>2</th>\n",
       "      <td>[футболка, piazza, italia, wr111111111]</td>\n",
       "      <td>[футболка]</td>\n",
       "      <td>[piazza, italia]</td>\n",
       "    </tr>\n",
       "    <tr>\n",
       "      <th>3</th>\n",
       "      <td>[yi111-11x-one, заколка, для, волос, для, дево...</td>\n",
       "      <td>[заколка]</td>\n",
       "      <td>[qklent]</td>\n",
       "    </tr>\n",
       "    <tr>\n",
       "      <th>4</th>\n",
       "      <td>[одежда, вес]</td>\n",
       "      <td>[одежда]</td>\n",
       "      <td>[qklent]</td>\n",
       "    </tr>\n",
       "  </tbody>\n",
       "</table>\n",
       "</div>"
      ],
      "text/plain": [
       "                                                 name        good  \\\n",
       "id                                                                  \n",
       "0        [petmax, бантик, леопард, красн, розой, 1шт]    [бантик]   \n",
       "1                     [бусы, для, елки, шарики_11111]      [бусы]   \n",
       "2             [футболка, piazza, italia, wr111111111]  [футболка]   \n",
       "3   [yi111-11x-one, заколка, для, волос, для, дево...   [заколка]   \n",
       "4                                       [одежда, вес]    [одежда]   \n",
       "\n",
       "               brand  \n",
       "id                    \n",
       "0           [petmax]  \n",
       "1           [qklent]  \n",
       "2   [piazza, italia]  \n",
       "3           [qklent]  \n",
       "4           [qklent]  "
      ]
     },
     "execution_count": 71,
     "metadata": {},
     "output_type": "execute_result"
    }
   ],
   "source": [
    "df_new = pd.DataFrame(\n",
    "    {\n",
    "        \"name\": names,\n",
    "        \"good\": goods,\n",
    "        \"brand\": brands,\n",
    "    }\n",
    ")\n",
    "df_new.head()"
   ]
  },
  {
   "cell_type": "code",
   "execution_count": 72,
   "id": "8d478a1e",
   "metadata": {
    "ExecuteTime": {
     "end_time": "2023-06-09T16:28:04.756334Z",
     "start_time": "2023-06-09T16:28:04.565637Z"
    }
   },
   "outputs": [],
   "source": [
    "df_new.to_csv('tokenized_train.csv', index=False)"
   ]
  },
  {
   "cell_type": "code",
   "execution_count": 73,
   "id": "871a4180",
   "metadata": {
    "ExecuteTime": {
     "end_time": "2023-06-09T16:28:33.676675Z",
     "start_time": "2023-06-09T16:28:33.651423Z"
    }
   },
   "outputs": [
    {
     "data": {
      "text/html": [
       "<div>\n",
       "<style scoped>\n",
       "    .dataframe tbody tr th:only-of-type {\n",
       "        vertical-align: middle;\n",
       "    }\n",
       "\n",
       "    .dataframe tbody tr th {\n",
       "        vertical-align: top;\n",
       "    }\n",
       "\n",
       "    .dataframe thead th {\n",
       "        text-align: right;\n",
       "    }\n",
       "</style>\n",
       "<table border=\"1\" class=\"dataframe\">\n",
       "  <thead>\n",
       "    <tr style=\"text-align: right;\">\n",
       "      <th></th>\n",
       "      <th>name</th>\n",
       "      <th>good</th>\n",
       "      <th>brand</th>\n",
       "    </tr>\n",
       "    <tr>\n",
       "      <th>id</th>\n",
       "      <th></th>\n",
       "      <th></th>\n",
       "      <th></th>\n",
       "    </tr>\n",
       "  </thead>\n",
       "  <tbody>\n",
       "    <tr>\n",
       "      <th>0</th>\n",
       "      <td>[petmax, бантик, леопард, красн, розой, 1шт]</td>\n",
       "      <td>[бантик]</td>\n",
       "      <td>[petmax]</td>\n",
       "    </tr>\n",
       "    <tr>\n",
       "      <th>1</th>\n",
       "      <td>[бусы, для, елки, шарики_11111]</td>\n",
       "      <td>[бусы]</td>\n",
       "      <td>[qklent]</td>\n",
       "    </tr>\n",
       "    <tr>\n",
       "      <th>2</th>\n",
       "      <td>[футболка, piazza, italia, wr111111111]</td>\n",
       "      <td>[футболка]</td>\n",
       "      <td>[piazza, italia]</td>\n",
       "    </tr>\n",
       "    <tr>\n",
       "      <th>3</th>\n",
       "      <td>[yi111-11x-one, заколка, для, волос, для, дево...</td>\n",
       "      <td>[заколка]</td>\n",
       "      <td>[qklent]</td>\n",
       "    </tr>\n",
       "    <tr>\n",
       "      <th>4</th>\n",
       "      <td>[одежда, вес]</td>\n",
       "      <td>[одежда]</td>\n",
       "      <td>[qklent]</td>\n",
       "    </tr>\n",
       "    <tr>\n",
       "      <th>5</th>\n",
       "      <td>[русалочка, губка, трио, трехслой.1, шт, люкс]</td>\n",
       "      <td>[губка]</td>\n",
       "      <td>[русалочка]</td>\n",
       "    </tr>\n",
       "    <tr>\n",
       "      <th>6</th>\n",
       "      <td>[11-111, обои/art/п.п, белые, на, флизе, 1,11,...</td>\n",
       "      <td>[обои]</td>\n",
       "      <td>[qklent]</td>\n",
       "    </tr>\n",
       "    <tr>\n",
       "      <th>7</th>\n",
       "      <td>[квас, очаковский, пряная, зима, 1л]</td>\n",
       "      <td>[квас]</td>\n",
       "      <td>[очаковский]</td>\n",
       "    </tr>\n",
       "    <tr>\n",
       "      <th>8</th>\n",
       "      <td>[нб, маска+п/cosy/м-ив]</td>\n",
       "      <td>[маска]</td>\n",
       "      <td>[cosy]</td>\n",
       "    </tr>\n",
       "    <tr>\n",
       "      <th>9</th>\n",
       "      <td>[наконечник, вилочный, изолированный, нви, 1-1...</td>\n",
       "      <td>[наконечник]</td>\n",
       "      <td>[ekf]</td>\n",
       "    </tr>\n",
       "  </tbody>\n",
       "</table>\n",
       "</div>"
      ],
      "text/plain": [
       "                                                 name          good  \\\n",
       "id                                                                    \n",
       "0        [petmax, бантик, леопард, красн, розой, 1шт]      [бантик]   \n",
       "1                     [бусы, для, елки, шарики_11111]        [бусы]   \n",
       "2             [футболка, piazza, italia, wr111111111]    [футболка]   \n",
       "3   [yi111-11x-one, заколка, для, волос, для, дево...     [заколка]   \n",
       "4                                       [одежда, вес]      [одежда]   \n",
       "5      [русалочка, губка, трио, трехслой.1, шт, люкс]       [губка]   \n",
       "6   [11-111, обои/art/п.п, белые, на, флизе, 1,11,...        [обои]   \n",
       "7                [квас, очаковский, пряная, зима, 1л]        [квас]   \n",
       "8                             [нб, маска+п/cosy/м-ив]       [маска]   \n",
       "9   [наконечник, вилочный, изолированный, нви, 1-1...  [наконечник]   \n",
       "\n",
       "               brand  \n",
       "id                    \n",
       "0           [petmax]  \n",
       "1           [qklent]  \n",
       "2   [piazza, italia]  \n",
       "3           [qklent]  \n",
       "4           [qklent]  \n",
       "5        [русалочка]  \n",
       "6           [qklent]  \n",
       "7       [очаковский]  \n",
       "8             [cosy]  \n",
       "9              [ekf]  "
      ]
     },
     "execution_count": 73,
     "metadata": {},
     "output_type": "execute_result"
    }
   ],
   "source": [
    "df_new[:10]"
   ]
  },
  {
   "cell_type": "code",
   "execution_count": 73,
   "id": "ee248a67",
   "metadata": {
    "ExecuteTime": {
     "end_time": "2023-06-09T16:28:33.676675Z",
     "start_time": "2023-06-09T16:28:33.651423Z"
    }
   },
   "outputs": [
    {
     "data": {
      "text/html": [
       "<div>\n",
       "<style scoped>\n",
       "    .dataframe tbody tr th:only-of-type {\n",
       "        vertical-align: middle;\n",
       "    }\n",
       "\n",
       "    .dataframe tbody tr th {\n",
       "        vertical-align: top;\n",
       "    }\n",
       "\n",
       "    .dataframe thead th {\n",
       "        text-align: right;\n",
       "    }\n",
       "</style>\n",
       "<table border=\"1\" class=\"dataframe\">\n",
       "  <thead>\n",
       "    <tr style=\"text-align: right;\">\n",
       "      <th></th>\n",
       "      <th>name</th>\n",
       "      <th>good</th>\n",
       "      <th>brand</th>\n",
       "    </tr>\n",
       "    <tr>\n",
       "      <th>id</th>\n",
       "      <th></th>\n",
       "      <th></th>\n",
       "      <th></th>\n",
       "    </tr>\n",
       "  </thead>\n",
       "  <tbody>\n",
       "    <tr>\n",
       "      <th>0</th>\n",
       "      <td>[petmax, бантик, леопард, красн, розой, 1шт]</td>\n",
       "      <td>[бантик]</td>\n",
       "      <td>[petmax]</td>\n",
       "    </tr>\n",
       "    <tr>\n",
       "      <th>1</th>\n",
       "      <td>[бусы, для, елки, шарики_11111]</td>\n",
       "      <td>[бусы]</td>\n",
       "      <td>[qklent]</td>\n",
       "    </tr>\n",
       "    <tr>\n",
       "      <th>2</th>\n",
       "      <td>[футболка, piazza, italia, wr111111111]</td>\n",
       "      <td>[футболка]</td>\n",
       "      <td>[piazza, italia]</td>\n",
       "    </tr>\n",
       "    <tr>\n",
       "      <th>3</th>\n",
       "      <td>[yi111-11x-one, заколка, для, волос, для, дево...</td>\n",
       "      <td>[заколка]</td>\n",
       "      <td>[qklent]</td>\n",
       "    </tr>\n",
       "    <tr>\n",
       "      <th>4</th>\n",
       "      <td>[одежда, вес]</td>\n",
       "      <td>[одежда]</td>\n",
       "      <td>[qklent]</td>\n",
       "    </tr>\n",
       "    <tr>\n",
       "      <th>5</th>\n",
       "      <td>[русалочка, губка, трио, трехслой.1, шт, люкс]</td>\n",
       "      <td>[губка]</td>\n",
       "      <td>[русалочка]</td>\n",
       "    </tr>\n",
       "    <tr>\n",
       "      <th>6</th>\n",
       "      <td>[11-111, обои/art/п.п, белые, на, флизе, 1,11,...</td>\n",
       "      <td>[обои]</td>\n",
       "      <td>[qklent]</td>\n",
       "    </tr>\n",
       "    <tr>\n",
       "      <th>7</th>\n",
       "      <td>[квас, очаковский, пряная, зима, 1л]</td>\n",
       "      <td>[квас]</td>\n",
       "      <td>[очаковский]</td>\n",
       "    </tr>\n",
       "    <tr>\n",
       "      <th>8</th>\n",
       "      <td>[нб, маска+п/cosy/м-ив]</td>\n",
       "      <td>[маска]</td>\n",
       "      <td>[cosy]</td>\n",
       "    </tr>\n",
       "    <tr>\n",
       "      <th>9</th>\n",
       "      <td>[наконечник, вилочный, изолированный, нви, 1-1...</td>\n",
       "      <td>[наконечник]</td>\n",
       "      <td>[ekf]</td>\n",
       "    </tr>\n",
       "  </tbody>\n",
       "</table>\n",
       "</div>"
      ],
      "text/plain": [
       "                                                 name          good  \\\n",
       "id                                                                    \n",
       "0        [petmax, бантик, леопард, красн, розой, 1шт]      [бантик]   \n",
       "1                     [бусы, для, елки, шарики_11111]        [бусы]   \n",
       "2             [футболка, piazza, italia, wr111111111]    [футболка]   \n",
       "3   [yi111-11x-one, заколка, для, волос, для, дево...     [заколка]   \n",
       "4                                       [одежда, вес]      [одежда]   \n",
       "5      [русалочка, губка, трио, трехслой.1, шт, люкс]       [губка]   \n",
       "6   [11-111, обои/art/п.п, белые, на, флизе, 1,11,...        [обои]   \n",
       "7                [квас, очаковский, пряная, зима, 1л]        [квас]   \n",
       "8                             [нб, маска+п/cosy/м-ив]       [маска]   \n",
       "9   [наконечник, вилочный, изолированный, нви, 1-1...  [наконечник]   \n",
       "\n",
       "               brand  \n",
       "id                    \n",
       "0           [petmax]  \n",
       "1           [qklent]  \n",
       "2   [piazza, italia]  \n",
       "3           [qklent]  \n",
       "4           [qklent]  \n",
       "5        [русалочка]  \n",
       "6           [qklent]  \n",
       "7       [очаковский]  \n",
       "8             [cosy]  \n",
       "9              [ekf]  "
      ]
     },
     "execution_count": 73,
     "metadata": {},
     "output_type": "execute_result"
    }
   ],
   "source": [
    "df_new[:10]"
   ]
  },
  {
   "cell_type": "code",
   "execution_count": null,
   "id": "9d331d12",
   "metadata": {},
   "outputs": [],
   "source": []
  }
 ],
 "metadata": {
  "kernelspec": {
   "display_name": "Python 3 (ipykernel)",
   "language": "python",
   "name": "python3"
  },
  "language_info": {
   "codemirror_mode": {
    "name": "ipython",
    "version": 3
   },
   "file_extension": ".py",
   "mimetype": "text/x-python",
   "name": "python",
   "nbconvert_exporter": "python",
   "pygments_lexer": "ipython3",
   "version": "3.11.3"
  },
  "toc": {
   "base_numbering": 1,
   "nav_menu": {},
   "number_sections": true,
   "sideBar": true,
   "skip_h1_title": false,
   "title_cell": "Table of Contents",
   "title_sidebar": "Contents",
   "toc_cell": false,
   "toc_position": {},
   "toc_section_display": true,
   "toc_window_display": false
  }
 },
 "nbformat": 4,
 "nbformat_minor": 5
}
